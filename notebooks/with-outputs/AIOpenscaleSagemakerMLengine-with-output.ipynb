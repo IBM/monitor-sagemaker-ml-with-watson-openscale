{
 "cells": [
  {
   "cell_type": "markdown",
   "metadata": {},
   "source": [
    "<img src=\"https://github.com/pmservice/ai-openscale-tutorials/raw/master/notebooks/images/banner.png\" align=\"left\" alt=\"banner\">"
   ]
  },
  {
   "cell_type": "markdown",
   "metadata": {},
   "source": [
    "# Working with SageMaker Machine Learning engine"
   ]
  },
  {
   "cell_type": "markdown",
   "metadata": {},
   "source": [
    "This notebook works correctly with kernel `Python 3.7.x`. It shows how to log the payload for the model deployed on custom model serving engine using Watson OpenScale python sdk."
   ]
  },
  {
   "cell_type": "markdown",
   "metadata": {},
   "source": [
    "Contents\n",
    "- Setup\n",
    "- Binding machine learning engine\n",
    "- Subscriptions\n",
    "- Performance monitor, scoring and payload logging\n",
    "- Quality monitor and feedback logging\n",
    "- Fairness, Drift monitoring and explanations"
   ]
  },
  {
   "cell_type": "markdown",
   "metadata": {},
   "source": [
    "<a id=\"setup\"></a>\n",
    "## 1. Setup"
   ]
  },
  {
   "cell_type": "markdown",
   "metadata": {},
   "source": [
    "### Requirements installation"
   ]
  },
  {
   "cell_type": "code",
   "execution_count": 2,
   "metadata": {},
   "outputs": [
    {
     "name": "stdout",
     "output_type": "stream",
     "text": [
      "Requirement already satisfied: pox>=0.3.0 in /opt/conda/envs/Python-3.8-main/lib/python3.8/site-packages (from pathos->sagemaker) (0.3.0)\n",
      "Requirement already satisfied: idna<3,>=2.5 in /opt/conda/envs/Python-3.8-main/lib/python3.8/site-packages (from requests<3.0,>=2.0->ibm-watson-openscale) (2.8)\n",
      "Requirement already satisfied: six>=1.5 in /opt/conda/envs/Python-3.8-main/lib/python3.8/site-packages (from python-dateutil<3.0.0,>=2.1->botocore<1.22.0,>=1.21.14->boto3) (1.15.0)\n",
      "\u001b[31mERROR: pip's dependency resolver does not currently take into account all the packages that are installed. This behaviour is the source of the following dependency conflicts.\n",
      "sparkmagic 0.18.0 requires nose, which is not installed.\n",
      "hdijupyterutils 0.18.0 requires jupyter>=1, which is not installed.\n",
      "hdijupyterutils 0.18.0 requires nose, which is not installed.\u001b[0m\n",
      "Successfully installed pandas-1.2.5\n"
     ]
    }
   ],
   "source": [
    "!pip install sagemaker --no-cache | tail -n 1\n",
    "!pip install --upgrade ibm-watson-openscale --no-cache | tail -n 1\n",
    "!pip install --upgrade boto3 --no-cache | tail -n 1\n",
    "!pip install -U pandas==1.2.5 | tail -n 1"
   ]
  },
  {
   "cell_type": "markdown",
   "metadata": {},
   "source": [
    "**Action:** Restart the kernel."
   ]
  },
  {
   "cell_type": "markdown",
   "metadata": {},
   "source": [
    "### Sample model creation using [Amazon SageMaker](https://aws.amazon.com/sagemaker/)"
   ]
  },
  {
   "cell_type": "markdown",
   "metadata": {},
   "source": [
    "- Download this [notebook](https://github.com/IBM/watson-openscale-samples/blob/main/IBM%20Cloud/AWS%20Sagemaker/notebooks/Credit%20%20model%20with%20SageMaker%20linear-learner%20.ipynb) to create SageMaker model\n",
    "- Run the notebook to train a SageMaker model and create deployment endpoint for online inference"
   ]
  },
  {
   "cell_type": "markdown",
   "metadata": {},
   "source": [
    "### 1.2 Authentication"
   ]
  },
  {
   "cell_type": "markdown",
   "metadata": {},
   "source": [
    "Import and initiate."
   ]
  },
  {
   "cell_type": "markdown",
   "metadata": {},
   "source": [
    "#### ACTION: Get OpenScale `instance_guid` and `apikey`\n",
    "\n",
    "How to install IBM Cloud (bluemix) console: [instruction](https://console.bluemix.net/docs/cli/reference/ibmcloud/download_cli.html#install_use)\n",
    "\n",
    "How to get api key using bluemix console:\n",
    "```bash\n",
    "ibmcloud login --sso\n",
    "ibmcloud iam api-key-create 'my_key'\n",
    "```\n",
    "\n",
    "How to get your OpenScale instance GUID\n",
    "\n",
    "- if your resource group is different than `default` switch to resource group containing OpenScale instance\n",
    "```bash\n",
    "ibmcloud target -g <myResourceGroup>\n",
    "```\n",
    "- get details of the instance\n",
    "```bash\n",
    "ibmcloud resource service-instance 'AI-OpenScale-instance_name'\n",
    "```"
   ]
  },
  {
   "cell_type": "code",
   "execution_count": 26,
   "metadata": {},
   "outputs": [],
   "source": [
    "CLOUD_API_KEY = '******'"
   ]
  },
  {
   "cell_type": "code",
   "execution_count": 2,
   "metadata": {},
   "outputs": [],
   "source": [
    "DB_CREDENTIALS=None\n",
    "#DB_CREDENTIALS= {\"hostname\":\"\",\"username\":\"\",\"password\":\"\",\"database\":\"\",\"port\":\"\",\"ssl\":True,\"sslmode\":\"\",\"certificate_base64\":\"\"}"
   ]
  },
  {
   "cell_type": "code",
   "execution_count": 3,
   "metadata": {},
   "outputs": [],
   "source": [
    "SCHEMA_NAME = 'data_mart_for_aws_sagemaker'"
   ]
  },
  {
   "cell_type": "code",
   "execution_count": 4,
   "metadata": {},
   "outputs": [],
   "source": [
    "IAM_URL=\"https://iam.ng.bluemix.net/oidc/token\"\n",
    "COS_RESOURCE_CRN=\"<COS_RESOURCE_CRN>\"\n",
    "COS_API_KEY_ID = \"<COS_API_KEY_ID>\"\n",
    "COS_ENDPOINT = \"https://<URL>\" # Current list avaiable at https://control.cloud-object-storage.cloud.ibm.com/v2/endpoints"
   ]
  },
  {
   "cell_type": "code",
   "execution_count": 16,
   "metadata": {},
   "outputs": [],
   "source": [
    "BUCKET_NAME = \"******\" #example: \"<name>-<date>-credit-risk-training-data\"\n",
    "training_data_file_name=\"credit_risk_training_recoded.csv\""
   ]
  },
  {
   "cell_type": "code",
   "execution_count": 7,
   "metadata": {},
   "outputs": [
    {
     "name": "stdout",
     "output_type": "stream",
     "text": [
      "--2021-08-05 19:03:28--  https://raw.githubusercontent.com/IBM/watson-openscale-samples/main/IBM%20Cloud/AWS%20Sagemaker/assets/data/credit_risk_aws/credit_risk_training_recoded.csv\n",
      "Resolving raw.githubusercontent.com (raw.githubusercontent.com)... 185.199.109.133, 185.199.108.133, 185.199.111.133, ...\n",
      "Connecting to raw.githubusercontent.com (raw.githubusercontent.com)|185.199.109.133|:443... connected.\n",
      "HTTP request sent, awaiting response... 200 OK\n",
      "Length: 639376 (624K) [text/plain]\n",
      "Saving to: ‘credit_risk_training_recoded.csv’\n",
      "\n",
      "credit_risk_trainin 100%[===================>] 624.39K  --.-KB/s    in 0.009s  \n",
      "\n",
      "2021-08-05 19:03:28 (67.0 MB/s) - ‘credit_risk_training_recoded.csv’ saved [639376/639376]\n",
      "\n"
     ]
    }
   ],
   "source": [
    "!rm credit_risk_training_recoded.csv\n",
    "!wget \"https://raw.githubusercontent.com/IBM/watson-openscale-samples/main/IBM%20Cloud/AWS%20Sagemaker/assets/data/credit_risk_aws/credit_risk_training_recoded.csv\""
   ]
  },
  {
   "cell_type": "markdown",
   "metadata": {},
   "source": [
    "### Store training data in COS for OpenScale reference"
   ]
  },
  {
   "cell_type": "code",
   "execution_count": 21,
   "metadata": {},
   "outputs": [],
   "source": [
    "import ibm_boto3\n",
    "from ibm_botocore.client import Config, ClientError\n",
    "\n",
    "cos_client = ibm_boto3.resource(\"s3\",\n",
    "    ibm_api_key_id=COS_API_KEY_ID,\n",
    "    ibm_service_instance_id=COS_RESOURCE_CRN,\n",
    "    ibm_auth_endpoint=\"https://iam.bluemix.net/oidc/token\",\n",
    "    config=Config(signature_version=\"oauth\"),\n",
    "    endpoint_url=COS_ENDPOINT\n",
    ")"
   ]
  },
  {
   "cell_type": "code",
   "execution_count": 22,
   "metadata": {},
   "outputs": [
    {
     "data": {
      "text/plain": [
       "'scottda-aws-openscale-8-5-2021'"
      ]
     },
     "execution_count": 22,
     "metadata": {},
     "output_type": "execute_result"
    }
   ],
   "source": [
    "BUCKET_NAME"
   ]
  },
  {
   "cell_type": "code",
   "execution_count": 23,
   "metadata": {},
   "outputs": [],
   "source": [
    "with open(training_data_file_name, \"rb\") as file_data:\n",
    "    cos_client.Object(BUCKET_NAME, training_data_file_name).upload_fileobj(\n",
    "        Fileobj=file_data\n",
    "    )"
   ]
  },
  {
   "cell_type": "markdown",
   "metadata": {},
   "source": [
    "### Initiate OpenScale client"
   ]
  },
  {
   "cell_type": "code",
   "execution_count": 27,
   "metadata": {},
   "outputs": [
    {
     "data": {
      "text/plain": [
       "'3.0.9'"
      ]
     },
     "execution_count": 27,
     "metadata": {},
     "output_type": "execute_result"
    }
   ],
   "source": [
    "from ibm_cloud_sdk_core.authenticators import IAMAuthenticator,CloudPakForDataAuthenticator\n",
    "\n",
    "from ibm_watson_openscale import *\n",
    "from ibm_watson_openscale.supporting_classes.enums import *\n",
    "from ibm_watson_openscale.supporting_classes import *\n",
    "\n",
    "authenticator = IAMAuthenticator(apikey=CLOUD_API_KEY)\n",
    "wos_client = APIClient(authenticator=authenticator,service_url=\"https://aiopenscale.cloud.ibm.com\")\n",
    "wos_client.version"
   ]
  },
  {
   "cell_type": "markdown",
   "metadata": {},
   "source": [
    "Create schema for data mart."
   ]
  },
  {
   "cell_type": "code",
   "execution_count": 28,
   "metadata": {},
   "outputs": [
    {
     "data": {
      "text/html": [
       "<HTML>\n",
       "        <body>\n",
       "            <h3>Data Marts</h3>\n",
       "            <table style='border: 1px solid #dddddd; font-family: Courier'>\n",
       "                <th style='border: 1px solid #dddddd'>name</th><th style='border: 1px solid #dddddd'>description</th><th style='border: 1px solid #dddddd'>internal_database</th><th style='border: 1px solid #dddddd'>status</th><th style='border: 1px solid #dddddd'>created_at</th><th style='border: 1px solid #dddddd'>id</th>\n",
       "                <tr><td style='border: 1px solid #dddddd'>WOS Data Mart</td><td style='border: 1px solid #dddddd'>Data Mart created by WOS tutorial notebook</td><td style='border: 1px solid #dddddd'>True</td><td style='border: 1px solid #dddddd'>active</td><td style='border: 1px solid #dddddd'>2021-07-27 18:41:18.400000+00:00</td><td style='border: 1px solid #dddddd'>a08b0e60-6844-4c14-81cb-a3a6c9d199f9</td></tr>\n",
       "            </table>\n",
       "        </body>\n",
       "        </HTML>"
      ],
      "text/plain": [
       "<IPython.core.display.HTML object>"
      ]
     },
     "metadata": {},
     "output_type": "display_data"
    }
   ],
   "source": [
    "wos_client.data_marts.show()"
   ]
  },
  {
   "cell_type": "code",
   "execution_count": 29,
   "metadata": {},
   "outputs": [
    {
     "name": "stdout",
     "output_type": "stream",
     "text": [
      "Using existing datamart a08b0e60-6844-4c14-81cb-a3a6c9d199f9\n"
     ]
    }
   ],
   "source": [
    "data_marts = wos_client.data_marts.list().result.data_marts\n",
    "if len(data_marts) == 0:\n",
    "    if DB_CREDENTIALS is not None:\n",
    "        if SCHEMA_NAME is None: \n",
    "            print(\"Please specify the SCHEMA_NAME and rerun the cell\")\n",
    "\n",
    "        print('Setting up external datamart')\n",
    "        added_data_mart_result = wos_client.data_marts.add(\n",
    "                background_mode=False,\n",
    "                name=\"WOS Data Mart\",\n",
    "                description=\"Data Mart created by WOS tutorial notebook\",\n",
    "                database_configuration=DatabaseConfigurationRequest(\n",
    "                  database_type=DatabaseType.POSTGRESQL, # For DB2 use DatabaseType.DB2\n",
    "                    credentials=PrimaryStorageCredentialsLong(\n",
    "                        hostname=DB_CREDENTIALS['hostname'],\n",
    "                        username=DB_CREDENTIALS['username'],\n",
    "                        password=DB_CREDENTIALS['password'],\n",
    "                        db=DB_CREDENTIALS['database'],\n",
    "                        port=DB_CREDENTIALS['port'],\n",
    "                        ssl=True,\n",
    "                        sslmode=DB_CREDENTIALS['sslmode'],\n",
    "                        certificate_base64=DB_CREDENTIALS['certificate_base64']\n",
    "                    ),\n",
    "                    location=LocationSchemaName(\n",
    "                        schema_name= SCHEMA_NAME\n",
    "                    )\n",
    "                )\n",
    "             ).result\n",
    "    else:\n",
    "        print('Setting up internal datamart')\n",
    "        added_data_mart_result = wos_client.data_marts.add(\n",
    "                background_mode=False,\n",
    "                name=\"WOS Data Mart\",\n",
    "                description=\"Data Mart created by WOS tutorial notebook\", \n",
    "                internal_database = True).result\n",
    "        \n",
    "    data_mart_id = added_data_mart_result.metadata.id\n",
    "    \n",
    "else:\n",
    "    data_mart_id=data_marts[0].metadata.id\n",
    "    print('Using existing datamart {}'.format(data_mart_id))"
   ]
  },
  {
   "cell_type": "code",
   "execution_count": 30,
   "metadata": {},
   "outputs": [
    {
     "data": {
      "text/plain": [
       "{'metadata': {'id': 'a08b0e60-6844-4c14-81cb-a3a6c9d199f9',\n",
       "  'crn': 'crn:v1:bluemix:public:aiopenscale:us-south:a/46816354d9cb773bae86c226aa74c8cc:a08b0e60-6844-4c14-81cb-a3a6c9d199f9:data_mart:a08b0e60-6844-4c14-81cb-a3a6c9d199f9',\n",
       "  'url': '/v2/data_marts/a08b0e60-6844-4c14-81cb-a3a6c9d199f9',\n",
       "  'created_at': '2021-07-27T18:41:18.400000Z',\n",
       "  'created_by': 'IBMid-50M71Q0T71'},\n",
       " 'entity': {'name': 'WOS Data Mart',\n",
       "  'description': 'Data Mart created by WOS tutorial notebook',\n",
       "  'service_instance_crn': 'crn:v1:bluemix:public:aiopenscale:us-south:a/46816354d9cb773bae86c226aa74c8cc:a08b0e60-6844-4c14-81cb-a3a6c9d199f9::',\n",
       "  'internal_database': True,\n",
       "  'database_configuration': {'database_type': 'postgresql',\n",
       "   'credentials': {'secret_id': 'b4e5fd2f-5f71-442b-825b-74e3703edea4'},\n",
       "   'location': {'schema_name': 'a08b0e60-6844-4c14-81cb-a3a6c9d199f9'}},\n",
       "  'status': {'state': 'active'}}}"
      ]
     },
     "execution_count": 30,
     "metadata": {},
     "output_type": "execute_result"
    }
   ],
   "source": [
    "wos_client.data_marts.get(data_mart_id).result.to_dict()"
   ]
  },
  {
   "cell_type": "markdown",
   "metadata": {},
   "source": [
    "<a id=\"binding\"></a>\n",
    "## 2. Bind machine learning engines"
   ]
  },
  {
   "cell_type": "markdown",
   "metadata": {},
   "source": [
    "### Bind  `SageMaker` machine learning engine\n",
    "\n",
    "Provide credentials using following fields:\n",
    "- `access_key_id`\n",
    "- `secret_access_key`\n",
    "- `region`"
   ]
  },
  {
   "cell_type": "code",
   "execution_count": null,
   "metadata": {},
   "outputs": [],
   "source": [
    "SAGEMAKER_ENGINE_CREDENTIALS = {\n",
    "                   'access_key_id': '<ACCESS_KEY_ID>', \n",
    "                   'secret_access_key': '<SECRET_ACCESS_KEY>', \n",
    "                   'region': '<REGION>'}"
   ]
  },
  {
   "cell_type": "code",
   "execution_count": 32,
   "metadata": {},
   "outputs": [],
   "source": [
    "SERVICE_PROVIDER_NAME = \"AWS Machine Learning\"\n",
    "SERVICE_PROVIDER_DESCRIPTION = \"Added by AWS tutorial WOS notebook.\""
   ]
  },
  {
   "cell_type": "code",
   "execution_count": 33,
   "metadata": {},
   "outputs": [],
   "source": [
    "service_providers = wos_client.service_providers.list().result.service_providers\n",
    "for service_provider in service_providers:\n",
    "    service_instance_name = service_provider.entity.name\n",
    "    if service_instance_name == SERVICE_PROVIDER_NAME:\n",
    "        service_provider_id = service_provider.metadata.id\n",
    "        wos_client.service_providers.delete(service_provider_id)\n",
    "        print(\"Deleted existing service_provider for WML instance: {}\".format(service_provider_id))"
   ]
  },
  {
   "cell_type": "code",
   "execution_count": 34,
   "metadata": {},
   "outputs": [
    {
     "name": "stdout",
     "output_type": "stream",
     "text": [
      "\n",
      "\n",
      "=================================================================================\n",
      "\n",
      " Waiting for end of adding service provider 1f0fa78b-7f25-402a-85df-6ff7016848c7 \n",
      "\n",
      "=================================================================================\n",
      "\n",
      "\n",
      "\n",
      "active\n",
      "\n",
      "-----------------------------------------------\n",
      " Successfully finished adding service provider \n",
      "-----------------------------------------------\n",
      "\n",
      "\n",
      "Service Provider id  1f0fa78b-7f25-402a-85df-6ff7016848c7\n"
     ]
    }
   ],
   "source": [
    "added_service_provider_result=wos_client.service_providers.add(\n",
    "        name=SERVICE_PROVIDER_NAME,\n",
    "        description=\"AWS Service Provider\",\n",
    "        service_type=ServiceTypes.AMAZON_SAGEMAKER,\n",
    "        credentials=SageMakerCredentials(\n",
    "            access_key_id=SAGEMAKER_ENGINE_CREDENTIALS['access_key_id'],\n",
    "            secret_access_key=SAGEMAKER_ENGINE_CREDENTIALS['secret_access_key'],\n",
    "            region=SAGEMAKER_ENGINE_CREDENTIALS['region']\n",
    "        ),\n",
    "        background_mode=False\n",
    "    ).result\n",
    "\n",
    "\n",
    "\n",
    "service_provider_id = added_service_provider_result.metadata.id\n",
    "print(\"Service Provider id \", service_provider_id)"
   ]
  },
  {
   "cell_type": "code",
   "execution_count": 36,
   "metadata": {
    "scrolled": true
   },
   "outputs": [
    {
     "data": {
      "text/html": [
       "<HTML>\n",
       "        <body>\n",
       "            <h3>Service Providers</h3>\n",
       "            <table style='border: 1px solid #dddddd; font-family: Courier'>\n",
       "                <th style='border: 1px solid #dddddd'>instance_id</th><th style='border: 1px solid #dddddd'>status</th><th style='border: 1px solid #dddddd'>name</th><th style='border: 1px solid #dddddd'>service_type</th><th style='border: 1px solid #dddddd'>created_at</th><th style='border: 1px solid #dddddd'>id</th>\n",
       "                <tr><td style='border: 1px solid #dddddd'>None</td><td style='border: 1px solid #dddddd'>active</td><td style='border: 1px solid #dddddd'>AWS Machine Learning</td><td style='border: 1px solid #dddddd'>amazon_sagemaker</td><td style='border: 1px solid #dddddd'>2021-08-05 19:15:49.219000+00:00</td><td style='border: 1px solid #dddddd'>1f0fa78b-7f25-402a-85df-6ff7016848c7</td></tr><tr><td style='border: 1px solid #dddddd'>None</td><td style='border: 1px solid #dddddd'>active</td><td style='border: 1px solid #dddddd'>Azure Machine Learning</td><td style='border: 1px solid #dddddd'>azure_machine_learning</td><td style='border: 1px solid #dddddd'>2021-07-29 12:50:37.092000+00:00</td><td style='border: 1px solid #dddddd'>ba1b62a0-2a80-414e-9177-bcf71d5a8909</td></tr>\n",
       "            </table>\n",
       "        </body>\n",
       "        </HTML>"
      ],
      "text/plain": [
       "<IPython.core.display.HTML object>"
      ]
     },
     "metadata": {},
     "output_type": "display_data"
    }
   ],
   "source": [
    "wos_client.service_providers.show()"
   ]
  },
  {
   "cell_type": "code",
   "execution_count": 35,
   "metadata": {},
   "outputs": [
    {
     "data": {
      "text/plain": [
       "{'resources': [{'metadata': {'guid': '44cbb38bb2c81f10236feaff987a5bb9',\n",
       "    'url': 'Credit-risk-endpoint-scoring-2021-08-05-17-39',\n",
       "    'created_at': '2021-08-05T18:04:15.144Z',\n",
       "    'modified_at': '2021-08-05T18:11:23.172Z'},\n",
       "   'entity': {'name': 'Credit-risk-endpoint-scoring-2021-08-05-17-39',\n",
       "    'deployment_rn': 'arn:aws:sagemaker:us-east-2:593389159126:endpoint/credit-risk-endpoint-scoring-2021-08-05-17-39',\n",
       "    'type': 'online',\n",
       "    'scoring_endpoint': {'url': 'Credit-risk-endpoint-scoring-2021-08-05-17-39'},\n",
       "    'asset': {'asset_id': '9345b2a3d122475ee4ea44be26d16df4',\n",
       "     'asset_rn': 'arn:aws:sagemaker:us-east-2:593389159126:model/credit-risk-linear-learner-2021-08-05-17-39',\n",
       "     'url': 's3://sagemaker-us-east-2-593389159126/credit-risk/output/Credit-risk-linear-learner-2021-08-05-17-39/output/model.tar.gz',\n",
       "     'name': 'Credit-risk-linear-learner-2021-08-05-17-39',\n",
       "     'asset_type': 'model',\n",
       "     'created_at': '2021-08-05T18:04:07.177Z'},\n",
       "    'asset_properties': {'asset_revision': '1628187083172'}}}],\n",
       " 'count': 1}"
      ]
     },
     "execution_count": 35,
     "metadata": {},
     "output_type": "execute_result"
    }
   ],
   "source": [
    "asset_deployment_details = wos_client.service_providers.list_assets(data_mart_id=data_mart_id, service_provider_id=service_provider_id).result\n",
    "asset_deployment_details"
   ]
  },
  {
   "cell_type": "code",
   "execution_count": 37,
   "metadata": {},
   "outputs": [
    {
     "data": {
      "text/plain": [
       "{'metadata': {'guid': '44cbb38bb2c81f10236feaff987a5bb9',\n",
       "  'url': 'Credit-risk-endpoint-scoring-2021-08-05-17-39',\n",
       "  'created_at': '2021-08-05T18:04:15.144Z',\n",
       "  'modified_at': '2021-08-05T18:11:23.172Z'},\n",
       " 'entity': {'name': 'Credit-risk-endpoint-scoring-2021-08-05-17-39',\n",
       "  'deployment_rn': 'arn:aws:sagemaker:us-east-2:593389159126:endpoint/credit-risk-endpoint-scoring-2021-08-05-17-39',\n",
       "  'type': 'online',\n",
       "  'scoring_endpoint': {'url': 'Credit-risk-endpoint-scoring-2021-08-05-17-39'},\n",
       "  'asset': {'asset_id': '9345b2a3d122475ee4ea44be26d16df4',\n",
       "   'asset_rn': 'arn:aws:sagemaker:us-east-2:593389159126:model/credit-risk-linear-learner-2021-08-05-17-39',\n",
       "   'url': 's3://sagemaker-us-east-2-593389159126/credit-risk/output/Credit-risk-linear-learner-2021-08-05-17-39/output/model.tar.gz',\n",
       "   'name': 'Credit-risk-linear-learner-2021-08-05-17-39',\n",
       "   'asset_type': 'model',\n",
       "   'created_at': '2021-08-05T18:04:07.177Z'},\n",
       "  'asset_properties': {'asset_revision': '1628187083172'}}}"
      ]
     },
     "execution_count": 37,
     "metadata": {},
     "output_type": "execute_result"
    }
   ],
   "source": [
    "deployment_id='44cbb38bb2c81f10236feaff987a5bb9' # Get GUID for the deployment created using the other notebook \"Credit model with SageMaker linear-learner.ipynb\"\n",
    "for model_asset_details in asset_deployment_details['resources']:\n",
    "    if model_asset_details['metadata']['guid']==deployment_id:\n",
    "        break\n",
    "model_asset_details"
   ]
  },
  {
   "cell_type": "markdown",
   "metadata": {},
   "source": [
    "<a id=\"subsciption\"></a>\n",
    "## 3. Subscriptions"
   ]
  },
  {
   "cell_type": "markdown",
   "metadata": {},
   "source": [
    "### Add subscriptions"
   ]
  },
  {
   "cell_type": "markdown",
   "metadata": {},
   "source": [
    "List available deployments.\n",
    "\n",
    "**Note:** Depending on number of assets it may take some time."
   ]
  },
  {
   "cell_type": "code",
   "execution_count": 38,
   "metadata": {},
   "outputs": [],
   "source": [
    "aws_asset = Asset(\n",
    "        asset_id=model_asset_details['entity']['asset']['asset_id'],\n",
    "        name=model_asset_details['entity']['asset']['name'],\n",
    "        url=model_asset_details['entity']['asset']['url'],\n",
    "        asset_type=model_asset_details['entity']['asset']['asset_type'] if 'asset_type' in model_asset_details['entity']['asset'] else 'model',\n",
    "        problem_type=ProblemType.BINARY_CLASSIFICATION,\n",
    "        input_data_type=InputDataType.STRUCTURED,\n",
    "    )"
   ]
  },
  {
   "cell_type": "code",
   "execution_count": 39,
   "metadata": {},
   "outputs": [],
   "source": [
    "from ibm_watson_openscale.base_classes.watson_open_scale_v2 import ScoringEndpointRequest\n",
    "deployment_scoring_endpoint = model_asset_details['entity']['scoring_endpoint']\n",
    "scoring_endpoint = ScoringEndpointRequest(url = model_asset_details['entity']['scoring_endpoint']['url'] )"
   ]
  },
  {
   "cell_type": "code",
   "execution_count": 40,
   "metadata": {},
   "outputs": [],
   "source": [
    "deployment = AssetDeploymentRequest(\n",
    "        deployment_id=model_asset_details['metadata']['guid'],\n",
    "        url=model_asset_details['metadata']['url'],\n",
    "        name=model_asset_details['entity']['name'],\n",
    "        deployment_type=model_asset_details['entity']['type'],\n",
    "        scoring_endpoint =  scoring_endpoint\n",
    "    )"
   ]
  },
  {
   "cell_type": "code",
   "execution_count": 41,
   "metadata": {},
   "outputs": [],
   "source": [
    "training_data_reference = TrainingDataReference(type='cos',\n",
    "                                              location=COSTrainingDataReferenceLocation(bucket = BUCKET_NAME,\n",
    "                                                                                        file_name = training_data_file_name),\n",
    "                                              connection=COSTrainingDataReferenceConnection(\n",
    "                                                                        resource_instance_id= COS_RESOURCE_CRN,\n",
    "                                                                        url= COS_ENDPOINT,\n",
    "                                                                        api_key= COS_API_KEY_ID,\n",
    "                                                                        iam_url=IAM_URL)\n",
    "                                               )"
   ]
  },
  {
   "cell_type": "code",
   "execution_count": 42,
   "metadata": {},
   "outputs": [],
   "source": [
    "feature_columns = ['CheckingStatus_0_to_200', 'CheckingStatus_greater_200', 'CheckingStatus_less_0', 'CheckingStatus_no_checking', 'CreditHistory_all_credits_paid_back', 'CreditHistory_credits_paid_to_date', 'CreditHistory_no_credits', 'CreditHistory_outstanding_credit', 'CreditHistory_prior_payments_delayed', 'LoanPurpose_appliances', 'LoanPurpose_business', 'LoanPurpose_car_new', 'LoanPurpose_car_used', 'LoanPurpose_education', 'LoanPurpose_furniture', 'LoanPurpose_other', 'LoanPurpose_radio_tv', 'LoanPurpose_repairs', 'LoanPurpose_retraining', 'LoanPurpose_vacation', 'ExistingSavings_100_to_500', 'ExistingSavings_500_to_1000', 'ExistingSavings_greater_1000', 'ExistingSavings_less_100', 'ExistingSavings_unknown', 'EmploymentDuration_1_to_4', 'EmploymentDuration_4_to_7', 'EmploymentDuration_greater_7', 'EmploymentDuration_less_1', 'EmploymentDuration_unemployed', 'Sex_female', 'Sex_male', 'OthersOnLoan_co-applicant', 'OthersOnLoan_guarantor', 'OthersOnLoan_none', 'OwnsProperty_car_other', 'OwnsProperty_real_estate', 'OwnsProperty_savings_insurance', 'OwnsProperty_unknown', 'InstallmentPlans_bank', 'InstallmentPlans_none', 'InstallmentPlans_stores', 'Housing_free', 'Housing_own', 'Housing_rent', 'Job_management_self-employed', 'Job_skilled', 'Job_unemployed', 'Job_unskilled', 'Telephone_none', 'Telephone_yes', 'ForeignWorker_no', 'ForeignWorker_yes', 'LoanDuration', 'LoanAmount', 'InstallmentPercent', 'CurrentResidenceDuration', 'Age', 'ExistingCreditsCount', 'Dependents']\n",
    "categorical_columns = ['CheckingStatus_0_to_200', 'CheckingStatus_greater_200', 'CheckingStatus_less_0', 'CheckingStatus_no_checking', 'CreditHistory_all_credits_paid_back', 'CreditHistory_credits_paid_to_date', 'CreditHistory_no_credits', 'CreditHistory_outstanding_credit', 'CreditHistory_prior_payments_delayed', 'LoanPurpose_appliances', 'LoanPurpose_business', 'LoanPurpose_car_new', 'LoanPurpose_car_used', 'LoanPurpose_education', 'LoanPurpose_furniture', 'LoanPurpose_other', 'LoanPurpose_radio_tv', 'LoanPurpose_repairs', 'LoanPurpose_retraining', 'LoanPurpose_vacation', 'ExistingSavings_100_to_500', 'ExistingSavings_500_to_1000', 'ExistingSavings_greater_1000', 'ExistingSavings_less_100', 'ExistingSavings_unknown', 'EmploymentDuration_1_to_4', 'EmploymentDuration_4_to_7', 'EmploymentDuration_greater_7', 'EmploymentDuration_less_1', 'EmploymentDuration_unemployed', 'Sex_female', 'Sex_male', 'OthersOnLoan_co-applicant', 'OthersOnLoan_guarantor', 'OthersOnLoan_none', 'OwnsProperty_car_other', 'OwnsProperty_real_estate', 'OwnsProperty_savings_insurance', 'OwnsProperty_unknown', 'InstallmentPlans_bank', 'InstallmentPlans_none', 'InstallmentPlans_stores', 'Housing_free', 'Housing_own', 'Housing_rent', 'Job_management_self-employed', 'Job_skilled', 'Job_unemployed', 'Job_unskilled', 'Telephone_none', 'Telephone_yes', 'ForeignWorker_no', 'ForeignWorker_yes']"
   ]
  },
  {
   "cell_type": "code",
   "execution_count": 43,
   "metadata": {},
   "outputs": [],
   "source": [
    "asset_properties = AssetPropertiesRequest(\n",
    "        label_column=\"Risk\",\n",
    "        prediction_field='predicted_label',\n",
    "        probability_fields=['score'],\n",
    "        training_data_reference=training_data_reference,\n",
    "        training_data_schema=None,\n",
    "        input_data_schema=None,\n",
    "        output_data_schema=None,\n",
    "        feature_fields=feature_columns,\n",
    "        categorical_fields=categorical_columns\n",
    "    )"
   ]
  },
  {
   "cell_type": "code",
   "execution_count": 44,
   "metadata": {},
   "outputs": [
    {
     "name": "stdout",
     "output_type": "stream",
     "text": [
      "\n",
      "\n",
      "=============================================================================\n",
      "\n",
      " Waiting for end of adding subscription c45582ad-79dc-42ef-8c43-496042f1e532 \n",
      "\n",
      "=============================================================================\n",
      "\n",
      "\n",
      "\n",
      "active\n",
      "\n",
      "-------------------------------------------\n",
      " Successfully finished adding subscription \n",
      "-------------------------------------------\n",
      "\n",
      "\n"
     ]
    },
    {
     "data": {
      "text/plain": [
       "'c45582ad-79dc-42ef-8c43-496042f1e532'"
      ]
     },
     "execution_count": 44,
     "metadata": {},
     "output_type": "execute_result"
    }
   ],
   "source": [
    "subscription_details = wos_client.subscriptions.add(\n",
    "        data_mart_id=data_mart_id,\n",
    "        service_provider_id=service_provider_id,\n",
    "        asset=aws_asset,\n",
    "        deployment=deployment,\n",
    "        asset_properties=asset_properties,\n",
    "        background_mode=False\n",
    ").result\n",
    "subscription_id = subscription_details.metadata.id\n",
    "subscription_id"
   ]
  },
  {
   "cell_type": "markdown",
   "metadata": {},
   "source": [
    "#### List subscriptions"
   ]
  },
  {
   "cell_type": "code",
   "execution_count": 45,
   "metadata": {},
   "outputs": [
    {
     "data": {
      "text/html": [
       "<HTML>\n",
       "        <body>\n",
       "            <h3>Subscriptions</h3>\n",
       "            <table style='border: 1px solid #dddddd; font-family: Courier'>\n",
       "                <th style='border: 1px solid #dddddd'>asset_id</th><th style='border: 1px solid #dddddd'>asset_name</th><th style='border: 1px solid #dddddd'>data_mart_id</th><th style='border: 1px solid #dddddd'>deployment_id</th><th style='border: 1px solid #dddddd'>deployment_name</th><th style='border: 1px solid #dddddd'>service_provider_id</th><th style='border: 1px solid #dddddd'>status</th><th style='border: 1px solid #dddddd'>created_at</th><th style='border: 1px solid #dddddd'>id</th>\n",
       "                <tr><td style='border: 1px solid #dddddd'>9345b2a3d122475ee4ea44be26d16df4</td><td style='border: 1px solid #dddddd'>Credit-risk-linear-learner-2021-08-05-17-39</td><td style='border: 1px solid #dddddd'>a08b0e60-6844-4c14-81cb-a3a6c9d199f9</td><td style='border: 1px solid #dddddd'>44cbb38bb2c81f10236feaff987a5bb9</td><td style='border: 1px solid #dddddd'>Credit-risk-endpoint-scoring-2021-08-05-17-39</td><td style='border: 1px solid #dddddd'>1f0fa78b-7f25-402a-85df-6ff7016848c7</td><td style='border: 1px solid #dddddd'>active</td><td style='border: 1px solid #dddddd'>2021-08-05 19:18:49.703000+00:00</td><td style='border: 1px solid #dddddd'>c45582ad-79dc-42ef-8c43-496042f1e532</td></tr><tr><td style='border: 1px solid #dddddd'>6de5e798b8b64cc5d09e91734a149197</td><td style='border: 1px solid #dddddd'>DaveGermanCredit.2019.2.12.17.16.52.617</td><td style='border: 1px solid #dddddd'>a08b0e60-6844-4c14-81cb-a3a6c9d199f9</td><td style='border: 1px solid #dddddd'>9764f091ac3099d6c5182764c7b97f90</td><td style='border: 1px solid #dddddd'>DaveGermanCredit.2019.2.12.17.16.52.617</td><td style='border: 1px solid #dddddd'>ba1b62a0-2a80-414e-9177-bcf71d5a8909</td><td style='border: 1px solid #dddddd'>active</td><td style='border: 1px solid #dddddd'>2021-07-29 12:51:37.381000+00:00</td><td style='border: 1px solid #dddddd'>62d30e9f-8fdc-4006-88f5-f76a7edb72e7</td></tr>\n",
       "            </table>\n",
       "        </body>\n",
       "        </HTML>"
      ],
      "text/plain": [
       "<IPython.core.display.HTML object>"
      ]
     },
     "metadata": {},
     "output_type": "display_data"
    }
   ],
   "source": [
    "wos_client.subscriptions.show()"
   ]
  },
  {
   "cell_type": "markdown",
   "metadata": {},
   "source": [
    "<a id=\"scoring\"></a>\n",
    "## 4. Performance metrics, scoring and payload logging"
   ]
  },
  {
   "cell_type": "markdown",
   "metadata": {},
   "source": [
    "### Score the credit risk model and measure response time"
   ]
  },
  {
   "cell_type": "code",
   "execution_count": 46,
   "metadata": {},
   "outputs": [],
   "source": [
    "import requests\n",
    "import time\n",
    "import json\n",
    "import boto3"
   ]
  },
  {
   "cell_type": "code",
   "execution_count": 47,
   "metadata": {},
   "outputs": [
    {
     "data": {
      "text/plain": [
       "{'metadata': {'id': 'c45582ad-79dc-42ef-8c43-496042f1e532',\n",
       "  'crn': 'crn:v1:bluemix:public:aiopenscale:us-south:a/46816354d9cb773bae86c226aa74c8cc:a08b0e60-6844-4c14-81cb-a3a6c9d199f9:subscription:c45582ad-79dc-42ef-8c43-496042f1e532',\n",
       "  'url': '/v2/subscriptions/c45582ad-79dc-42ef-8c43-496042f1e532',\n",
       "  'created_at': '2021-08-05T19:18:49.703000Z',\n",
       "  'created_by': 'IBMid-50M71Q0T71'},\n",
       " 'entity': {'data_mart_id': 'a08b0e60-6844-4c14-81cb-a3a6c9d199f9',\n",
       "  'service_provider_id': '1f0fa78b-7f25-402a-85df-6ff7016848c7',\n",
       "  'asset': {'asset_id': '9345b2a3d122475ee4ea44be26d16df4',\n",
       "   'url': 's3://sagemaker-us-east-2-593389159126/credit-risk/output/Credit-risk-linear-learner-2021-08-05-17-39/output/model.tar.gz',\n",
       "   'name': 'Credit-risk-linear-learner-2021-08-05-17-39',\n",
       "   'asset_type': 'model',\n",
       "   'problem_type': 'binary',\n",
       "   'input_data_type': 'structured'},\n",
       "  'asset_properties': {'training_data_reference': {'secret_id': '3e458517-66bd-422c-8056-77fc89619d52'},\n",
       "   'output_data_schema': {'type': 'struct',\n",
       "    'fields': [{'metadata': {'modeling_role': 'record-id',\n",
       "       'primary_key': True},\n",
       "      'name': 'scoring_id',\n",
       "      'nullable': False,\n",
       "      'type': 'string'},\n",
       "     {'metadata': {'modeling_role': 'record-timestamp'},\n",
       "      'name': 'scoring_timestamp',\n",
       "      'nullable': False,\n",
       "      'type': 'timestamp'},\n",
       "     {'metadata': {},\n",
       "      'name': 'deployment_id',\n",
       "      'nullable': False,\n",
       "      'type': 'string'},\n",
       "     {'metadata': {},\n",
       "      'name': 'asset_revision',\n",
       "      'nullable': True,\n",
       "      'type': 'string'}]},\n",
       "   'label_column': 'Risk',\n",
       "   'prediction_field': 'predicted_label',\n",
       "   'feature_fields': ['CheckingStatus_0_to_200',\n",
       "    'CheckingStatus_greater_200',\n",
       "    'CheckingStatus_less_0',\n",
       "    'CheckingStatus_no_checking',\n",
       "    'CreditHistory_all_credits_paid_back',\n",
       "    'CreditHistory_credits_paid_to_date',\n",
       "    'CreditHistory_no_credits',\n",
       "    'CreditHistory_outstanding_credit',\n",
       "    'CreditHistory_prior_payments_delayed',\n",
       "    'LoanPurpose_appliances',\n",
       "    'LoanPurpose_business',\n",
       "    'LoanPurpose_car_new',\n",
       "    'LoanPurpose_car_used',\n",
       "    'LoanPurpose_education',\n",
       "    'LoanPurpose_furniture',\n",
       "    'LoanPurpose_other',\n",
       "    'LoanPurpose_radio_tv',\n",
       "    'LoanPurpose_repairs',\n",
       "    'LoanPurpose_retraining',\n",
       "    'LoanPurpose_vacation',\n",
       "    'ExistingSavings_100_to_500',\n",
       "    'ExistingSavings_500_to_1000',\n",
       "    'ExistingSavings_greater_1000',\n",
       "    'ExistingSavings_less_100',\n",
       "    'ExistingSavings_unknown',\n",
       "    'EmploymentDuration_1_to_4',\n",
       "    'EmploymentDuration_4_to_7',\n",
       "    'EmploymentDuration_greater_7',\n",
       "    'EmploymentDuration_less_1',\n",
       "    'EmploymentDuration_unemployed',\n",
       "    'Sex_female',\n",
       "    'Sex_male',\n",
       "    'OthersOnLoan_co-applicant',\n",
       "    'OthersOnLoan_guarantor',\n",
       "    'OthersOnLoan_none',\n",
       "    'OwnsProperty_car_other',\n",
       "    'OwnsProperty_real_estate',\n",
       "    'OwnsProperty_savings_insurance',\n",
       "    'OwnsProperty_unknown',\n",
       "    'InstallmentPlans_bank',\n",
       "    'InstallmentPlans_none',\n",
       "    'InstallmentPlans_stores',\n",
       "    'Housing_free',\n",
       "    'Housing_own',\n",
       "    'Housing_rent',\n",
       "    'Job_management_self-employed',\n",
       "    'Job_skilled',\n",
       "    'Job_unemployed',\n",
       "    'Job_unskilled',\n",
       "    'Telephone_none',\n",
       "    'Telephone_yes',\n",
       "    'ForeignWorker_no',\n",
       "    'ForeignWorker_yes',\n",
       "    'LoanDuration',\n",
       "    'LoanAmount',\n",
       "    'InstallmentPercent',\n",
       "    'CurrentResidenceDuration',\n",
       "    'Age',\n",
       "    'ExistingCreditsCount',\n",
       "    'Dependents'],\n",
       "   'categorical_fields': ['CheckingStatus_0_to_200',\n",
       "    'CheckingStatus_greater_200',\n",
       "    'CheckingStatus_less_0',\n",
       "    'CheckingStatus_no_checking',\n",
       "    'CreditHistory_all_credits_paid_back',\n",
       "    'CreditHistory_credits_paid_to_date',\n",
       "    'CreditHistory_no_credits',\n",
       "    'CreditHistory_outstanding_credit',\n",
       "    'CreditHistory_prior_payments_delayed',\n",
       "    'LoanPurpose_appliances',\n",
       "    'LoanPurpose_business',\n",
       "    'LoanPurpose_car_new',\n",
       "    'LoanPurpose_car_used',\n",
       "    'LoanPurpose_education',\n",
       "    'LoanPurpose_furniture',\n",
       "    'LoanPurpose_other',\n",
       "    'LoanPurpose_radio_tv',\n",
       "    'LoanPurpose_repairs',\n",
       "    'LoanPurpose_retraining',\n",
       "    'LoanPurpose_vacation',\n",
       "    'ExistingSavings_100_to_500',\n",
       "    'ExistingSavings_500_to_1000',\n",
       "    'ExistingSavings_greater_1000',\n",
       "    'ExistingSavings_less_100',\n",
       "    'ExistingSavings_unknown',\n",
       "    'EmploymentDuration_1_to_4',\n",
       "    'EmploymentDuration_4_to_7',\n",
       "    'EmploymentDuration_greater_7',\n",
       "    'EmploymentDuration_less_1',\n",
       "    'EmploymentDuration_unemployed',\n",
       "    'Sex_female',\n",
       "    'Sex_male',\n",
       "    'OthersOnLoan_co-applicant',\n",
       "    'OthersOnLoan_guarantor',\n",
       "    'OthersOnLoan_none',\n",
       "    'OwnsProperty_car_other',\n",
       "    'OwnsProperty_real_estate',\n",
       "    'OwnsProperty_savings_insurance',\n",
       "    'OwnsProperty_unknown',\n",
       "    'InstallmentPlans_bank',\n",
       "    'InstallmentPlans_none',\n",
       "    'InstallmentPlans_stores',\n",
       "    'Housing_free',\n",
       "    'Housing_own',\n",
       "    'Housing_rent',\n",
       "    'Job_management_self-employed',\n",
       "    'Job_skilled',\n",
       "    'Job_unemployed',\n",
       "    'Job_unskilled',\n",
       "    'Telephone_none',\n",
       "    'Telephone_yes',\n",
       "    'ForeignWorker_no',\n",
       "    'ForeignWorker_yes'],\n",
       "   'probability_fields': ['score']},\n",
       "  'deployment': {'deployment_id': '44cbb38bb2c81f10236feaff987a5bb9',\n",
       "   'url': 'Credit-risk-endpoint-scoring-2021-08-05-17-39',\n",
       "   'name': 'Credit-risk-endpoint-scoring-2021-08-05-17-39',\n",
       "   'deployment_type': 'online',\n",
       "   'scoring_endpoint': {'url': 'Credit-risk-endpoint-scoring-2021-08-05-17-39'}},\n",
       "  'status': {'state': 'active'}}}"
      ]
     },
     "execution_count": 47,
     "metadata": {},
     "output_type": "execute_result"
    }
   ],
   "source": [
    "subscription_details=wos_client.subscriptions.get(subscription_id).result.to_dict()\n",
    "subscription_details"
   ]
  },
  {
   "cell_type": "code",
   "execution_count": 49,
   "metadata": {},
   "outputs": [],
   "source": [
    "endpoint_name = subscription_details['entity']['deployment']['name']\n",
    "\n",
    "payload = \"0,0,1,0,1,0,0,0,0,0,0,1,0,0,0,0,0,0,0,0,0,0,0,1,0,1,0,0,0,0,0,1,0,0,1,0,0,1,0,0,1,0,0,1,0,0,1,0,0,1,0,0,1,12,4152,2,3,29,2,1\""
   ]
  },
  {
   "cell_type": "code",
   "execution_count": 50,
   "metadata": {},
   "outputs": [
    {
     "name": "stdout",
     "output_type": "stream",
     "text": [
      "{\n",
      "  \"predictions\": [\n",
      "    {\n",
      "      \"score\": 0.19936884939670563,\n",
      "      \"predicted_label\": 0\n",
      "    }\n",
      "  ]\n",
      "}\n"
     ]
    }
   ],
   "source": [
    "runtime = boto3.client('sagemaker-runtime',\n",
    "                       region_name=SAGEMAKER_ENGINE_CREDENTIALS['region'],\n",
    "                       aws_access_key_id=SAGEMAKER_ENGINE_CREDENTIALS['access_key_id'],\n",
    "                       aws_secret_access_key=SAGEMAKER_ENGINE_CREDENTIALS['secret_access_key'])\n",
    "\n",
    "start_time = time.time()\n",
    "response = runtime.invoke_endpoint(EndpointName=endpoint_name, ContentType='text/csv', Body=payload)\n",
    "response_time = int((time.time() - start_time)*1000)\n",
    "result = json.loads(response['Body'].read().decode())\n",
    "\n",
    "print(json.dumps(result, indent=2))"
   ]
  },
  {
   "cell_type": "markdown",
   "metadata": {},
   "source": [
    "### Store the request and response in payload logging table"
   ]
  },
  {
   "cell_type": "markdown",
   "metadata": {},
   "source": [
    "#### Transform the model's input and output to the format compatible with OpenScale standard."
   ]
  },
  {
   "cell_type": "code",
   "execution_count": 51,
   "metadata": {},
   "outputs": [
    {
     "name": "stdout",
     "output_type": "stream",
     "text": [
      "Payload data set id:  2442cacc-5dcf-4117-adc8-d9e3c6b0e38c\n"
     ]
    }
   ],
   "source": [
    "import time\n",
    "\n",
    "time.sleep(5)\n",
    "payload_data_set_id = None\n",
    "payload_data_set_id = wos_client.data_sets.list(type=DataSetTypes.PAYLOAD_LOGGING, \n",
    "                                                target_target_id=subscription_id, \n",
    "                                                target_target_type=TargetTypes.SUBSCRIPTION).result.data_sets[0].metadata.id\n",
    "if payload_data_set_id is None:\n",
    "    print(\"Payload data set not found. Please check subscription status.\")\n",
    "else:\n",
    "    print(\"Payload data set id: \", payload_data_set_id)"
   ]
  },
  {
   "cell_type": "code",
   "execution_count": 52,
   "metadata": {},
   "outputs": [],
   "source": [
    "values = [float(s) for s in payload.split(',')]\n",
    "\n",
    "request_data = {'fields': feature_columns, \n",
    "                'values': values}\n",
    "\n",
    "response_data = {'fields': list(result['predictions'][0]),\n",
    "                 'values': [list(x.values()) for x in result['predictions']]}"
   ]
  },
  {
   "cell_type": "markdown",
   "metadata": {},
   "source": [
    "#### Store the payload using Python SDK"
   ]
  },
  {
   "cell_type": "markdown",
   "metadata": {},
   "source": [
    "**Hint:** You can embed payload logging code into your custom deployment so it is logged automatically each time you score the model."
   ]
  },
  {
   "cell_type": "code",
   "execution_count": 53,
   "metadata": {},
   "outputs": [
    {
     "name": "stdout",
     "output_type": "stream",
     "text": [
      "Performing explicit payload logging.....\n",
      "\n",
      "\n",
      "==========================================================================================\n",
      "\n",
      " Waiting for end of storing records with request id: e3a80ce7-a2c9-4e46-9f28-2d9b2ab23120 \n",
      "\n",
      "==========================================================================================\n",
      "\n",
      "\n",
      "\n",
      "active\n",
      "\n",
      "---------------------------------------\n",
      " Successfully finished storing records \n",
      "---------------------------------------\n",
      "\n",
      "\n",
      "Number of records in the payload logging table: 1\n"
     ]
    }
   ],
   "source": [
    "import uuid\n",
    "from ibm_watson_openscale.supporting_classes.payload_record import PayloadRecord\n",
    "\n",
    "print(\"Performing explicit payload logging.....\")\n",
    "wos_client.data_sets.store_records(data_set_id=payload_data_set_id, background_mode=False,request_body=[PayloadRecord(\n",
    "           scoring_id=str(uuid.uuid4()),\n",
    "           request=request_data,\n",
    "           response=response_data,\n",
    "           response_time=460\n",
    ")])\n",
    "time.sleep(5)\n",
    "pl_records_count = wos_client.data_sets.get_records_count(payload_data_set_id)\n",
    "print(\"Number of records in the payload logging table: {}\".format(pl_records_count))"
   ]
  },
  {
   "cell_type": "code",
   "execution_count": 54,
   "metadata": {},
   "outputs": [
    {
     "data": {
      "text/html": [
       "<HTML>\n",
       "        <body>\n",
       "            <h3>Data Set 2442cacc-5dcf-4117-adc8-d9e3c6b0e38c Records</h3>\n",
       "            <table style='border: 1px solid #dddddd; font-family: Courier'>\n",
       "                <th style='border: 1px solid #dddddd'>Sex_male</th><th style='border: 1px solid #dddddd'>asset_revision</th><th style='border: 1px solid #dddddd'>LoanPurpose_vacation</th><th style='border: 1px solid #dddddd'>CreditHistory_prior_payments_delayed</th><th style='border: 1px solid #dddddd'>OwnsProperty_real_estate</th><th style='border: 1px solid #dddddd'>CreditHistory_no_credits</th><th style='border: 1px solid #dddddd'>LoanAmount</th><th style='border: 1px solid #dddddd'>scoring_id</th><th style='border: 1px solid #dddddd'>OthersOnLoan_co-applicant</th><th style='border: 1px solid #dddddd'>Housing_free</th><th style='border: 1px solid #dddddd'>Housing_own</th><th style='border: 1px solid #dddddd'>InstallmentPercent</th><th style='border: 1px solid #dddddd'>predicted_label</th><th style='border: 1px solid #dddddd'>LoanPurpose_retraining</th><th style='border: 1px solid #dddddd'>scoring_timestamp</th><th style='border: 1px solid #dddddd'>ExistingSavings_less_100</th><th style='border: 1px solid #dddddd'>OthersOnLoan_none</th><th style='border: 1px solid #dddddd'>Job_unskilled</th><th style='border: 1px solid #dddddd'>prediction_probability</th><th style='border: 1px solid #dddddd'>LoanPurpose_repairs</th><th style='border: 1px solid #dddddd'>ProbabilityVector</th><th style='border: 1px solid #dddddd'>LoanPurpose_business</th><th style='border: 1px solid #dddddd'>OwnsProperty_unknown</th><th style='border: 1px solid #dddddd'>score</th><th style='border: 1px solid #dddddd'>CreditHistory_all_credits_paid_back</th><th style='border: 1px solid #dddddd'>Sex_female</th><th style='border: 1px solid #dddddd'>CheckingStatus_no_checking</th><th style='border: 1px solid #dddddd'>LoanPurpose_car_new</th><th style='border: 1px solid #dddddd'>InstallmentPlans_none</th><th style='border: 1px solid #dddddd'>LoanPurpose_other</th><th style='border: 1px solid #dddddd'>OwnsProperty_savings_insurance</th><th style='border: 1px solid #dddddd'>Telephone_none</th><th style='border: 1px solid #dddddd'>OthersOnLoan_guarantor</th><th style='border: 1px solid #dddddd'>InstallmentPlans_stores</th><th style='border: 1px solid #dddddd'>LoanPurpose_appliances</th><th style='border: 1px solid #dddddd'>EmploymentDuration_unemployed</th><th style='border: 1px solid #dddddd'>ExistingSavings_greater_1000</th><th style='border: 1px solid #dddddd'>Job_skilled</th><th style='border: 1px solid #dddddd'>Telephone_yes</th><th style='border: 1px solid #dddddd'>CheckingStatus_0_to_200</th><th style='border: 1px solid #dddddd'>ExistingSavings_500_to_1000</th><th style='border: 1px solid #dddddd'>LoanPurpose_radio_tv</th><th style='border: 1px solid #dddddd'>EmploymentDuration_less_1</th><th style='border: 1px solid #dddddd'>CreditHistory_credits_paid_to_date</th><th style='border: 1px solid #dddddd'>EmploymentDuration_1_to_4</th><th style='border: 1px solid #dddddd'>LoanDuration</th><th style='border: 1px solid #dddddd'>Age</th><th style='border: 1px solid #dddddd'>CheckingStatus_greater_200</th><th style='border: 1px solid #dddddd'>ForeignWorker_yes</th><th style='border: 1px solid #dddddd'>CurrentResidenceDuration</th><th style='border: 1px solid #dddddd'>LoanPurpose_education</th><th style='border: 1px solid #dddddd'>Housing_rent</th><th style='border: 1px solid #dddddd'>Job_unemployed</th><th style='border: 1px solid #dddddd'>CheckingStatus_less_0</th><th style='border: 1px solid #dddddd'>OwnsProperty_car_other</th><th style='border: 1px solid #dddddd'>ExistingCreditsCount</th><th style='border: 1px solid #dddddd'>deployment_id</th><th style='border: 1px solid #dddddd'>Job_management_self-employed</th><th style='border: 1px solid #dddddd'>ExistingSavings_100_to_500</th><th style='border: 1px solid #dddddd'>LoanPurpose_car_used</th><th style='border: 1px solid #dddddd'>EmploymentDuration_4_to_7</th><th style='border: 1px solid #dddddd'>LoanPurpose_furniture</th><th style='border: 1px solid #dddddd'>Dependents</th><th style='border: 1px solid #dddddd'>ExistingSavings_unknown</th><th style='border: 1px solid #dddddd'>CreditHistory_outstanding_credit</th><th style='border: 1px solid #dddddd'>InstallmentPlans_bank</th><th style='border: 1px solid #dddddd'>ForeignWorker_no</th><th style='border: 1px solid #dddddd'>EmploymentDuration_greater_7</th>\n",
       "                <tr><td style='border: 1px solid #dddddd'>1.0</td><td style='border: 1px solid #dddddd'>None</td><td style='border: 1px solid #dddddd'>0.0</td><td style='border: 1px solid #dddddd'>0.0</td><td style='border: 1px solid #dddddd'>0.0</td><td style='border: 1px solid #dddddd'>0.0</td><td style='border: 1px solid #dddddd'>4152.0</td><td style='border: 1px solid #dddddd'>6c4fc7fa-50b8-4ecb-b82d-9163f48c0c1c-1</td><td style='border: 1px solid #dddddd'>0.0</td><td style='border: 1px solid #dddddd'>0.0</td><td style='border: 1px solid #dddddd'>1.0</td><td style='border: 1px solid #dddddd'>2.0</td><td style='border: 1px solid #dddddd'>0</td><td style='border: 1px solid #dddddd'>0.0</td><td style='border: 1px solid #dddddd'>2021-08-05T19:20:35.446Z</td><td style='border: 1px solid #dddddd'>1.0</td><td style='border: 1px solid #dddddd'>1.0</td><td style='border: 1px solid #dddddd'>0.0</td><td style='border: 1px solid #dddddd'>0.8006311506032944</td><td style='border: 1px solid #dddddd'>0.0</td><td style='border: 1px solid #dddddd'>[0.8006311506032944, 0.19936884939670563]</td><td style='border: 1px solid #dddddd'>0.0</td><td style='border: 1px solid #dddddd'>0.0</td><td style='border: 1px solid #dddddd'>0.19936884939670563</td><td style='border: 1px solid #dddddd'>1.0</td><td style='border: 1px solid #dddddd'>0.0</td><td style='border: 1px solid #dddddd'>0.0</td><td style='border: 1px solid #dddddd'>1.0</td><td style='border: 1px solid #dddddd'>1.0</td><td style='border: 1px solid #dddddd'>0.0</td><td style='border: 1px solid #dddddd'>1.0</td><td style='border: 1px solid #dddddd'>1.0</td><td style='border: 1px solid #dddddd'>0.0</td><td style='border: 1px solid #dddddd'>0.0</td><td style='border: 1px solid #dddddd'>0.0</td><td style='border: 1px solid #dddddd'>0.0</td><td style='border: 1px solid #dddddd'>0.0</td><td style='border: 1px solid #dddddd'>1.0</td><td style='border: 1px solid #dddddd'>0.0</td><td style='border: 1px solid #dddddd'>0.0</td><td style='border: 1px solid #dddddd'>0.0</td><td style='border: 1px solid #dddddd'>0.0</td><td style='border: 1px solid #dddddd'>0.0</td><td style='border: 1px solid #dddddd'>0.0</td><td style='border: 1px solid #dddddd'>1.0</td><td style='border: 1px solid #dddddd'>12.0</td><td style='border: 1px solid #dddddd'>29.0</td><td style='border: 1px solid #dddddd'>0.0</td><td style='border: 1px solid #dddddd'>1.0</td><td style='border: 1px solid #dddddd'>3.0</td><td style='border: 1px solid #dddddd'>0.0</td><td style='border: 1px solid #dddddd'>0.0</td><td style='border: 1px solid #dddddd'>0.0</td><td style='border: 1px solid #dddddd'>1.0</td><td style='border: 1px solid #dddddd'>0.0</td><td style='border: 1px solid #dddddd'>2.0</td><td style='border: 1px solid #dddddd'>44cbb38bb2c81f10236feaff987a5bb9</td><td style='border: 1px solid #dddddd'>0.0</td><td style='border: 1px solid #dddddd'>0.0</td><td style='border: 1px solid #dddddd'>0.0</td><td style='border: 1px solid #dddddd'>0.0</td><td style='border: 1px solid #dddddd'>0.0</td><td style='border: 1px solid #dddddd'>1.0</td><td style='border: 1px solid #dddddd'>0.0</td><td style='border: 1px solid #dddddd'>0.0</td><td style='border: 1px solid #dddddd'>0.0</td><td style='border: 1px solid #dddddd'>0.0</td><td style='border: 1px solid #dddddd'>0.0</td></tr>\n",
       "            </table>\n",
       "        </body>\n",
       "        </HTML>"
      ],
      "text/plain": [
       "<IPython.core.display.HTML object>"
      ]
     },
     "metadata": {},
     "output_type": "display_data"
    }
   ],
   "source": [
    "wos_client.data_sets.show_records(data_set_id=payload_data_set_id)"
   ]
  },
  {
   "cell_type": "markdown",
   "metadata": {},
   "source": [
    "<a id=\"feedback\"></a>\n",
    "## 5. Feedback logging & quality (accuracy) monitoring"
   ]
  },
  {
   "cell_type": "markdown",
   "metadata": {},
   "source": [
    "### Enable quality monitoring"
   ]
  },
  {
   "cell_type": "markdown",
   "metadata": {},
   "source": [
    "You need to provide the monitoring `threshold` and `min_records` (minimal number of feedback records)."
   ]
  },
  {
   "cell_type": "code",
   "execution_count": 55,
   "metadata": {},
   "outputs": [
    {
     "name": "stdout",
     "output_type": "stream",
     "text": [
      "\n",
      "\n",
      "===================================================================================\n",
      "\n",
      " Waiting for end of monitor instance creation ea7f0dbc-7d1c-4b0f-9ab6-553bbb6478ed \n",
      "\n",
      "===================================================================================\n",
      "\n",
      "\n",
      "\n",
      "active\n",
      "\n",
      "---------------------------------------\n",
      " Monitor instance successfully created \n",
      "---------------------------------------\n",
      "\n",
      "\n"
     ]
    }
   ],
   "source": [
    "import time\n",
    "\n",
    "time.sleep(10)\n",
    "target = Target(\n",
    "        target_type=TargetTypes.SUBSCRIPTION,\n",
    "        target_id=subscription_id\n",
    ")\n",
    "parameters = {\n",
    "    \"min_feedback_data_size\": 10\n",
    "}\n",
    "thresholds = [\n",
    "                {\n",
    "                    \"metric_id\": \"area_under_roc\",\n",
    "                    \"type\": \"lower_limit\",\n",
    "                    \"value\": .80\n",
    "                }\n",
    "            ]\n",
    "quality_monitor_details = wos_client.monitor_instances.create(\n",
    "    data_mart_id=data_mart_id,\n",
    "    background_mode=False,\n",
    "    monitor_definition_id=wos_client.monitor_definitions.MONITORS.QUALITY.ID,\n",
    "    target=target,\n",
    "    parameters=parameters,\n",
    "    thresholds=thresholds\n",
    ").result"
   ]
  },
  {
   "cell_type": "code",
   "execution_count": 56,
   "metadata": {},
   "outputs": [
    {
     "data": {
      "text/plain": [
       "'ea7f0dbc-7d1c-4b0f-9ab6-553bbb6478ed'"
      ]
     },
     "execution_count": 56,
     "metadata": {},
     "output_type": "execute_result"
    }
   ],
   "source": [
    "quality_monitor_instance_id = quality_monitor_details.metadata.id\n",
    "quality_monitor_instance_id"
   ]
  },
  {
   "cell_type": "markdown",
   "metadata": {},
   "source": [
    "### Feedback records logging"
   ]
  },
  {
   "cell_type": "markdown",
   "metadata": {},
   "source": [
    "Feedback records are used to evaluate your model. The predicted values are compared to real values (feedback records)."
   ]
  },
  {
   "cell_type": "markdown",
   "metadata": {},
   "source": [
    "You can check the schema of feedback table using below method."
   ]
  },
  {
   "cell_type": "code",
   "execution_count": 57,
   "metadata": {},
   "outputs": [
    {
     "data": {
      "text/plain": [
       "'4bcfedec-459d-4658-9673-40a6dcbe0883'"
      ]
     },
     "execution_count": 57,
     "metadata": {},
     "output_type": "execute_result"
    }
   ],
   "source": [
    "feedback_dataset_id = None\n",
    "feedback_dataset = wos_client.data_sets.list(type=DataSetTypes.FEEDBACK, \n",
    "                                                target_target_id=subscription_id, \n",
    "                                                target_target_type=TargetTypes.SUBSCRIPTION).result\n",
    "feedback_dataset_id = feedback_dataset.data_sets[0].metadata.id\n",
    "if feedback_dataset_id is None:\n",
    "    print(\"Feedback data set not found. Please check quality monitor status.\")\n",
    "feedback_dataset_id"
   ]
  },
  {
   "cell_type": "markdown",
   "metadata": {},
   "source": [
    "The feedback records can be send to feedback table using below code."
   ]
  },
  {
   "cell_type": "code",
   "execution_count": 58,
   "metadata": {},
   "outputs": [
    {
     "name": "stdout",
     "output_type": "stream",
     "text": [
      "\n",
      "\n",
      "==========================================================================================\n",
      "\n",
      " Waiting for end of storing records with request id: 15a3d5a4-c4fb-4604-8829-b68481b0e6b3 \n",
      "\n",
      "==========================================================================================\n",
      "\n",
      "\n",
      "\n",
      "active\n",
      "\n",
      "---------------------------------------\n",
      " Successfully finished storing records \n",
      "---------------------------------------\n",
      "\n",
      "\n"
     ]
    },
    {
     "data": {
      "text/plain": [
       "<ibm_cloud_sdk_core.detailed_response.DetailedResponse at 0x7fb595d1fa90>"
      ]
     },
     "execution_count": 58,
     "metadata": {},
     "output_type": "execute_result"
    }
   ],
   "source": [
    "import requests\n",
    "import pandas as pd\n",
    "import numpy as np\n",
    "import time\n",
    "\n",
    "time.sleep(10) #It gives enough time for dataset creation\n",
    "\n",
    "data = pd.read_csv('https://raw.githubusercontent.com/IBM/watson-openscale-samples/main/IBM%20Cloud/AWS%20Sagemaker/assets/data/credit_risk_aws/credit_risk_feedback_recoded.csv',header=0,dtype=np.float)\n",
    "feedback_columns = data.columns.tolist()\n",
    "feedback_records = data.values.tolist()\n",
    "\n",
    "payload_scoring =  [{\"fields\": feedback_columns, \"values\": feedback_records}]\n",
    "wos_client.data_sets.store_records(feedback_dataset_id, request_body=payload_scoring, background_mode=False)"
   ]
  },
  {
   "cell_type": "code",
   "execution_count": 59,
   "metadata": {},
   "outputs": [
    {
     "data": {
      "text/html": [
       "<HTML>\n",
       "        <body>\n",
       "            <h3>Schema of 4bcfedec-459d-4658-9673-40a6dcbe0883 data set</h3>\n",
       "            <table style='border: 1px solid #dddddd; font-family: Courier'>\n",
       "                <th style='border: 1px solid #dddddd'>name</th><th style='border: 1px solid #dddddd'>type</th><th style='border: 1px solid #dddddd'>nullable</th>\n",
       "                <tr><td style='border: 1px solid #dddddd'>CheckingStatus_0_to_200</td><td style='border: 1px solid #dddddd'>double</td><td style='border: 1px solid #dddddd'>True</td></tr><tr><td style='border: 1px solid #dddddd'>CheckingStatus_greater_200</td><td style='border: 1px solid #dddddd'>double</td><td style='border: 1px solid #dddddd'>True</td></tr><tr><td style='border: 1px solid #dddddd'>CheckingStatus_less_0</td><td style='border: 1px solid #dddddd'>double</td><td style='border: 1px solid #dddddd'>True</td></tr><tr><td style='border: 1px solid #dddddd'>CheckingStatus_no_checking</td><td style='border: 1px solid #dddddd'>double</td><td style='border: 1px solid #dddddd'>True</td></tr><tr><td style='border: 1px solid #dddddd'>CreditHistory_all_credits_paid_back</td><td style='border: 1px solid #dddddd'>double</td><td style='border: 1px solid #dddddd'>True</td></tr><tr><td style='border: 1px solid #dddddd'>CreditHistory_credits_paid_to_date</td><td style='border: 1px solid #dddddd'>double</td><td style='border: 1px solid #dddddd'>True</td></tr><tr><td style='border: 1px solid #dddddd'>CreditHistory_no_credits</td><td style='border: 1px solid #dddddd'>double</td><td style='border: 1px solid #dddddd'>True</td></tr><tr><td style='border: 1px solid #dddddd'>CreditHistory_outstanding_credit</td><td style='border: 1px solid #dddddd'>double</td><td style='border: 1px solid #dddddd'>True</td></tr><tr><td style='border: 1px solid #dddddd'>CreditHistory_prior_payments_delayed</td><td style='border: 1px solid #dddddd'>double</td><td style='border: 1px solid #dddddd'>True</td></tr><tr><td style='border: 1px solid #dddddd'>LoanPurpose_appliances</td><td style='border: 1px solid #dddddd'>double</td><td style='border: 1px solid #dddddd'>True</td></tr><tr><td style='border: 1px solid #dddddd'>LoanPurpose_business</td><td style='border: 1px solid #dddddd'>double</td><td style='border: 1px solid #dddddd'>True</td></tr><tr><td style='border: 1px solid #dddddd'>LoanPurpose_car_new</td><td style='border: 1px solid #dddddd'>double</td><td style='border: 1px solid #dddddd'>True</td></tr><tr><td style='border: 1px solid #dddddd'>LoanPurpose_car_used</td><td style='border: 1px solid #dddddd'>double</td><td style='border: 1px solid #dddddd'>True</td></tr><tr><td style='border: 1px solid #dddddd'>LoanPurpose_education</td><td style='border: 1px solid #dddddd'>double</td><td style='border: 1px solid #dddddd'>True</td></tr><tr><td style='border: 1px solid #dddddd'>LoanPurpose_furniture</td><td style='border: 1px solid #dddddd'>double</td><td style='border: 1px solid #dddddd'>True</td></tr><tr><td style='border: 1px solid #dddddd'>LoanPurpose_other</td><td style='border: 1px solid #dddddd'>double</td><td style='border: 1px solid #dddddd'>True</td></tr><tr><td style='border: 1px solid #dddddd'>LoanPurpose_radio_tv</td><td style='border: 1px solid #dddddd'>double</td><td style='border: 1px solid #dddddd'>True</td></tr><tr><td style='border: 1px solid #dddddd'>LoanPurpose_repairs</td><td style='border: 1px solid #dddddd'>double</td><td style='border: 1px solid #dddddd'>True</td></tr><tr><td style='border: 1px solid #dddddd'>LoanPurpose_retraining</td><td style='border: 1px solid #dddddd'>double</td><td style='border: 1px solid #dddddd'>True</td></tr><tr><td style='border: 1px solid #dddddd'>LoanPurpose_vacation</td><td style='border: 1px solid #dddddd'>double</td><td style='border: 1px solid #dddddd'>True</td></tr><tr><td style='border: 1px solid #dddddd'>ExistingSavings_100_to_500</td><td style='border: 1px solid #dddddd'>double</td><td style='border: 1px solid #dddddd'>True</td></tr><tr><td style='border: 1px solid #dddddd'>ExistingSavings_500_to_1000</td><td style='border: 1px solid #dddddd'>double</td><td style='border: 1px solid #dddddd'>True</td></tr><tr><td style='border: 1px solid #dddddd'>ExistingSavings_greater_1000</td><td style='border: 1px solid #dddddd'>double</td><td style='border: 1px solid #dddddd'>True</td></tr><tr><td style='border: 1px solid #dddddd'>ExistingSavings_less_100</td><td style='border: 1px solid #dddddd'>double</td><td style='border: 1px solid #dddddd'>True</td></tr><tr><td style='border: 1px solid #dddddd'>ExistingSavings_unknown</td><td style='border: 1px solid #dddddd'>double</td><td style='border: 1px solid #dddddd'>True</td></tr><tr><td style='border: 1px solid #dddddd'>EmploymentDuration_1_to_4</td><td style='border: 1px solid #dddddd'>double</td><td style='border: 1px solid #dddddd'>True</td></tr><tr><td style='border: 1px solid #dddddd'>EmploymentDuration_4_to_7</td><td style='border: 1px solid #dddddd'>double</td><td style='border: 1px solid #dddddd'>True</td></tr><tr><td style='border: 1px solid #dddddd'>EmploymentDuration_greater_7</td><td style='border: 1px solid #dddddd'>double</td><td style='border: 1px solid #dddddd'>True</td></tr><tr><td style='border: 1px solid #dddddd'>EmploymentDuration_less_1</td><td style='border: 1px solid #dddddd'>double</td><td style='border: 1px solid #dddddd'>True</td></tr><tr><td style='border: 1px solid #dddddd'>EmploymentDuration_unemployed</td><td style='border: 1px solid #dddddd'>double</td><td style='border: 1px solid #dddddd'>True</td></tr><tr><td style='border: 1px solid #dddddd'>Sex_female</td><td style='border: 1px solid #dddddd'>double</td><td style='border: 1px solid #dddddd'>True</td></tr><tr><td style='border: 1px solid #dddddd'>Sex_male</td><td style='border: 1px solid #dddddd'>double</td><td style='border: 1px solid #dddddd'>True</td></tr><tr><td style='border: 1px solid #dddddd'>OthersOnLoan_co-applicant</td><td style='border: 1px solid #dddddd'>double</td><td style='border: 1px solid #dddddd'>True</td></tr><tr><td style='border: 1px solid #dddddd'>OthersOnLoan_guarantor</td><td style='border: 1px solid #dddddd'>double</td><td style='border: 1px solid #dddddd'>True</td></tr><tr><td style='border: 1px solid #dddddd'>OthersOnLoan_none</td><td style='border: 1px solid #dddddd'>double</td><td style='border: 1px solid #dddddd'>True</td></tr><tr><td style='border: 1px solid #dddddd'>OwnsProperty_car_other</td><td style='border: 1px solid #dddddd'>double</td><td style='border: 1px solid #dddddd'>True</td></tr><tr><td style='border: 1px solid #dddddd'>OwnsProperty_real_estate</td><td style='border: 1px solid #dddddd'>double</td><td style='border: 1px solid #dddddd'>True</td></tr><tr><td style='border: 1px solid #dddddd'>OwnsProperty_savings_insurance</td><td style='border: 1px solid #dddddd'>double</td><td style='border: 1px solid #dddddd'>True</td></tr><tr><td style='border: 1px solid #dddddd'>OwnsProperty_unknown</td><td style='border: 1px solid #dddddd'>double</td><td style='border: 1px solid #dddddd'>True</td></tr><tr><td style='border: 1px solid #dddddd'>InstallmentPlans_bank</td><td style='border: 1px solid #dddddd'>double</td><td style='border: 1px solid #dddddd'>True</td></tr><tr><td style='border: 1px solid #dddddd'>InstallmentPlans_none</td><td style='border: 1px solid #dddddd'>double</td><td style='border: 1px solid #dddddd'>True</td></tr><tr><td style='border: 1px solid #dddddd'>InstallmentPlans_stores</td><td style='border: 1px solid #dddddd'>double</td><td style='border: 1px solid #dddddd'>True</td></tr><tr><td style='border: 1px solid #dddddd'>Housing_free</td><td style='border: 1px solid #dddddd'>double</td><td style='border: 1px solid #dddddd'>True</td></tr><tr><td style='border: 1px solid #dddddd'>Housing_own</td><td style='border: 1px solid #dddddd'>double</td><td style='border: 1px solid #dddddd'>True</td></tr><tr><td style='border: 1px solid #dddddd'>Housing_rent</td><td style='border: 1px solid #dddddd'>double</td><td style='border: 1px solid #dddddd'>True</td></tr><tr><td style='border: 1px solid #dddddd'>Job_management_self-employed</td><td style='border: 1px solid #dddddd'>double</td><td style='border: 1px solid #dddddd'>True</td></tr><tr><td style='border: 1px solid #dddddd'>Job_skilled</td><td style='border: 1px solid #dddddd'>double</td><td style='border: 1px solid #dddddd'>True</td></tr><tr><td style='border: 1px solid #dddddd'>Job_unemployed</td><td style='border: 1px solid #dddddd'>double</td><td style='border: 1px solid #dddddd'>True</td></tr><tr><td style='border: 1px solid #dddddd'>Job_unskilled</td><td style='border: 1px solid #dddddd'>double</td><td style='border: 1px solid #dddddd'>True</td></tr><tr><td style='border: 1px solid #dddddd'>Telephone_none</td><td style='border: 1px solid #dddddd'>double</td><td style='border: 1px solid #dddddd'>True</td></tr><tr><td style='border: 1px solid #dddddd'>Telephone_yes</td><td style='border: 1px solid #dddddd'>double</td><td style='border: 1px solid #dddddd'>True</td></tr><tr><td style='border: 1px solid #dddddd'>ForeignWorker_no</td><td style='border: 1px solid #dddddd'>double</td><td style='border: 1px solid #dddddd'>True</td></tr><tr><td style='border: 1px solid #dddddd'>ForeignWorker_yes</td><td style='border: 1px solid #dddddd'>double</td><td style='border: 1px solid #dddddd'>True</td></tr><tr><td style='border: 1px solid #dddddd'>LoanDuration</td><td style='border: 1px solid #dddddd'>double</td><td style='border: 1px solid #dddddd'>True</td></tr><tr><td style='border: 1px solid #dddddd'>LoanAmount</td><td style='border: 1px solid #dddddd'>double</td><td style='border: 1px solid #dddddd'>True</td></tr><tr><td style='border: 1px solid #dddddd'>InstallmentPercent</td><td style='border: 1px solid #dddddd'>double</td><td style='border: 1px solid #dddddd'>True</td></tr><tr><td style='border: 1px solid #dddddd'>CurrentResidenceDuration</td><td style='border: 1px solid #dddddd'>double</td><td style='border: 1px solid #dddddd'>True</td></tr><tr><td style='border: 1px solid #dddddd'>Age</td><td style='border: 1px solid #dddddd'>double</td><td style='border: 1px solid #dddddd'>True</td></tr><tr><td style='border: 1px solid #dddddd'>ExistingCreditsCount</td><td style='border: 1px solid #dddddd'>double</td><td style='border: 1px solid #dddddd'>True</td></tr><tr><td style='border: 1px solid #dddddd'>Dependents</td><td style='border: 1px solid #dddddd'>double</td><td style='border: 1px solid #dddddd'>True</td></tr><tr><td style='border: 1px solid #dddddd'>Risk</td><td style='border: 1px solid #dddddd'>double</td><td style='border: 1px solid #dddddd'>True</td></tr><tr><td style='border: 1px solid #dddddd'>record_id</td><td style='border: 1px solid #dddddd'>string</td><td style='border: 1px solid #dddddd'>False</td></tr><tr><td style='border: 1px solid #dddddd'>record_timestamp</td><td style='border: 1px solid #dddddd'>timestamp</td><td style='border: 1px solid #dddddd'>False</td></tr><tr><td style='border: 1px solid #dddddd'>transaction_id</td><td style='border: 1px solid #dddddd'>string</td><td style='border: 1px solid #dddddd'>True</td></tr><tr><td style='border: 1px solid #dddddd'>_original_prediction</td><td style='border: 1px solid #dddddd'>integer</td><td style='border: 1px solid #dddddd'>True</td></tr><tr><td style='border: 1px solid #dddddd'>_original_probability</td><td style='border: 1px solid #dddddd'>{'containsNull': True, 'elementType': 'double', 'type': 'array'}</td><td style='border: 1px solid #dddddd'>True</td></tr><tr><td style='border: 1px solid #dddddd'>_debiased_prediction</td><td style='border: 1px solid #dddddd'>integer</td><td style='border: 1px solid #dddddd'>True</td></tr><tr><td style='border: 1px solid #dddddd'>_debiased_probability</td><td style='border: 1px solid #dddddd'>{'containsNull': True, 'elementType': 'double', 'type': 'array'}</td><td style='border: 1px solid #dddddd'>True</td></tr>\n",
       "            </table>\n",
       "        </body>\n",
       "        </HTML>"
      ],
      "text/plain": [
       "<IPython.core.display.HTML object>"
      ]
     },
     "metadata": {},
     "output_type": "display_data"
    }
   ],
   "source": [
    "wos_client.data_sets.print_records_schema(data_set_id=feedback_dataset_id)"
   ]
  },
  {
   "cell_type": "code",
   "execution_count": 60,
   "metadata": {},
   "outputs": [
    {
     "data": {
      "text/plain": [
       "20"
      ]
     },
     "execution_count": 60,
     "metadata": {},
     "output_type": "execute_result"
    }
   ],
   "source": [
    "wos_client.data_sets.get_records_count(data_set_id=feedback_dataset_id)"
   ]
  },
  {
   "cell_type": "code",
   "execution_count": 61,
   "metadata": {},
   "outputs": [
    {
     "name": "stdout",
     "output_type": "stream",
     "text": [
      "\n",
      "\n",
      "========================================================================\n",
      "\n",
      " Waiting for end of monitoring run 80bebde4-7577-4db3-b525-0738446cbbef \n",
      "\n",
      "========================================================================\n",
      "\n",
      "\n",
      "\n",
      "running\n",
      "finished\n",
      "\n",
      "---------------------------\n",
      " Successfully finished run \n",
      "---------------------------\n",
      "\n",
      "\n"
     ]
    }
   ],
   "source": [
    "run_details = wos_client.monitor_instances.run(monitor_instance_id=quality_monitor_instance_id, background_mode=False).result"
   ]
  },
  {
   "cell_type": "code",
   "execution_count": 62,
   "metadata": {},
   "outputs": [
    {
     "data": {
      "text/html": [
       "<HTML>\n",
       "        <body>\n",
       "            <h3>ea7f0dbc-7d1c-4b0f-9ab6-553bbb6478ed Monitor Runs Metrics from: 2021-07-29 19:23:38.413177  till: 2021-08-05 19:23:38.413203</h3>\n",
       "            <table style='border: 1px solid #dddddd; font-family: Courier'>\n",
       "                <th style='border: 1px solid #dddddd'>ts</th><th style='border: 1px solid #dddddd'>id</th><th style='border: 1px solid #dddddd'>measurement_id</th><th style='border: 1px solid #dddddd'>value</th><th style='border: 1px solid #dddddd'>lower_limit</th><th style='border: 1px solid #dddddd'>upper_limit</th><th style='border: 1px solid #dddddd'>tags</th><th style='border: 1px solid #dddddd'>monitor_definition_id</th><th style='border: 1px solid #dddddd'>monitor_instance_id</th><th style='border: 1px solid #dddddd'>run_id</th><th style='border: 1px solid #dddddd'>target_type</th><th style='border: 1px solid #dddddd'>target_id</th>\n",
       "                <tr><td style='border: 1px solid #dddddd'>2021-08-05 19:23:20.156000+00:00</td><td style='border: 1px solid #dddddd'>true_positive_rate</td><td style='border: 1px solid #dddddd'>c65c89c2-76b4-433e-8cc0-5802b6d1b490</td><td style='border: 1px solid #dddddd'>0.7142857142857143</td><td style='border: 1px solid #dddddd'>None</td><td style='border: 1px solid #dddddd'>None</td><td style='border: 1px solid #dddddd'>['model_type:original']</td><td style='border: 1px solid #dddddd'>quality</td><td style='border: 1px solid #dddddd'>ea7f0dbc-7d1c-4b0f-9ab6-553bbb6478ed</td><td style='border: 1px solid #dddddd'>80bebde4-7577-4db3-b525-0738446cbbef</td><td style='border: 1px solid #dddddd'>subscription</td><td style='border: 1px solid #dddddd'>c45582ad-79dc-42ef-8c43-496042f1e532</td></tr><tr><td style='border: 1px solid #dddddd'>2021-08-05 19:23:20.156000+00:00</td><td style='border: 1px solid #dddddd'>area_under_roc</td><td style='border: 1px solid #dddddd'>c65c89c2-76b4-433e-8cc0-5802b6d1b490</td><td style='border: 1px solid #dddddd'>0.8186813186813188</td><td style='border: 1px solid #dddddd'>0.8</td><td style='border: 1px solid #dddddd'>None</td><td style='border: 1px solid #dddddd'>['model_type:original']</td><td style='border: 1px solid #dddddd'>quality</td><td style='border: 1px solid #dddddd'>ea7f0dbc-7d1c-4b0f-9ab6-553bbb6478ed</td><td style='border: 1px solid #dddddd'>80bebde4-7577-4db3-b525-0738446cbbef</td><td style='border: 1px solid #dddddd'>subscription</td><td style='border: 1px solid #dddddd'>c45582ad-79dc-42ef-8c43-496042f1e532</td></tr><tr><td style='border: 1px solid #dddddd'>2021-08-05 19:23:20.156000+00:00</td><td style='border: 1px solid #dddddd'>precision</td><td style='border: 1px solid #dddddd'>c65c89c2-76b4-433e-8cc0-5802b6d1b490</td><td style='border: 1px solid #dddddd'>0.8333333333333334</td><td style='border: 1px solid #dddddd'>None</td><td style='border: 1px solid #dddddd'>None</td><td style='border: 1px solid #dddddd'>['model_type:original']</td><td style='border: 1px solid #dddddd'>quality</td><td style='border: 1px solid #dddddd'>ea7f0dbc-7d1c-4b0f-9ab6-553bbb6478ed</td><td style='border: 1px solid #dddddd'>80bebde4-7577-4db3-b525-0738446cbbef</td><td style='border: 1px solid #dddddd'>subscription</td><td style='border: 1px solid #dddddd'>c45582ad-79dc-42ef-8c43-496042f1e532</td></tr><tr><td style='border: 1px solid #dddddd'>2021-08-05 19:23:20.156000+00:00</td><td style='border: 1px solid #dddddd'>f1_measure</td><td style='border: 1px solid #dddddd'>c65c89c2-76b4-433e-8cc0-5802b6d1b490</td><td style='border: 1px solid #dddddd'>0.7692307692307692</td><td style='border: 1px solid #dddddd'>None</td><td style='border: 1px solid #dddddd'>None</td><td style='border: 1px solid #dddddd'>['model_type:original']</td><td style='border: 1px solid #dddddd'>quality</td><td style='border: 1px solid #dddddd'>ea7f0dbc-7d1c-4b0f-9ab6-553bbb6478ed</td><td style='border: 1px solid #dddddd'>80bebde4-7577-4db3-b525-0738446cbbef</td><td style='border: 1px solid #dddddd'>subscription</td><td style='border: 1px solid #dddddd'>c45582ad-79dc-42ef-8c43-496042f1e532</td></tr><tr><td style='border: 1px solid #dddddd'>2021-08-05 19:23:20.156000+00:00</td><td style='border: 1px solid #dddddd'>accuracy</td><td style='border: 1px solid #dddddd'>c65c89c2-76b4-433e-8cc0-5802b6d1b490</td><td style='border: 1px solid #dddddd'>0.85</td><td style='border: 1px solid #dddddd'>None</td><td style='border: 1px solid #dddddd'>None</td><td style='border: 1px solid #dddddd'>['model_type:original']</td><td style='border: 1px solid #dddddd'>quality</td><td style='border: 1px solid #dddddd'>ea7f0dbc-7d1c-4b0f-9ab6-553bbb6478ed</td><td style='border: 1px solid #dddddd'>80bebde4-7577-4db3-b525-0738446cbbef</td><td style='border: 1px solid #dddddd'>subscription</td><td style='border: 1px solid #dddddd'>c45582ad-79dc-42ef-8c43-496042f1e532</td></tr><tr><td style='border: 1px solid #dddddd'>2021-08-05 19:23:20.156000+00:00</td><td style='border: 1px solid #dddddd'>log_loss</td><td style='border: 1px solid #dddddd'>c65c89c2-76b4-433e-8cc0-5802b6d1b490</td><td style='border: 1px solid #dddddd'>0.3957367345523932</td><td style='border: 1px solid #dddddd'>None</td><td style='border: 1px solid #dddddd'>None</td><td style='border: 1px solid #dddddd'>['model_type:original']</td><td style='border: 1px solid #dddddd'>quality</td><td style='border: 1px solid #dddddd'>ea7f0dbc-7d1c-4b0f-9ab6-553bbb6478ed</td><td style='border: 1px solid #dddddd'>80bebde4-7577-4db3-b525-0738446cbbef</td><td style='border: 1px solid #dddddd'>subscription</td><td style='border: 1px solid #dddddd'>c45582ad-79dc-42ef-8c43-496042f1e532</td></tr><tr><td style='border: 1px solid #dddddd'>2021-08-05 19:23:20.156000+00:00</td><td style='border: 1px solid #dddddd'>false_positive_rate</td><td style='border: 1px solid #dddddd'>c65c89c2-76b4-433e-8cc0-5802b6d1b490</td><td style='border: 1px solid #dddddd'>0.07692307692307693</td><td style='border: 1px solid #dddddd'>None</td><td style='border: 1px solid #dddddd'>None</td><td style='border: 1px solid #dddddd'>['model_type:original']</td><td style='border: 1px solid #dddddd'>quality</td><td style='border: 1px solid #dddddd'>ea7f0dbc-7d1c-4b0f-9ab6-553bbb6478ed</td><td style='border: 1px solid #dddddd'>80bebde4-7577-4db3-b525-0738446cbbef</td><td style='border: 1px solid #dddddd'>subscription</td><td style='border: 1px solid #dddddd'>c45582ad-79dc-42ef-8c43-496042f1e532</td></tr><tr><td style='border: 1px solid #dddddd'>2021-08-05 19:23:20.156000+00:00</td><td style='border: 1px solid #dddddd'>area_under_pr</td><td style='border: 1px solid #dddddd'>c65c89c2-76b4-433e-8cc0-5802b6d1b490</td><td style='border: 1px solid #dddddd'>0.7642857142857142</td><td style='border: 1px solid #dddddd'>None</td><td style='border: 1px solid #dddddd'>None</td><td style='border: 1px solid #dddddd'>['model_type:original']</td><td style='border: 1px solid #dddddd'>quality</td><td style='border: 1px solid #dddddd'>ea7f0dbc-7d1c-4b0f-9ab6-553bbb6478ed</td><td style='border: 1px solid #dddddd'>80bebde4-7577-4db3-b525-0738446cbbef</td><td style='border: 1px solid #dddddd'>subscription</td><td style='border: 1px solid #dddddd'>c45582ad-79dc-42ef-8c43-496042f1e532</td></tr><tr><td style='border: 1px solid #dddddd'>2021-08-05 19:23:20.156000+00:00</td><td style='border: 1px solid #dddddd'>recall</td><td style='border: 1px solid #dddddd'>c65c89c2-76b4-433e-8cc0-5802b6d1b490</td><td style='border: 1px solid #dddddd'>0.7142857142857143</td><td style='border: 1px solid #dddddd'>None</td><td style='border: 1px solid #dddddd'>None</td><td style='border: 1px solid #dddddd'>['model_type:original']</td><td style='border: 1px solid #dddddd'>quality</td><td style='border: 1px solid #dddddd'>ea7f0dbc-7d1c-4b0f-9ab6-553bbb6478ed</td><td style='border: 1px solid #dddddd'>80bebde4-7577-4db3-b525-0738446cbbef</td><td style='border: 1px solid #dddddd'>subscription</td><td style='border: 1px solid #dddddd'>c45582ad-79dc-42ef-8c43-496042f1e532</td></tr>\n",
       "            </table>\n",
       "        </body>\n",
       "        </HTML>"
      ],
      "text/plain": [
       "<IPython.core.display.HTML object>"
      ]
     },
     "metadata": {},
     "output_type": "display_data"
    }
   ],
   "source": [
    "time.sleep(5)\n",
    "wos_client.monitor_instances.show_metrics(monitor_instance_id=quality_monitor_instance_id)"
   ]
  },
  {
   "cell_type": "markdown",
   "metadata": {},
   "source": [
    "<a id=\"datamart\"></a>\n",
    "## 6. Get the logged data"
   ]
  },
  {
   "cell_type": "markdown",
   "metadata": {},
   "source": [
    "### Payload logging"
   ]
  },
  {
   "cell_type": "markdown",
   "metadata": {},
   "source": [
    "#### Print schema of payload_logging table"
   ]
  },
  {
   "cell_type": "code",
   "execution_count": 63,
   "metadata": {},
   "outputs": [
    {
     "data": {
      "text/html": [
       "<HTML>\n",
       "        <body>\n",
       "            <h3>Schema of 2442cacc-5dcf-4117-adc8-d9e3c6b0e38c data set</h3>\n",
       "            <table style='border: 1px solid #dddddd; font-family: Courier'>\n",
       "                <th style='border: 1px solid #dddddd'>name</th><th style='border: 1px solid #dddddd'>type</th><th style='border: 1px solid #dddddd'>nullable</th>\n",
       "                <tr><td style='border: 1px solid #dddddd'>scoring_id</td><td style='border: 1px solid #dddddd'>string</td><td style='border: 1px solid #dddddd'>False</td></tr><tr><td style='border: 1px solid #dddddd'>scoring_timestamp</td><td style='border: 1px solid #dddddd'>timestamp</td><td style='border: 1px solid #dddddd'>False</td></tr><tr><td style='border: 1px solid #dddddd'>deployment_id</td><td style='border: 1px solid #dddddd'>string</td><td style='border: 1px solid #dddddd'>False</td></tr><tr><td style='border: 1px solid #dddddd'>asset_revision</td><td style='border: 1px solid #dddddd'>string</td><td style='border: 1px solid #dddddd'>True</td></tr><tr><td style='border: 1px solid #dddddd'>CheckingStatus_0_to_200</td><td style='border: 1px solid #dddddd'>double</td><td style='border: 1px solid #dddddd'>True</td></tr><tr><td style='border: 1px solid #dddddd'>CheckingStatus_greater_200</td><td style='border: 1px solid #dddddd'>double</td><td style='border: 1px solid #dddddd'>True</td></tr><tr><td style='border: 1px solid #dddddd'>CheckingStatus_less_0</td><td style='border: 1px solid #dddddd'>double</td><td style='border: 1px solid #dddddd'>True</td></tr><tr><td style='border: 1px solid #dddddd'>CheckingStatus_no_checking</td><td style='border: 1px solid #dddddd'>double</td><td style='border: 1px solid #dddddd'>True</td></tr><tr><td style='border: 1px solid #dddddd'>CreditHistory_all_credits_paid_back</td><td style='border: 1px solid #dddddd'>double</td><td style='border: 1px solid #dddddd'>True</td></tr><tr><td style='border: 1px solid #dddddd'>CreditHistory_credits_paid_to_date</td><td style='border: 1px solid #dddddd'>double</td><td style='border: 1px solid #dddddd'>True</td></tr><tr><td style='border: 1px solid #dddddd'>CreditHistory_no_credits</td><td style='border: 1px solid #dddddd'>double</td><td style='border: 1px solid #dddddd'>True</td></tr><tr><td style='border: 1px solid #dddddd'>CreditHistory_outstanding_credit</td><td style='border: 1px solid #dddddd'>double</td><td style='border: 1px solid #dddddd'>True</td></tr><tr><td style='border: 1px solid #dddddd'>CreditHistory_prior_payments_delayed</td><td style='border: 1px solid #dddddd'>double</td><td style='border: 1px solid #dddddd'>True</td></tr><tr><td style='border: 1px solid #dddddd'>LoanPurpose_appliances</td><td style='border: 1px solid #dddddd'>double</td><td style='border: 1px solid #dddddd'>True</td></tr><tr><td style='border: 1px solid #dddddd'>LoanPurpose_business</td><td style='border: 1px solid #dddddd'>double</td><td style='border: 1px solid #dddddd'>True</td></tr><tr><td style='border: 1px solid #dddddd'>LoanPurpose_car_new</td><td style='border: 1px solid #dddddd'>double</td><td style='border: 1px solid #dddddd'>True</td></tr><tr><td style='border: 1px solid #dddddd'>LoanPurpose_car_used</td><td style='border: 1px solid #dddddd'>double</td><td style='border: 1px solid #dddddd'>True</td></tr><tr><td style='border: 1px solid #dddddd'>LoanPurpose_education</td><td style='border: 1px solid #dddddd'>double</td><td style='border: 1px solid #dddddd'>True</td></tr><tr><td style='border: 1px solid #dddddd'>LoanPurpose_furniture</td><td style='border: 1px solid #dddddd'>double</td><td style='border: 1px solid #dddddd'>True</td></tr><tr><td style='border: 1px solid #dddddd'>LoanPurpose_other</td><td style='border: 1px solid #dddddd'>double</td><td style='border: 1px solid #dddddd'>True</td></tr><tr><td style='border: 1px solid #dddddd'>LoanPurpose_radio_tv</td><td style='border: 1px solid #dddddd'>double</td><td style='border: 1px solid #dddddd'>True</td></tr><tr><td style='border: 1px solid #dddddd'>LoanPurpose_repairs</td><td style='border: 1px solid #dddddd'>double</td><td style='border: 1px solid #dddddd'>True</td></tr><tr><td style='border: 1px solid #dddddd'>LoanPurpose_retraining</td><td style='border: 1px solid #dddddd'>double</td><td style='border: 1px solid #dddddd'>True</td></tr><tr><td style='border: 1px solid #dddddd'>LoanPurpose_vacation</td><td style='border: 1px solid #dddddd'>double</td><td style='border: 1px solid #dddddd'>True</td></tr><tr><td style='border: 1px solid #dddddd'>ExistingSavings_100_to_500</td><td style='border: 1px solid #dddddd'>double</td><td style='border: 1px solid #dddddd'>True</td></tr><tr><td style='border: 1px solid #dddddd'>ExistingSavings_500_to_1000</td><td style='border: 1px solid #dddddd'>double</td><td style='border: 1px solid #dddddd'>True</td></tr><tr><td style='border: 1px solid #dddddd'>ExistingSavings_greater_1000</td><td style='border: 1px solid #dddddd'>double</td><td style='border: 1px solid #dddddd'>True</td></tr><tr><td style='border: 1px solid #dddddd'>ExistingSavings_less_100</td><td style='border: 1px solid #dddddd'>double</td><td style='border: 1px solid #dddddd'>True</td></tr><tr><td style='border: 1px solid #dddddd'>ExistingSavings_unknown</td><td style='border: 1px solid #dddddd'>double</td><td style='border: 1px solid #dddddd'>True</td></tr><tr><td style='border: 1px solid #dddddd'>EmploymentDuration_1_to_4</td><td style='border: 1px solid #dddddd'>double</td><td style='border: 1px solid #dddddd'>True</td></tr><tr><td style='border: 1px solid #dddddd'>EmploymentDuration_4_to_7</td><td style='border: 1px solid #dddddd'>double</td><td style='border: 1px solid #dddddd'>True</td></tr><tr><td style='border: 1px solid #dddddd'>EmploymentDuration_greater_7</td><td style='border: 1px solid #dddddd'>double</td><td style='border: 1px solid #dddddd'>True</td></tr><tr><td style='border: 1px solid #dddddd'>EmploymentDuration_less_1</td><td style='border: 1px solid #dddddd'>double</td><td style='border: 1px solid #dddddd'>True</td></tr><tr><td style='border: 1px solid #dddddd'>EmploymentDuration_unemployed</td><td style='border: 1px solid #dddddd'>double</td><td style='border: 1px solid #dddddd'>True</td></tr><tr><td style='border: 1px solid #dddddd'>Sex_female</td><td style='border: 1px solid #dddddd'>double</td><td style='border: 1px solid #dddddd'>True</td></tr><tr><td style='border: 1px solid #dddddd'>Sex_male</td><td style='border: 1px solid #dddddd'>double</td><td style='border: 1px solid #dddddd'>True</td></tr><tr><td style='border: 1px solid #dddddd'>OthersOnLoan_co-applicant</td><td style='border: 1px solid #dddddd'>double</td><td style='border: 1px solid #dddddd'>True</td></tr><tr><td style='border: 1px solid #dddddd'>OthersOnLoan_guarantor</td><td style='border: 1px solid #dddddd'>double</td><td style='border: 1px solid #dddddd'>True</td></tr><tr><td style='border: 1px solid #dddddd'>OthersOnLoan_none</td><td style='border: 1px solid #dddddd'>double</td><td style='border: 1px solid #dddddd'>True</td></tr><tr><td style='border: 1px solid #dddddd'>OwnsProperty_car_other</td><td style='border: 1px solid #dddddd'>double</td><td style='border: 1px solid #dddddd'>True</td></tr><tr><td style='border: 1px solid #dddddd'>OwnsProperty_real_estate</td><td style='border: 1px solid #dddddd'>double</td><td style='border: 1px solid #dddddd'>True</td></tr><tr><td style='border: 1px solid #dddddd'>OwnsProperty_savings_insurance</td><td style='border: 1px solid #dddddd'>double</td><td style='border: 1px solid #dddddd'>True</td></tr><tr><td style='border: 1px solid #dddddd'>OwnsProperty_unknown</td><td style='border: 1px solid #dddddd'>double</td><td style='border: 1px solid #dddddd'>True</td></tr><tr><td style='border: 1px solid #dddddd'>InstallmentPlans_bank</td><td style='border: 1px solid #dddddd'>double</td><td style='border: 1px solid #dddddd'>True</td></tr><tr><td style='border: 1px solid #dddddd'>InstallmentPlans_none</td><td style='border: 1px solid #dddddd'>double</td><td style='border: 1px solid #dddddd'>True</td></tr><tr><td style='border: 1px solid #dddddd'>InstallmentPlans_stores</td><td style='border: 1px solid #dddddd'>double</td><td style='border: 1px solid #dddddd'>True</td></tr><tr><td style='border: 1px solid #dddddd'>Housing_free</td><td style='border: 1px solid #dddddd'>double</td><td style='border: 1px solid #dddddd'>True</td></tr><tr><td style='border: 1px solid #dddddd'>Housing_own</td><td style='border: 1px solid #dddddd'>double</td><td style='border: 1px solid #dddddd'>True</td></tr><tr><td style='border: 1px solid #dddddd'>Housing_rent</td><td style='border: 1px solid #dddddd'>double</td><td style='border: 1px solid #dddddd'>True</td></tr><tr><td style='border: 1px solid #dddddd'>Job_management_self-employed</td><td style='border: 1px solid #dddddd'>double</td><td style='border: 1px solid #dddddd'>True</td></tr><tr><td style='border: 1px solid #dddddd'>Job_skilled</td><td style='border: 1px solid #dddddd'>double</td><td style='border: 1px solid #dddddd'>True</td></tr><tr><td style='border: 1px solid #dddddd'>Job_unemployed</td><td style='border: 1px solid #dddddd'>double</td><td style='border: 1px solid #dddddd'>True</td></tr><tr><td style='border: 1px solid #dddddd'>Job_unskilled</td><td style='border: 1px solid #dddddd'>double</td><td style='border: 1px solid #dddddd'>True</td></tr><tr><td style='border: 1px solid #dddddd'>Telephone_none</td><td style='border: 1px solid #dddddd'>double</td><td style='border: 1px solid #dddddd'>True</td></tr><tr><td style='border: 1px solid #dddddd'>Telephone_yes</td><td style='border: 1px solid #dddddd'>double</td><td style='border: 1px solid #dddddd'>True</td></tr><tr><td style='border: 1px solid #dddddd'>ForeignWorker_no</td><td style='border: 1px solid #dddddd'>double</td><td style='border: 1px solid #dddddd'>True</td></tr><tr><td style='border: 1px solid #dddddd'>ForeignWorker_yes</td><td style='border: 1px solid #dddddd'>double</td><td style='border: 1px solid #dddddd'>True</td></tr><tr><td style='border: 1px solid #dddddd'>LoanDuration</td><td style='border: 1px solid #dddddd'>double</td><td style='border: 1px solid #dddddd'>True</td></tr><tr><td style='border: 1px solid #dddddd'>LoanAmount</td><td style='border: 1px solid #dddddd'>double</td><td style='border: 1px solid #dddddd'>True</td></tr><tr><td style='border: 1px solid #dddddd'>InstallmentPercent</td><td style='border: 1px solid #dddddd'>double</td><td style='border: 1px solid #dddddd'>True</td></tr><tr><td style='border: 1px solid #dddddd'>CurrentResidenceDuration</td><td style='border: 1px solid #dddddd'>double</td><td style='border: 1px solid #dddddd'>True</td></tr><tr><td style='border: 1px solid #dddddd'>Age</td><td style='border: 1px solid #dddddd'>double</td><td style='border: 1px solid #dddddd'>True</td></tr><tr><td style='border: 1px solid #dddddd'>ExistingCreditsCount</td><td style='border: 1px solid #dddddd'>double</td><td style='border: 1px solid #dddddd'>True</td></tr><tr><td style='border: 1px solid #dddddd'>Dependents</td><td style='border: 1px solid #dddddd'>double</td><td style='border: 1px solid #dddddd'>True</td></tr><tr><td style='border: 1px solid #dddddd'>score</td><td style='border: 1px solid #dddddd'>double</td><td style='border: 1px solid #dddddd'>True</td></tr><tr><td style='border: 1px solid #dddddd'>predicted_label</td><td style='border: 1px solid #dddddd'>integer</td><td style='border: 1px solid #dddddd'>True</td></tr><tr><td style='border: 1px solid #dddddd'>prediction_probability</td><td style='border: 1px solid #dddddd'>double</td><td style='border: 1px solid #dddddd'>True</td></tr><tr><td style='border: 1px solid #dddddd'>ProbabilityVector</td><td style='border: 1px solid #dddddd'>{'containsNull': True, 'elementType': 'double', 'type': 'array'}</td><td style='border: 1px solid #dddddd'>True</td></tr>\n",
       "            </table>\n",
       "        </body>\n",
       "        </HTML>"
      ],
      "text/plain": [
       "<IPython.core.display.HTML object>"
      ]
     },
     "metadata": {},
     "output_type": "display_data"
    }
   ],
   "source": [
    "wos_client.data_sets.print_records_schema(data_set_id=payload_data_set_id)"
   ]
  },
  {
   "cell_type": "markdown",
   "metadata": {},
   "source": [
    "<a id=\"fairness_and_explainability\"></a>\n",
    "## 7. Fairness, Drift monitoring and explanations"
   ]
  },
  {
   "cell_type": "markdown",
   "metadata": {},
   "source": [
    "### Get payload data"
   ]
  },
  {
   "cell_type": "code",
   "execution_count": 64,
   "metadata": {},
   "outputs": [],
   "source": [
    "scoring_data_filename='credit_risk_scoring_recoded.csv'\n",
    "scoring_data_filename_json='credit_risk_scoring_recoded.json'"
   ]
  },
  {
   "cell_type": "code",
   "execution_count": 65,
   "metadata": {},
   "outputs": [
    {
     "name": "stdout",
     "output_type": "stream",
     "text": [
      "rm: cannot remove 'credit_risk_scoring_recoded.json': No such file or directory\n",
      "--2021-08-05 19:23:51--  https://raw.githubusercontent.com/IBM/watson-openscale-samples/main/IBM%20Cloud/AWS%20Sagemaker/assets/data/credit_risk_aws/credit_risk_scoring_recoded.json\n",
      "Resolving raw.githubusercontent.com (raw.githubusercontent.com)... 185.199.111.133, 185.199.109.133, 185.199.110.133, ...\n",
      "Connecting to raw.githubusercontent.com (raw.githubusercontent.com)|185.199.111.133|:443... connected.\n",
      "HTTP request sent, awaiting response... 200 OK\n",
      "Length: 5108 (5.0K) [text/plain]\n",
      "Saving to: ‘credit_risk_scoring_recoded.json’\n",
      "\n",
      "credit_risk_scoring 100%[===================>]   4.99K  --.-KB/s    in 0s      \n",
      "\n",
      "2021-08-05 19:23:51 (34.1 MB/s) - ‘credit_risk_scoring_recoded.json’ saved [5108/5108]\n",
      "\n",
      "--2021-08-05 19:23:52--  https://raw.githubusercontent.com/IBM/watson-openscale-samples/main/IBM%20Cloud/AWS%20Sagemaker/assets/data/credit_risk_aws/credit_risk_scoring_recoded.csv\n",
      "Resolving raw.githubusercontent.com (raw.githubusercontent.com)... 185.199.108.133, 185.199.110.133, 185.199.111.133, ...\n",
      "Connecting to raw.githubusercontent.com (raw.githubusercontent.com)|185.199.108.133|:443... connected.\n",
      "HTTP request sent, awaiting response... 200 OK\n",
      "Length: 4984 (4.9K) [text/plain]\n",
      "Saving to: ‘credit_risk_scoring_recoded.csv’\n",
      "\n",
      "credit_risk_scoring 100%[===================>]   4.87K  --.-KB/s    in 0s      \n",
      "\n",
      "2021-08-05 19:23:52 (32.6 MB/s) - ‘credit_risk_scoring_recoded.csv’ saved [4984/4984]\n",
      "\n"
     ]
    }
   ],
   "source": [
    "!rm credit_risk_scoring_recoded.json\n",
    "!rm credit_risk_scoring_recoded.csv\n",
    "!wget \"https://raw.githubusercontent.com/IBM/watson-openscale-samples/main/IBM%20Cloud/AWS%20Sagemaker/assets/data/credit_risk_aws/credit_risk_scoring_recoded.json\"\n",
    "!wget \"https://raw.githubusercontent.com/IBM/watson-openscale-samples/main/IBM%20Cloud/AWS%20Sagemaker/assets/data/credit_risk_aws/credit_risk_scoring_recoded.csv\""
   ]
  },
  {
   "cell_type": "code",
   "execution_count": 66,
   "metadata": {},
   "outputs": [
    {
     "name": "stdout",
     "output_type": "stream",
     "text": [
      "{\n",
      "  \"predictions\": [\n",
      "    {\n",
      "      \"score\": 0.44011253118515015,\n",
      "      \"predicted_label\": 0\n",
      "    },\n",
      "    {\n",
      "      \"score\": 0.9322102069854736,\n",
      "      \"predicted_label\": 1\n",
      "    },\n",
      "    {\n",
      "      \"score\": 0.23179161548614502,\n",
      "      \"predicted_label\": 0\n",
      "    },\n",
      "    {\n",
      "      \"score\": 0.5139932632446289,\n",
      "      \"predicted_label\": 0\n",
      "    },\n",
      "    {\n",
      "      \"score\": 0.11651258915662766,\n",
      "      \"predicted_label\": 0\n",
      "    },\n",
      "    {\n",
      "      \"score\": 0.2591845691204071,\n",
      "      \"predicted_label\": 0\n",
      "    },\n",
      "    {\n",
      "      \"score\": 0.09976425766944885,\n",
      "      \"predicted_label\": 0\n",
      "    },\n",
      "    {\n",
      "      \"score\": 0.22220531105995178,\n",
      "      \"predicted_label\": 0\n",
      "    },\n",
      "    {\n",
      "      \"score\": 0.02672547660768032,\n",
      "      \"predicted_label\": 0\n",
      "    },\n",
      "    {\n",
      "      \"score\": 0.048588234931230545,\n",
      "      \"predicted_label\": 0\n",
      "    },\n",
      "    {\n",
      "      \"score\": 0.14364618062973022,\n",
      "      \"predicted_label\": 0\n",
      "    },\n",
      "    {\n",
      "      \"score\": 0.4464980959892273,\n",
      "      \"predicted_label\": 0\n",
      "    },\n",
      "    {\n",
      "      \"score\": 0.6185409426689148,\n",
      "      \"predicted_label\": 1\n",
      "    },\n",
      "    {\n",
      "      \"score\": 0.02261577919125557,\n",
      "      \"predicted_label\": 0\n",
      "    },\n",
      "    {\n",
      "      \"score\": 0.6230925917625427,\n",
      "      \"predicted_label\": 1\n",
      "    },\n",
      "    {\n",
      "      \"score\": 0.37557440996170044,\n",
      "      \"predicted_label\": 0\n",
      "    },\n",
      "    {\n",
      "      \"score\": 0.03641520440578461,\n",
      "      \"predicted_label\": 0\n",
      "    },\n",
      "    {\n",
      "      \"score\": 0.02670859359204769,\n",
      "      \"predicted_label\": 0\n",
      "    },\n",
      "    {\n",
      "      \"score\": 0.16159987449645996,\n",
      "      \"predicted_label\": 0\n",
      "    },\n",
      "    {\n",
      "      \"score\": 0.4818893373012543,\n",
      "      \"predicted_label\": 0\n",
      "    },\n",
      "    {\n",
      "      \"score\": 0.09105867892503738,\n",
      "      \"predicted_label\": 0\n",
      "    },\n",
      "    {\n",
      "      \"score\": 0.6293351054191589,\n",
      "      \"predicted_label\": 1\n",
      "    },\n",
      "    {\n",
      "      \"score\": 0.0022723814472556114,\n",
      "      \"predicted_label\": 0\n",
      "    },\n",
      "    {\n",
      "      \"score\": 0.21080675721168518,\n",
      "      \"predicted_label\": 0\n",
      "    },\n",
      "    {\n",
      "      \"score\": 0.22841456532478333,\n",
      "      \"predicted_label\": 0\n",
      "    },\n",
      "    {\n",
      "      \"score\": 0.9826950430870056,\n",
      "      \"predicted_label\": 1\n",
      "    },\n",
      "    {\n",
      "      \"score\": 0.01888587884604931,\n",
      "      \"predicted_label\": 0\n",
      "    },\n",
      "    {\n",
      "      \"score\": 0.008346079848706722,\n",
      "      \"predicted_label\": 0\n",
      "    },\n",
      "    {\n",
      "      \"score\": 0.459709107875824,\n",
      "      \"predicted_label\": 0\n",
      "    },\n",
      "    {\n",
      "      \"score\": 0.3115033507347107,\n",
      "      \"predicted_label\": 0\n",
      "    },\n",
      "    {\n",
      "      \"score\": 0.45812129974365234,\n",
      "      \"predicted_label\": 0\n",
      "    },\n",
      "    {\n",
      "      \"score\": 0.055442217737436295,\n",
      "      \"predicted_label\": 0\n",
      "    },\n",
      "    {\n",
      "      \"score\": 0.3524249792098999,\n",
      "      \"predicted_label\": 0\n",
      "    },\n",
      "    {\n",
      "      \"score\": 0.2956694960594177,\n",
      "      \"predicted_label\": 0\n",
      "    },\n",
      "    {\n",
      "      \"score\": 0.1703130602836609,\n",
      "      \"predicted_label\": 0\n",
      "    },\n",
      "    {\n",
      "      \"score\": 0.4231722950935364,\n",
      "      \"predicted_label\": 0\n",
      "    },\n",
      "    {\n",
      "      \"score\": 0.08539573103189468,\n",
      "      \"predicted_label\": 0\n",
      "    },\n",
      "    {\n",
      "      \"score\": 0.8461574912071228,\n",
      "      \"predicted_label\": 1\n",
      "    },\n",
      "    {\n",
      "      \"score\": 0.560360848903656,\n",
      "      \"predicted_label\": 1\n",
      "    },\n",
      "    {\n",
      "      \"score\": 0.19936884939670563,\n",
      "      \"predicted_label\": 0\n",
      "    }\n",
      "  ]\n",
      "}\n"
     ]
    }
   ],
   "source": [
    "sm_runtime = boto3.client('sagemaker-runtime',\n",
    "                       region_name=SAGEMAKER_ENGINE_CREDENTIALS['region'],\n",
    "                       aws_access_key_id=SAGEMAKER_ENGINE_CREDENTIALS['access_key_id'],\n",
    "                       aws_secret_access_key=SAGEMAKER_ENGINE_CREDENTIALS['secret_access_key'])\n",
    "\n",
    "with open(scoring_data_filename) as f_payload:\n",
    "    scoring_response = sm_runtime.invoke_endpoint(EndpointName = endpoint_name,\n",
    "                                                  ContentType = 'text/csv',\n",
    "                                                  Body = f_payload.read().encode())\n",
    "    \n",
    "    result = json.loads(scoring_response['Body'].read().decode())\n",
    "    print(json.dumps(result, indent=2))"
   ]
  },
  {
   "cell_type": "code",
   "execution_count": 67,
   "metadata": {},
   "outputs": [],
   "source": [
    "f = open(scoring_data_filename_json,\"r\")\n",
    "payload_values = json.load(f)\n",
    "request_data = {'fields': feature_columns, \n",
    "                'values': payload_values}\n",
    "\n",
    "response_data = {'fields': list(result['predictions'][0]),\n",
    "                 'values': [list(x.values()) for x in result['predictions']]}\n"
   ]
  },
  {
   "cell_type": "code",
   "execution_count": 68,
   "metadata": {},
   "outputs": [
    {
     "name": "stdout",
     "output_type": "stream",
     "text": [
      "Performing explicit payload logging.....\n",
      "Number of records in the payload logging table: 41\n"
     ]
    }
   ],
   "source": [
    "import uuid\n",
    "from ibm_watson_openscale.supporting_classes.payload_record import PayloadRecord\n",
    "\n",
    "print(\"Performing explicit payload logging.....\")\n",
    "wos_client.data_sets.store_records(data_set_id=payload_data_set_id, request_body=[PayloadRecord(\n",
    "           scoring_id=str(uuid.uuid4()),\n",
    "           request=request_data,\n",
    "           response=response_data,\n",
    "           response_time=460\n",
    ")])\n",
    "time.sleep(5)\n",
    "pl_records_count = wos_client.data_sets.get_records_count(payload_data_set_id)\n",
    "print(\"Number of records in the payload logging table: {}\".format(pl_records_count))"
   ]
  },
  {
   "cell_type": "code",
   "execution_count": 69,
   "metadata": {},
   "outputs": [
    {
     "data": {
      "text/html": [
       "<HTML>\n",
       "        <body>\n",
       "            <h3>Data Set 2442cacc-5dcf-4117-adc8-d9e3c6b0e38c Records</h3>\n",
       "            <table style='border: 1px solid #dddddd; font-family: Courier'>\n",
       "                <th style='border: 1px solid #dddddd'>Sex_male</th><th style='border: 1px solid #dddddd'>asset_revision</th><th style='border: 1px solid #dddddd'>LoanPurpose_vacation</th><th style='border: 1px solid #dddddd'>CreditHistory_prior_payments_delayed</th><th style='border: 1px solid #dddddd'>OwnsProperty_real_estate</th><th style='border: 1px solid #dddddd'>CreditHistory_no_credits</th><th style='border: 1px solid #dddddd'>LoanAmount</th><th style='border: 1px solid #dddddd'>scoring_id</th><th style='border: 1px solid #dddddd'>OthersOnLoan_co-applicant</th><th style='border: 1px solid #dddddd'>Housing_free</th><th style='border: 1px solid #dddddd'>Housing_own</th><th style='border: 1px solid #dddddd'>InstallmentPercent</th><th style='border: 1px solid #dddddd'>predicted_label</th><th style='border: 1px solid #dddddd'>LoanPurpose_retraining</th><th style='border: 1px solid #dddddd'>scoring_timestamp</th><th style='border: 1px solid #dddddd'>ExistingSavings_less_100</th><th style='border: 1px solid #dddddd'>OthersOnLoan_none</th><th style='border: 1px solid #dddddd'>Job_unskilled</th><th style='border: 1px solid #dddddd'>prediction_probability</th><th style='border: 1px solid #dddddd'>LoanPurpose_repairs</th><th style='border: 1px solid #dddddd'>ProbabilityVector</th><th style='border: 1px solid #dddddd'>LoanPurpose_business</th><th style='border: 1px solid #dddddd'>OwnsProperty_unknown</th><th style='border: 1px solid #dddddd'>score</th><th style='border: 1px solid #dddddd'>CreditHistory_all_credits_paid_back</th><th style='border: 1px solid #dddddd'>Sex_female</th><th style='border: 1px solid #dddddd'>CheckingStatus_no_checking</th><th style='border: 1px solid #dddddd'>LoanPurpose_car_new</th><th style='border: 1px solid #dddddd'>InstallmentPlans_none</th><th style='border: 1px solid #dddddd'>LoanPurpose_other</th><th style='border: 1px solid #dddddd'>OwnsProperty_savings_insurance</th><th style='border: 1px solid #dddddd'>Telephone_none</th><th style='border: 1px solid #dddddd'>OthersOnLoan_guarantor</th><th style='border: 1px solid #dddddd'>InstallmentPlans_stores</th><th style='border: 1px solid #dddddd'>LoanPurpose_appliances</th><th style='border: 1px solid #dddddd'>EmploymentDuration_unemployed</th><th style='border: 1px solid #dddddd'>ExistingSavings_greater_1000</th><th style='border: 1px solid #dddddd'>Job_skilled</th><th style='border: 1px solid #dddddd'>Telephone_yes</th><th style='border: 1px solid #dddddd'>CheckingStatus_0_to_200</th><th style='border: 1px solid #dddddd'>ExistingSavings_500_to_1000</th><th style='border: 1px solid #dddddd'>LoanPurpose_radio_tv</th><th style='border: 1px solid #dddddd'>EmploymentDuration_less_1</th><th style='border: 1px solid #dddddd'>CreditHistory_credits_paid_to_date</th><th style='border: 1px solid #dddddd'>EmploymentDuration_1_to_4</th><th style='border: 1px solid #dddddd'>LoanDuration</th><th style='border: 1px solid #dddddd'>Age</th><th style='border: 1px solid #dddddd'>CheckingStatus_greater_200</th><th style='border: 1px solid #dddddd'>ForeignWorker_yes</th><th style='border: 1px solid #dddddd'>CurrentResidenceDuration</th><th style='border: 1px solid #dddddd'>LoanPurpose_education</th><th style='border: 1px solid #dddddd'>Housing_rent</th><th style='border: 1px solid #dddddd'>Job_unemployed</th><th style='border: 1px solid #dddddd'>CheckingStatus_less_0</th><th style='border: 1px solid #dddddd'>OwnsProperty_car_other</th><th style='border: 1px solid #dddddd'>ExistingCreditsCount</th><th style='border: 1px solid #dddddd'>deployment_id</th><th style='border: 1px solid #dddddd'>Job_management_self-employed</th><th style='border: 1px solid #dddddd'>ExistingSavings_100_to_500</th><th style='border: 1px solid #dddddd'>LoanPurpose_car_used</th><th style='border: 1px solid #dddddd'>EmploymentDuration_4_to_7</th><th style='border: 1px solid #dddddd'>LoanPurpose_furniture</th><th style='border: 1px solid #dddddd'>Dependents</th><th style='border: 1px solid #dddddd'>ExistingSavings_unknown</th><th style='border: 1px solid #dddddd'>CreditHistory_outstanding_credit</th><th style='border: 1px solid #dddddd'>InstallmentPlans_bank</th><th style='border: 1px solid #dddddd'>ForeignWorker_no</th><th style='border: 1px solid #dddddd'>EmploymentDuration_greater_7</th>\n",
       "                <tr><td style='border: 1px solid #dddddd'>1.0</td><td style='border: 1px solid #dddddd'>None</td><td style='border: 1px solid #dddddd'>0.0</td><td style='border: 1px solid #dddddd'>0.0</td><td style='border: 1px solid #dddddd'>0.0</td><td style='border: 1px solid #dddddd'>0.0</td><td style='border: 1px solid #dddddd'>5308.0</td><td style='border: 1px solid #dddddd'>97093668-aebf-4167-8988-d85ac19127a9-1</td><td style='border: 1px solid #dddddd'>0.0</td><td style='border: 1px solid #dddddd'>0.0</td><td style='border: 1px solid #dddddd'>1.0</td><td style='border: 1px solid #dddddd'>3.0</td><td style='border: 1px solid #dddddd'>0</td><td style='border: 1px solid #dddddd'>0.0</td><td style='border: 1px solid #dddddd'>2021-08-05T19:24:01.277Z</td><td style='border: 1px solid #dddddd'>0.0</td><td style='border: 1px solid #dddddd'>1.0</td><td style='border: 1px solid #dddddd'>0.0</td><td style='border: 1px solid #dddddd'>0.5598874688148499</td><td style='border: 1px solid #dddddd'>0.0</td><td style='border: 1px solid #dddddd'>[0.5598874688148499, 0.44011253118515015]</td><td style='border: 1px solid #dddddd'>0.0</td><td style='border: 1px solid #dddddd'>0.0</td><td style='border: 1px solid #dddddd'>0.44011253118515015</td><td style='border: 1px solid #dddddd'>0.0</td><td style='border: 1px solid #dddddd'>0.0</td><td style='border: 1px solid #dddddd'>1.0</td><td style='border: 1px solid #dddddd'>0.0</td><td style='border: 1px solid #dddddd'>1.0</td><td style='border: 1px solid #dddddd'>0.0</td><td style='border: 1px solid #dddddd'>1.0</td><td style='border: 1px solid #dddddd'>1.0</td><td style='border: 1px solid #dddddd'>0.0</td><td style='border: 1px solid #dddddd'>0.0</td><td style='border: 1px solid #dddddd'>1.0</td><td style='border: 1px solid #dddddd'>0.0</td><td style='border: 1px solid #dddddd'>0.0</td><td style='border: 1px solid #dddddd'>1.0</td><td style='border: 1px solid #dddddd'>0.0</td><td style='border: 1px solid #dddddd'>0.0</td><td style='border: 1px solid #dddddd'>0.0</td><td style='border: 1px solid #dddddd'>0.0</td><td style='border: 1px solid #dddddd'>0.0</td><td style='border: 1px solid #dddddd'>1.0</td><td style='border: 1px solid #dddddd'>0.0</td><td style='border: 1px solid #dddddd'>38.0</td><td style='border: 1px solid #dddddd'>31.0</td><td style='border: 1px solid #dddddd'>0.0</td><td style='border: 1px solid #dddddd'>1.0</td><td style='border: 1px solid #dddddd'>3.0</td><td style='border: 1px solid #dddddd'>0.0</td><td style='border: 1px solid #dddddd'>0.0</td><td style='border: 1px solid #dddddd'>0.0</td><td style='border: 1px solid #dddddd'>0.0</td><td style='border: 1px solid #dddddd'>0.0</td><td style='border: 1px solid #dddddd'>1.0</td><td style='border: 1px solid #dddddd'>44cbb38bb2c81f10236feaff987a5bb9</td><td style='border: 1px solid #dddddd'>0.0</td><td style='border: 1px solid #dddddd'>1.0</td><td style='border: 1px solid #dddddd'>0.0</td><td style='border: 1px solid #dddddd'>1.0</td><td style='border: 1px solid #dddddd'>0.0</td><td style='border: 1px solid #dddddd'>1.0</td><td style='border: 1px solid #dddddd'>0.0</td><td style='border: 1px solid #dddddd'>0.0</td><td style='border: 1px solid #dddddd'>0.0</td><td style='border: 1px solid #dddddd'>0.0</td><td style='border: 1px solid #dddddd'>0.0</td></tr><tr><td style='border: 1px solid #dddddd'>0.0</td><td style='border: 1px solid #dddddd'>None</td><td style='border: 1px solid #dddddd'>0.0</td><td style='border: 1px solid #dddddd'>0.0</td><td style='border: 1px solid #dddddd'>0.0</td><td style='border: 1px solid #dddddd'>0.0</td><td style='border: 1px solid #dddddd'>620.0</td><td style='border: 1px solid #dddddd'>97093668-aebf-4167-8988-d85ac19127a9-10</td><td style='border: 1px solid #dddddd'>0.0</td><td style='border: 1px solid #dddddd'>0.0</td><td style='border: 1px solid #dddddd'>0.0</td><td style='border: 1px solid #dddddd'>2.0</td><td style='border: 1px solid #dddddd'>0</td><td style='border: 1px solid #dddddd'>0.0</td><td style='border: 1px solid #dddddd'>2021-08-05T19:24:01.277Z</td><td style='border: 1px solid #dddddd'>0.0</td><td style='border: 1px solid #dddddd'>1.0</td><td style='border: 1px solid #dddddd'>0.0</td><td style='border: 1px solid #dddddd'>0.9514117650687695</td><td style='border: 1px solid #dddddd'>0.0</td><td style='border: 1px solid #dddddd'>[0.9514117650687695, 0.048588234931230545]</td><td style='border: 1px solid #dddddd'>0.0</td><td style='border: 1px solid #dddddd'>0.0</td><td style='border: 1px solid #dddddd'>0.048588234931230545</td><td style='border: 1px solid #dddddd'>0.0</td><td style='border: 1px solid #dddddd'>1.0</td><td style='border: 1px solid #dddddd'>0.0</td><td style='border: 1px solid #dddddd'>0.0</td><td style='border: 1px solid #dddddd'>0.0</td><td style='border: 1px solid #dddddd'>0.0</td><td style='border: 1px solid #dddddd'>0.0</td><td style='border: 1px solid #dddddd'>1.0</td><td style='border: 1px solid #dddddd'>0.0</td><td style='border: 1px solid #dddddd'>1.0</td><td style='border: 1px solid #dddddd'>0.0</td><td style='border: 1px solid #dddddd'>0.0</td><td style='border: 1px solid #dddddd'>0.0</td><td style='border: 1px solid #dddddd'>1.0</td><td style='border: 1px solid #dddddd'>0.0</td><td style='border: 1px solid #dddddd'>0.0</td><td style='border: 1px solid #dddddd'>1.0</td><td style='border: 1px solid #dddddd'>0.0</td><td style='border: 1px solid #dddddd'>1.0</td><td style='border: 1px solid #dddddd'>1.0</td><td style='border: 1px solid #dddddd'>0.0</td><td style='border: 1px solid #dddddd'>12.0</td><td style='border: 1px solid #dddddd'>30.0</td><td style='border: 1px solid #dddddd'>0.0</td><td style='border: 1px solid #dddddd'>1.0</td><td style='border: 1px solid #dddddd'>1.0</td><td style='border: 1px solid #dddddd'>0.0</td><td style='border: 1px solid #dddddd'>1.0</td><td style='border: 1px solid #dddddd'>0.0</td><td style='border: 1px solid #dddddd'>1.0</td><td style='border: 1px solid #dddddd'>1.0</td><td style='border: 1px solid #dddddd'>1.0</td><td style='border: 1px solid #dddddd'>44cbb38bb2c81f10236feaff987a5bb9</td><td style='border: 1px solid #dddddd'>0.0</td><td style='border: 1px solid #dddddd'>0.0</td><td style='border: 1px solid #dddddd'>0.0</td><td style='border: 1px solid #dddddd'>0.0</td><td style='border: 1px solid #dddddd'>1.0</td><td style='border: 1px solid #dddddd'>1.0</td><td style='border: 1px solid #dddddd'>0.0</td><td style='border: 1px solid #dddddd'>0.0</td><td style='border: 1px solid #dddddd'>0.0</td><td style='border: 1px solid #dddddd'>0.0</td><td style='border: 1px solid #dddddd'>0.0</td></tr><tr><td style='border: 1px solid #dddddd'>0.0</td><td style='border: 1px solid #dddddd'>None</td><td style='border: 1px solid #dddddd'>0.0</td><td style='border: 1px solid #dddddd'>0.0</td><td style='border: 1px solid #dddddd'>0.0</td><td style='border: 1px solid #dddddd'>0.0</td><td style='border: 1px solid #dddddd'>1387.0</td><td style='border: 1px solid #dddddd'>97093668-aebf-4167-8988-d85ac19127a9-11</td><td style='border: 1px solid #dddddd'>0.0</td><td style='border: 1px solid #dddddd'>0.0</td><td style='border: 1px solid #dddddd'>1.0</td><td style='border: 1px solid #dddddd'>2.0</td><td style='border: 1px solid #dddddd'>0</td><td style='border: 1px solid #dddddd'>0.0</td><td style='border: 1px solid #dddddd'>2021-08-05T19:24:01.277Z</td><td style='border: 1px solid #dddddd'>1.0</td><td style='border: 1px solid #dddddd'>1.0</td><td style='border: 1px solid #dddddd'>0.0</td><td style='border: 1px solid #dddddd'>0.8563538193702698</td><td style='border: 1px solid #dddddd'>0.0</td><td style='border: 1px solid #dddddd'>[0.8563538193702698, 0.14364618062973022]</td><td style='border: 1px solid #dddddd'>0.0</td><td style='border: 1px solid #dddddd'>0.0</td><td style='border: 1px solid #dddddd'>0.14364618062973022</td><td style='border: 1px solid #dddddd'>0.0</td><td style='border: 1px solid #dddddd'>1.0</td><td style='border: 1px solid #dddddd'>0.0</td><td style='border: 1px solid #dddddd'>1.0</td><td style='border: 1px solid #dddddd'>1.0</td><td style='border: 1px solid #dddddd'>0.0</td><td style='border: 1px solid #dddddd'>1.0</td><td style='border: 1px solid #dddddd'>1.0</td><td style='border: 1px solid #dddddd'>0.0</td><td style='border: 1px solid #dddddd'>0.0</td><td style='border: 1px solid #dddddd'>0.0</td><td style='border: 1px solid #dddddd'>0.0</td><td style='border: 1px solid #dddddd'>0.0</td><td style='border: 1px solid #dddddd'>1.0</td><td style='border: 1px solid #dddddd'>0.0</td><td style='border: 1px solid #dddddd'>1.0</td><td style='border: 1px solid #dddddd'>0.0</td><td style='border: 1px solid #dddddd'>0.0</td><td style='border: 1px solid #dddddd'>1.0</td><td style='border: 1px solid #dddddd'>1.0</td><td style='border: 1px solid #dddddd'>0.0</td><td style='border: 1px solid #dddddd'>16.0</td><td style='border: 1px solid #dddddd'>28.0</td><td style='border: 1px solid #dddddd'>0.0</td><td style='border: 1px solid #dddddd'>1.0</td><td style='border: 1px solid #dddddd'>3.0</td><td style='border: 1px solid #dddddd'>0.0</td><td style='border: 1px solid #dddddd'>0.0</td><td style='border: 1px solid #dddddd'>0.0</td><td style='border: 1px solid #dddddd'>0.0</td><td style='border: 1px solid #dddddd'>0.0</td><td style='border: 1px solid #dddddd'>1.0</td><td style='border: 1px solid #dddddd'>44cbb38bb2c81f10236feaff987a5bb9</td><td style='border: 1px solid #dddddd'>0.0</td><td style='border: 1px solid #dddddd'>0.0</td><td style='border: 1px solid #dddddd'>0.0</td><td style='border: 1px solid #dddddd'>0.0</td><td style='border: 1px solid #dddddd'>0.0</td><td style='border: 1px solid #dddddd'>1.0</td><td style='border: 1px solid #dddddd'>0.0</td><td style='border: 1px solid #dddddd'>0.0</td><td style='border: 1px solid #dddddd'>0.0</td><td style='border: 1px solid #dddddd'>0.0</td><td style='border: 1px solid #dddddd'>0.0</td></tr><tr><td style='border: 1px solid #dddddd'>1.0</td><td style='border: 1px solid #dddddd'>None</td><td style='border: 1px solid #dddddd'>0.0</td><td style='border: 1px solid #dddddd'>0.0</td><td style='border: 1px solid #dddddd'>0.0</td><td style='border: 1px solid #dddddd'>0.0</td><td style='border: 1px solid #dddddd'>6225.0</td><td style='border: 1px solid #dddddd'>97093668-aebf-4167-8988-d85ac19127a9-12</td><td style='border: 1px solid #dddddd'>0.0</td><td style='border: 1px solid #dddddd'>0.0</td><td style='border: 1px solid #dddddd'>1.0</td><td style='border: 1px solid #dddddd'>3.0</td><td style='border: 1px solid #dddddd'>0</td><td style='border: 1px solid #dddddd'>0.0</td><td style='border: 1px solid #dddddd'>2021-08-05T19:24:01.277Z</td><td style='border: 1px solid #dddddd'>0.0</td><td style='border: 1px solid #dddddd'>1.0</td><td style='border: 1px solid #dddddd'>0.0</td><td style='border: 1px solid #dddddd'>0.5535019040107727</td><td style='border: 1px solid #dddddd'>0.0</td><td style='border: 1px solid #dddddd'>[0.5535019040107727, 0.4464980959892273]</td><td style='border: 1px solid #dddddd'>0.0</td><td style='border: 1px solid #dddddd'>0.0</td><td style='border: 1px solid #dddddd'>0.4464980959892273</td><td style='border: 1px solid #dddddd'>0.0</td><td style='border: 1px solid #dddddd'>0.0</td><td style='border: 1px solid #dddddd'>0.0</td><td style='border: 1px solid #dddddd'>0.0</td><td style='border: 1px solid #dddddd'>1.0</td><td style='border: 1px solid #dddddd'>0.0</td><td style='border: 1px solid #dddddd'>1.0</td><td style='border: 1px solid #dddddd'>1.0</td><td style='border: 1px solid #dddddd'>0.0</td><td style='border: 1px solid #dddddd'>0.0</td><td style='border: 1px solid #dddddd'>0.0</td><td style='border: 1px solid #dddddd'>0.0</td><td style='border: 1px solid #dddddd'>0.0</td><td style='border: 1px solid #dddddd'>1.0</td><td style='border: 1px solid #dddddd'>0.0</td><td style='border: 1px solid #dddddd'>0.0</td><td style='border: 1px solid #dddddd'>0.0</td><td style='border: 1px solid #dddddd'>0.0</td><td style='border: 1px solid #dddddd'>0.0</td><td style='border: 1px solid #dddddd'>1.0</td><td style='border: 1px solid #dddddd'>1.0</td><td style='border: 1px solid #dddddd'>25.0</td><td style='border: 1px solid #dddddd'>40.0</td><td style='border: 1px solid #dddddd'>1.0</td><td style='border: 1px solid #dddddd'>1.0</td><td style='border: 1px solid #dddddd'>4.0</td><td style='border: 1px solid #dddddd'>0.0</td><td style='border: 1px solid #dddddd'>0.0</td><td style='border: 1px solid #dddddd'>0.0</td><td style='border: 1px solid #dddddd'>0.0</td><td style='border: 1px solid #dddddd'>0.0</td><td style='border: 1px solid #dddddd'>2.0</td><td style='border: 1px solid #dddddd'>44cbb38bb2c81f10236feaff987a5bb9</td><td style='border: 1px solid #dddddd'>0.0</td><td style='border: 1px solid #dddddd'>1.0</td><td style='border: 1px solid #dddddd'>1.0</td><td style='border: 1px solid #dddddd'>0.0</td><td style='border: 1px solid #dddddd'>0.0</td><td style='border: 1px solid #dddddd'>1.0</td><td style='border: 1px solid #dddddd'>0.0</td><td style='border: 1px solid #dddddd'>0.0</td><td style='border: 1px solid #dddddd'>0.0</td><td style='border: 1px solid #dddddd'>0.0</td><td style='border: 1px solid #dddddd'>0.0</td></tr><tr><td style='border: 1px solid #dddddd'>1.0</td><td style='border: 1px solid #dddddd'>None</td><td style='border: 1px solid #dddddd'>0.0</td><td style='border: 1px solid #dddddd'>1.0</td><td style='border: 1px solid #dddddd'>0.0</td><td style='border: 1px solid #dddddd'>0.0</td><td style='border: 1px solid #dddddd'>4424.0</td><td style='border: 1px solid #dddddd'>97093668-aebf-4167-8988-d85ac19127a9-13</td><td style='border: 1px solid #dddddd'>0.0</td><td style='border: 1px solid #dddddd'>0.0</td><td style='border: 1px solid #dddddd'>1.0</td><td style='border: 1px solid #dddddd'>3.0</td><td style='border: 1px solid #dddddd'>1</td><td style='border: 1px solid #dddddd'>0.0</td><td style='border: 1px solid #dddddd'>2021-08-05T19:24:01.277Z</td><td style='border: 1px solid #dddddd'>0.0</td><td style='border: 1px solid #dddddd'>1.0</td><td style='border: 1px solid #dddddd'>0.0</td><td style='border: 1px solid #dddddd'>0.6185409426689148</td><td style='border: 1px solid #dddddd'>0.0</td><td style='border: 1px solid #dddddd'>[0.3814590573310852, 0.6185409426689148]</td><td style='border: 1px solid #dddddd'>0.0</td><td style='border: 1px solid #dddddd'>0.0</td><td style='border: 1px solid #dddddd'>0.6185409426689148</td><td style='border: 1px solid #dddddd'>0.0</td><td style='border: 1px solid #dddddd'>0.0</td><td style='border: 1px solid #dddddd'>1.0</td><td style='border: 1px solid #dddddd'>0.0</td><td style='border: 1px solid #dddddd'>1.0</td><td style='border: 1px solid #dddddd'>0.0</td><td style='border: 1px solid #dddddd'>1.0</td><td style='border: 1px solid #dddddd'>1.0</td><td style='border: 1px solid #dddddd'>0.0</td><td style='border: 1px solid #dddddd'>0.0</td><td style='border: 1px solid #dddddd'>0.0</td><td style='border: 1px solid #dddddd'>0.0</td><td style='border: 1px solid #dddddd'>0.0</td><td style='border: 1px solid #dddddd'>1.0</td><td style='border: 1px solid #dddddd'>0.0</td><td style='border: 1px solid #dddddd'>0.0</td><td style='border: 1px solid #dddddd'>1.0</td><td style='border: 1px solid #dddddd'>0.0</td><td style='border: 1px solid #dddddd'>0.0</td><td style='border: 1px solid #dddddd'>0.0</td><td style='border: 1px solid #dddddd'>0.0</td><td style='border: 1px solid #dddddd'>32.0</td><td style='border: 1px solid #dddddd'>32.0</td><td style='border: 1px solid #dddddd'>0.0</td><td style='border: 1px solid #dddddd'>1.0</td><td style='border: 1px solid #dddddd'>4.0</td><td style='border: 1px solid #dddddd'>1.0</td><td style='border: 1px solid #dddddd'>0.0</td><td style='border: 1px solid #dddddd'>0.0</td><td style='border: 1px solid #dddddd'>0.0</td><td style='border: 1px solid #dddddd'>0.0</td><td style='border: 1px solid #dddddd'>2.0</td><td style='border: 1px solid #dddddd'>44cbb38bb2c81f10236feaff987a5bb9</td><td style='border: 1px solid #dddddd'>0.0</td><td style='border: 1px solid #dddddd'>0.0</td><td style='border: 1px solid #dddddd'>0.0</td><td style='border: 1px solid #dddddd'>1.0</td><td style='border: 1px solid #dddddd'>0.0</td><td style='border: 1px solid #dddddd'>1.0</td><td style='border: 1px solid #dddddd'>0.0</td><td style='border: 1px solid #dddddd'>0.0</td><td style='border: 1px solid #dddddd'>0.0</td><td style='border: 1px solid #dddddd'>0.0</td><td style='border: 1px solid #dddddd'>0.0</td></tr><tr><td style='border: 1px solid #dddddd'>0.0</td><td style='border: 1px solid #dddddd'>None</td><td style='border: 1px solid #dddddd'>0.0</td><td style='border: 1px solid #dddddd'>0.0</td><td style='border: 1px solid #dddddd'>1.0</td><td style='border: 1px solid #dddddd'>0.0</td><td style='border: 1px solid #dddddd'>2244.0</td><td style='border: 1px solid #dddddd'>97093668-aebf-4167-8988-d85ac19127a9-14</td><td style='border: 1px solid #dddddd'>0.0</td><td style='border: 1px solid #dddddd'>0.0</td><td style='border: 1px solid #dddddd'>1.0</td><td style='border: 1px solid #dddddd'>2.0</td><td style='border: 1px solid #dddddd'>0</td><td style='border: 1px solid #dddddd'>0.0</td><td style='border: 1px solid #dddddd'>2021-08-05T19:24:01.277Z</td><td style='border: 1px solid #dddddd'>1.0</td><td style='border: 1px solid #dddddd'>1.0</td><td style='border: 1px solid #dddddd'>0.0</td><td style='border: 1px solid #dddddd'>0.9773842208087444</td><td style='border: 1px solid #dddddd'>0.0</td><td style='border: 1px solid #dddddd'>[0.9773842208087444, 0.02261577919125557]</td><td style='border: 1px solid #dddddd'>0.0</td><td style='border: 1px solid #dddddd'>0.0</td><td style='border: 1px solid #dddddd'>0.02261577919125557</td><td style='border: 1px solid #dddddd'>1.0</td><td style='border: 1px solid #dddddd'>1.0</td><td style='border: 1px solid #dddddd'>0.0</td><td style='border: 1px solid #dddddd'>1.0</td><td style='border: 1px solid #dddddd'>1.0</td><td style='border: 1px solid #dddddd'>0.0</td><td style='border: 1px solid #dddddd'>0.0</td><td style='border: 1px solid #dddddd'>1.0</td><td style='border: 1px solid #dddddd'>0.0</td><td style='border: 1px solid #dddddd'>0.0</td><td style='border: 1px solid #dddddd'>0.0</td><td style='border: 1px solid #dddddd'>0.0</td><td style='border: 1px solid #dddddd'>0.0</td><td style='border: 1px solid #dddddd'>1.0</td><td style='border: 1px solid #dddddd'>0.0</td><td style='border: 1px solid #dddddd'>0.0</td><td style='border: 1px solid #dddddd'>0.0</td><td style='border: 1px solid #dddddd'>0.0</td><td style='border: 1px solid #dddddd'>1.0</td><td style='border: 1px solid #dddddd'>0.0</td><td style='border: 1px solid #dddddd'>0.0</td><td style='border: 1px solid #dddddd'>14.0</td><td style='border: 1px solid #dddddd'>21.0</td><td style='border: 1px solid #dddddd'>0.0</td><td style='border: 1px solid #dddddd'>1.0</td><td style='border: 1px solid #dddddd'>3.0</td><td style='border: 1px solid #dddddd'>0.0</td><td style='border: 1px solid #dddddd'>0.0</td><td style='border: 1px solid #dddddd'>0.0</td><td style='border: 1px solid #dddddd'>1.0</td><td style='border: 1px solid #dddddd'>0.0</td><td style='border: 1px solid #dddddd'>1.0</td><td style='border: 1px solid #dddddd'>44cbb38bb2c81f10236feaff987a5bb9</td><td style='border: 1px solid #dddddd'>0.0</td><td style='border: 1px solid #dddddd'>0.0</td><td style='border: 1px solid #dddddd'>0.0</td><td style='border: 1px solid #dddddd'>0.0</td><td style='border: 1px solid #dddddd'>0.0</td><td style='border: 1px solid #dddddd'>1.0</td><td style='border: 1px solid #dddddd'>0.0</td><td style='border: 1px solid #dddddd'>0.0</td><td style='border: 1px solid #dddddd'>0.0</td><td style='border: 1px solid #dddddd'>0.0</td><td style='border: 1px solid #dddddd'>0.0</td></tr><tr><td style='border: 1px solid #dddddd'>1.0</td><td style='border: 1px solid #dddddd'>None</td><td style='border: 1px solid #dddddd'>0.0</td><td style='border: 1px solid #dddddd'>1.0</td><td style='border: 1px solid #dddddd'>0.0</td><td style='border: 1px solid #dddddd'>0.0</td><td style='border: 1px solid #dddddd'>2992.0</td><td style='border: 1px solid #dddddd'>97093668-aebf-4167-8988-d85ac19127a9-15</td><td style='border: 1px solid #dddddd'>0.0</td><td style='border: 1px solid #dddddd'>0.0</td><td style='border: 1px solid #dddddd'>1.0</td><td style='border: 1px solid #dddddd'>4.0</td><td style='border: 1px solid #dddddd'>1</td><td style='border: 1px solid #dddddd'>0.0</td><td style='border: 1px solid #dddddd'>2021-08-05T19:24:01.277Z</td><td style='border: 1px solid #dddddd'>0.0</td><td style='border: 1px solid #dddddd'>1.0</td><td style='border: 1px solid #dddddd'>0.0</td><td style='border: 1px solid #dddddd'>0.6230925917625427</td><td style='border: 1px solid #dddddd'>0.0</td><td style='border: 1px solid #dddddd'>[0.3769074082374573, 0.6230925917625427]</td><td style='border: 1px solid #dddddd'>0.0</td><td style='border: 1px solid #dddddd'>0.0</td><td style='border: 1px solid #dddddd'>0.6230925917625427</td><td style='border: 1px solid #dddddd'>0.0</td><td style='border: 1px solid #dddddd'>0.0</td><td style='border: 1px solid #dddddd'>1.0</td><td style='border: 1px solid #dddddd'>0.0</td><td style='border: 1px solid #dddddd'>1.0</td><td style='border: 1px solid #dddddd'>1.0</td><td style='border: 1px solid #dddddd'>0.0</td><td style='border: 1px solid #dddddd'>1.0</td><td style='border: 1px solid #dddddd'>0.0</td><td style='border: 1px solid #dddddd'>0.0</td><td style='border: 1px solid #dddddd'>0.0</td><td style='border: 1px solid #dddddd'>0.0</td><td style='border: 1px solid #dddddd'>0.0</td><td style='border: 1px solid #dddddd'>1.0</td><td style='border: 1px solid #dddddd'>0.0</td><td style='border: 1px solid #dddddd'>0.0</td><td style='border: 1px solid #dddddd'>0.0</td><td style='border: 1px solid #dddddd'>0.0</td><td style='border: 1px solid #dddddd'>0.0</td><td style='border: 1px solid #dddddd'>0.0</td><td style='border: 1px solid #dddddd'>0.0</td><td style='border: 1px solid #dddddd'>36.0</td><td style='border: 1px solid #dddddd'>53.0</td><td style='border: 1px solid #dddddd'>0.0</td><td style='border: 1px solid #dddddd'>1.0</td><td style='border: 1px solid #dddddd'>4.0</td><td style='border: 1px solid #dddddd'>0.0</td><td style='border: 1px solid #dddddd'>0.0</td><td style='border: 1px solid #dddddd'>0.0</td><td style='border: 1px solid #dddddd'>0.0</td><td style='border: 1px solid #dddddd'>1.0</td><td style='border: 1px solid #dddddd'>2.0</td><td style='border: 1px solid #dddddd'>44cbb38bb2c81f10236feaff987a5bb9</td><td style='border: 1px solid #dddddd'>0.0</td><td style='border: 1px solid #dddddd'>0.0</td><td style='border: 1px solid #dddddd'>0.0</td><td style='border: 1px solid #dddddd'>0.0</td><td style='border: 1px solid #dddddd'>0.0</td><td style='border: 1px solid #dddddd'>1.0</td><td style='border: 1px solid #dddddd'>1.0</td><td style='border: 1px solid #dddddd'>0.0</td><td style='border: 1px solid #dddddd'>0.0</td><td style='border: 1px solid #dddddd'>0.0</td><td style='border: 1px solid #dddddd'>1.0</td></tr><tr><td style='border: 1px solid #dddddd'>1.0</td><td style='border: 1px solid #dddddd'>None</td><td style='border: 1px solid #dddddd'>0.0</td><td style='border: 1px solid #dddddd'>1.0</td><td style='border: 1px solid #dddddd'>0.0</td><td style='border: 1px solid #dddddd'>0.0</td><td style='border: 1px solid #dddddd'>2034.0</td><td style='border: 1px solid #dddddd'>97093668-aebf-4167-8988-d85ac19127a9-16</td><td style='border: 1px solid #dddddd'>0.0</td><td style='border: 1px solid #dddddd'>0.0</td><td style='border: 1px solid #dddddd'>1.0</td><td style='border: 1px solid #dddddd'>4.0</td><td style='border: 1px solid #dddddd'>0</td><td style='border: 1px solid #dddddd'>0.0</td><td style='border: 1px solid #dddddd'>2021-08-05T19:24:01.277Z</td><td style='border: 1px solid #dddddd'>0.0</td><td style='border: 1px solid #dddddd'>1.0</td><td style='border: 1px solid #dddddd'>0.0</td><td style='border: 1px solid #dddddd'>0.6244255900382996</td><td style='border: 1px solid #dddddd'>0.0</td><td style='border: 1px solid #dddddd'>[0.6244255900382996, 0.37557440996170044]</td><td style='border: 1px solid #dddddd'>0.0</td><td style='border: 1px solid #dddddd'>0.0</td><td style='border: 1px solid #dddddd'>0.37557440996170044</td><td style='border: 1px solid #dddddd'>0.0</td><td style='border: 1px solid #dddddd'>0.0</td><td style='border: 1px solid #dddddd'>0.0</td><td style='border: 1px solid #dddddd'>0.0</td><td style='border: 1px solid #dddddd'>1.0</td><td style='border: 1px solid #dddddd'>0.0</td><td style='border: 1px solid #dddddd'>0.0</td><td style='border: 1px solid #dddddd'>0.0</td><td style='border: 1px solid #dddddd'>0.0</td><td style='border: 1px solid #dddddd'>0.0</td><td style='border: 1px solid #dddddd'>0.0</td><td style='border: 1px solid #dddddd'>0.0</td><td style='border: 1px solid #dddddd'>1.0</td><td style='border: 1px solid #dddddd'>1.0</td><td style='border: 1px solid #dddddd'>1.0</td><td style='border: 1px solid #dddddd'>0.0</td><td style='border: 1px solid #dddddd'>0.0</td><td style='border: 1px solid #dddddd'>0.0</td><td style='border: 1px solid #dddddd'>0.0</td><td style='border: 1px solid #dddddd'>0.0</td><td style='border: 1px solid #dddddd'>0.0</td><td style='border: 1px solid #dddddd'>20.0</td><td style='border: 1px solid #dddddd'>47.0</td><td style='border: 1px solid #dddddd'>0.0</td><td style='border: 1px solid #dddddd'>1.0</td><td style='border: 1px solid #dddddd'>3.0</td><td style='border: 1px solid #dddddd'>0.0</td><td style='border: 1px solid #dddddd'>0.0</td><td style='border: 1px solid #dddddd'>0.0</td><td style='border: 1px solid #dddddd'>1.0</td><td style='border: 1px solid #dddddd'>1.0</td><td style='border: 1px solid #dddddd'>2.0</td><td style='border: 1px solid #dddddd'>44cbb38bb2c81f10236feaff987a5bb9</td><td style='border: 1px solid #dddddd'>0.0</td><td style='border: 1px solid #dddddd'>0.0</td><td style='border: 1px solid #dddddd'>1.0</td><td style='border: 1px solid #dddddd'>0.0</td><td style='border: 1px solid #dddddd'>0.0</td><td style='border: 1px solid #dddddd'>1.0</td><td style='border: 1px solid #dddddd'>0.0</td><td style='border: 1px solid #dddddd'>0.0</td><td style='border: 1px solid #dddddd'>0.0</td><td style='border: 1px solid #dddddd'>0.0</td><td style='border: 1px solid #dddddd'>1.0</td></tr><tr><td style='border: 1px solid #dddddd'>0.0</td><td style='border: 1px solid #dddddd'>None</td><td style='border: 1px solid #dddddd'>0.0</td><td style='border: 1px solid #dddddd'>0.0</td><td style='border: 1px solid #dddddd'>1.0</td><td style='border: 1px solid #dddddd'>0.0</td><td style='border: 1px solid #dddddd'>2804.0</td><td style='border: 1px solid #dddddd'>97093668-aebf-4167-8988-d85ac19127a9-17</td><td style='border: 1px solid #dddddd'>0.0</td><td style='border: 1px solid #dddddd'>0.0</td><td style='border: 1px solid #dddddd'>1.0</td><td style='border: 1px solid #dddddd'>3.0</td><td style='border: 1px solid #dddddd'>0</td><td style='border: 1px solid #dddddd'>0.0</td><td style='border: 1px solid #dddddd'>2021-08-05T19:24:01.277Z</td><td style='border: 1px solid #dddddd'>0.0</td><td style='border: 1px solid #dddddd'>1.0</td><td style='border: 1px solid #dddddd'>0.0</td><td style='border: 1px solid #dddddd'>0.9635847955942154</td><td style='border: 1px solid #dddddd'>0.0</td><td style='border: 1px solid #dddddd'>[0.9635847955942154, 0.03641520440578461]</td><td style='border: 1px solid #dddddd'>0.0</td><td style='border: 1px solid #dddddd'>0.0</td><td style='border: 1px solid #dddddd'>0.03641520440578461</td><td style='border: 1px solid #dddddd'>0.0</td><td style='border: 1px solid #dddddd'>1.0</td><td style='border: 1px solid #dddddd'>1.0</td><td style='border: 1px solid #dddddd'>0.0</td><td style='border: 1px solid #dddddd'>0.0</td><td style='border: 1px solid #dddddd'>0.0</td><td style='border: 1px solid #dddddd'>0.0</td><td style='border: 1px solid #dddddd'>1.0</td><td style='border: 1px solid #dddddd'>0.0</td><td style='border: 1px solid #dddddd'>1.0</td><td style='border: 1px solid #dddddd'>0.0</td><td style='border: 1px solid #dddddd'>0.0</td><td style='border: 1px solid #dddddd'>0.0</td><td style='border: 1px solid #dddddd'>1.0</td><td style='border: 1px solid #dddddd'>0.0</td><td style='border: 1px solid #dddddd'>0.0</td><td style='border: 1px solid #dddddd'>0.0</td><td style='border: 1px solid #dddddd'>1.0</td><td style='border: 1px solid #dddddd'>1.0</td><td style='border: 1px solid #dddddd'>1.0</td><td style='border: 1px solid #dddddd'>0.0</td><td style='border: 1px solid #dddddd'>19.0</td><td style='border: 1px solid #dddddd'>31.0</td><td style='border: 1px solid #dddddd'>0.0</td><td style='border: 1px solid #dddddd'>1.0</td><td style='border: 1px solid #dddddd'>2.0</td><td style='border: 1px solid #dddddd'>0.0</td><td style='border: 1px solid #dddddd'>0.0</td><td style='border: 1px solid #dddddd'>0.0</td><td style='border: 1px solid #dddddd'>0.0</td><td style='border: 1px solid #dddddd'>0.0</td><td style='border: 1px solid #dddddd'>1.0</td><td style='border: 1px solid #dddddd'>44cbb38bb2c81f10236feaff987a5bb9</td><td style='border: 1px solid #dddddd'>0.0</td><td style='border: 1px solid #dddddd'>1.0</td><td style='border: 1px solid #dddddd'>0.0</td><td style='border: 1px solid #dddddd'>0.0</td><td style='border: 1px solid #dddddd'>0.0</td><td style='border: 1px solid #dddddd'>1.0</td><td style='border: 1px solid #dddddd'>0.0</td><td style='border: 1px solid #dddddd'>0.0</td><td style='border: 1px solid #dddddd'>0.0</td><td style='border: 1px solid #dddddd'>0.0</td><td style='border: 1px solid #dddddd'>0.0</td></tr><tr><td style='border: 1px solid #dddddd'>0.0</td><td style='border: 1px solid #dddddd'>None</td><td style='border: 1px solid #dddddd'>0.0</td><td style='border: 1px solid #dddddd'>0.0</td><td style='border: 1px solid #dddddd'>1.0</td><td style='border: 1px solid #dddddd'>0.0</td><td style='border: 1px solid #dddddd'>259.0</td><td style='border: 1px solid #dddddd'>97093668-aebf-4167-8988-d85ac19127a9-18</td><td style='border: 1px solid #dddddd'>0.0</td><td style='border: 1px solid #dddddd'>0.0</td><td style='border: 1px solid #dddddd'>1.0</td><td style='border: 1px solid #dddddd'>2.0</td><td style='border: 1px solid #dddddd'>0</td><td style='border: 1px solid #dddddd'>0.0</td><td style='border: 1px solid #dddddd'>2021-08-05T19:24:01.277Z</td><td style='border: 1px solid #dddddd'>0.0</td><td style='border: 1px solid #dddddd'>1.0</td><td style='border: 1px solid #dddddd'>0.0</td><td style='border: 1px solid #dddddd'>0.9732914064079523</td><td style='border: 1px solid #dddddd'>0.0</td><td style='border: 1px solid #dddddd'>[0.9732914064079523, 0.02670859359204769]</td><td style='border: 1px solid #dddddd'>0.0</td><td style='border: 1px solid #dddddd'>0.0</td><td style='border: 1px solid #dddddd'>0.02670859359204769</td><td style='border: 1px solid #dddddd'>1.0</td><td style='border: 1px solid #dddddd'>1.0</td><td style='border: 1px solid #dddddd'>0.0</td><td style='border: 1px solid #dddddd'>0.0</td><td style='border: 1px solid #dddddd'>1.0</td><td style='border: 1px solid #dddddd'>0.0</td><td style='border: 1px solid #dddddd'>0.0</td><td style='border: 1px solid #dddddd'>0.0</td><td style='border: 1px solid #dddddd'>0.0</td><td style='border: 1px solid #dddddd'>0.0</td><td style='border: 1px solid #dddddd'>0.0</td><td style='border: 1px solid #dddddd'>0.0</td><td style='border: 1px solid #dddddd'>0.0</td><td style='border: 1px solid #dddddd'>1.0</td><td style='border: 1px solid #dddddd'>1.0</td><td style='border: 1px solid #dddddd'>0.0</td><td style='border: 1px solid #dddddd'>0.0</td><td style='border: 1px solid #dddddd'>0.0</td><td style='border: 1px solid #dddddd'>0.0</td><td style='border: 1px solid #dddddd'>0.0</td><td style='border: 1px solid #dddddd'>1.0</td><td style='border: 1px solid #dddddd'>10.0</td><td style='border: 1px solid #dddddd'>29.0</td><td style='border: 1px solid #dddddd'>0.0</td><td style='border: 1px solid #dddddd'>1.0</td><td style='border: 1px solid #dddddd'>2.0</td><td style='border: 1px solid #dddddd'>0.0</td><td style='border: 1px solid #dddddd'>0.0</td><td style='border: 1px solid #dddddd'>0.0</td><td style='border: 1px solid #dddddd'>1.0</td><td style='border: 1px solid #dddddd'>0.0</td><td style='border: 1px solid #dddddd'>1.0</td><td style='border: 1px solid #dddddd'>44cbb38bb2c81f10236feaff987a5bb9</td><td style='border: 1px solid #dddddd'>0.0</td><td style='border: 1px solid #dddddd'>1.0</td><td style='border: 1px solid #dddddd'>1.0</td><td style='border: 1px solid #dddddd'>0.0</td><td style='border: 1px solid #dddddd'>0.0</td><td style='border: 1px solid #dddddd'>1.0</td><td style='border: 1px solid #dddddd'>0.0</td><td style='border: 1px solid #dddddd'>0.0</td><td style='border: 1px solid #dddddd'>0.0</td><td style='border: 1px solid #dddddd'>0.0</td><td style='border: 1px solid #dddddd'>0.0</td></tr>\n",
       "            </table>\n",
       "        </body>\n",
       "        </HTML>"
      ],
      "text/plain": [
       "<IPython.core.display.HTML object>"
      ]
     },
     "metadata": {},
     "output_type": "display_data"
    }
   ],
   "source": [
    "wos_client.data_sets.show_records(payload_data_set_id)"
   ]
  },
  {
   "cell_type": "markdown",
   "metadata": {},
   "source": [
    "### Enable and run fairness monitoring"
   ]
  },
  {
   "cell_type": "code",
   "execution_count": 70,
   "metadata": {},
   "outputs": [
    {
     "name": "stdout",
     "output_type": "stream",
     "text": [
      "\n",
      "\n",
      "===================================================================================\n",
      "\n",
      " Waiting for end of monitor instance creation 8912f12b-95e5-4ea8-999d-1f5eabe1c191 \n",
      "\n",
      "===================================================================================\n",
      "\n",
      "\n",
      "\n",
      "active\n",
      "\n",
      "---------------------------------------\n",
      " Monitor instance successfully created \n",
      "---------------------------------------\n",
      "\n",
      "\n"
     ]
    },
    {
     "data": {
      "text/plain": [
       "'8912f12b-95e5-4ea8-999d-1f5eabe1c191'"
      ]
     },
     "execution_count": 70,
     "metadata": {},
     "output_type": "execute_result"
    }
   ],
   "source": [
    "target = Target(\n",
    "    target_type=TargetTypes.SUBSCRIPTION,\n",
    "    target_id=subscription_id\n",
    "\n",
    ")\n",
    "parameters = {\n",
    "    \"features\": [\n",
    "        {\"feature\": \"Sex_female\",\n",
    "         \"majority\": [[0,0]],\n",
    "         \"minority\": [[1,1]],\n",
    "         \"threshold\": 0.95\n",
    "         },\n",
    "        {\"feature\": \"Age\",\n",
    "         \"majority\": [[26, 75]],\n",
    "         \"minority\": [[18, 25]],\n",
    "         \"threshold\": 0.95\n",
    "         }\n",
    "    ],\n",
    "    \"favourable_class\": [0],\n",
    "    \"unfavourable_class\": [1],\n",
    "    \"min_records\": 30\n",
    "}\n",
    "\n",
    "fairness_monitor_details = wos_client.monitor_instances.create(\n",
    "    data_mart_id=data_mart_id,\n",
    "    background_mode=False,\n",
    "    monitor_definition_id=wos_client.monitor_definitions.MONITORS.FAIRNESS.ID,\n",
    "    target=target,\n",
    "    parameters=parameters).result\n",
    "fairness_monitor_instance_id =fairness_monitor_details.metadata.id\n",
    "fairness_monitor_instance_id"
   ]
  },
  {
   "cell_type": "markdown",
   "metadata": {},
   "source": [
    "### Run fairness monitor"
   ]
  },
  {
   "cell_type": "code",
   "execution_count": 71,
   "metadata": {},
   "outputs": [
    {
     "data": {
      "text/html": [
       "<HTML>\n",
       "        <body>\n",
       "            <h3>8912f12b-95e5-4ea8-999d-1f5eabe1c191 Monitor Runs Metrics from: 2021-07-29 19:24:42.616995  till: 2021-08-05 19:24:42.617023</h3>\n",
       "            <table style='border: 1px solid #dddddd; font-family: Courier'>\n",
       "                <th style='border: 1px solid #dddddd'>ts</th><th style='border: 1px solid #dddddd'>id</th><th style='border: 1px solid #dddddd'>measurement_id</th><th style='border: 1px solid #dddddd'>value</th><th style='border: 1px solid #dddddd'>lower_limit</th><th style='border: 1px solid #dddddd'>upper_limit</th><th style='border: 1px solid #dddddd'>tags</th><th style='border: 1px solid #dddddd'>monitor_definition_id</th><th style='border: 1px solid #dddddd'>monitor_instance_id</th><th style='border: 1px solid #dddddd'>run_id</th><th style='border: 1px solid #dddddd'>target_type</th><th style='border: 1px solid #dddddd'>target_id</th>\n",
       "                <tr><td style='border: 1px solid #dddddd'>2021-08-05 19:24:19.411806+00:00</td><td style='border: 1px solid #dddddd'>fairness_value</td><td style='border: 1px solid #dddddd'>10f4442e-96bc-4329-b293-f3a903411462</td><td style='border: 1px solid #dddddd'>120.0</td><td style='border: 1px solid #dddddd'>80.0</td><td style='border: 1px solid #dddddd'>None</td><td style='border: 1px solid #dddddd'>['feature:Sex_female', 'fairness_metric_type:fairness', 'feature_value:1-1']</td><td style='border: 1px solid #dddddd'>fairness</td><td style='border: 1px solid #dddddd'>8912f12b-95e5-4ea8-999d-1f5eabe1c191</td><td style='border: 1px solid #dddddd'>1b1c5bba-460d-498e-88c1-218af65132d9</td><td style='border: 1px solid #dddddd'>subscription</td><td style='border: 1px solid #dddddd'>c45582ad-79dc-42ef-8c43-496042f1e532</td></tr><tr><td style='border: 1px solid #dddddd'>2021-08-05 19:24:19.411806+00:00</td><td style='border: 1px solid #dddddd'>fairness_value</td><td style='border: 1px solid #dddddd'>10f4442e-96bc-4329-b293-f3a903411462</td><td style='border: 1px solid #dddddd'>108.0</td><td style='border: 1px solid #dddddd'>80.0</td><td style='border: 1px solid #dddddd'>None</td><td style='border: 1px solid #dddddd'>['feature:Age', 'fairness_metric_type:fairness', 'feature_value:18-25']</td><td style='border: 1px solid #dddddd'>fairness</td><td style='border: 1px solid #dddddd'>8912f12b-95e5-4ea8-999d-1f5eabe1c191</td><td style='border: 1px solid #dddddd'>1b1c5bba-460d-498e-88c1-218af65132d9</td><td style='border: 1px solid #dddddd'>subscription</td><td style='border: 1px solid #dddddd'>c45582ad-79dc-42ef-8c43-496042f1e532</td></tr><tr><td style='border: 1px solid #dddddd'>2021-08-05 19:24:19.411806+00:00</td><td style='border: 1px solid #dddddd'>fairness_value</td><td style='border: 1px solid #dddddd'>ae1d38e4-2e5e-4190-8325-5b5bf66dd5a3</td><td style='border: 1px solid #dddddd'>120.0</td><td style='border: 1px solid #dddddd'>80.0</td><td style='border: 1px solid #dddddd'>None</td><td style='border: 1px solid #dddddd'>['feature:Sex_female', 'fairness_metric_type:debiased_fairness', 'feature_value:1-1']</td><td style='border: 1px solid #dddddd'>fairness</td><td style='border: 1px solid #dddddd'>8912f12b-95e5-4ea8-999d-1f5eabe1c191</td><td style='border: 1px solid #dddddd'>1b1c5bba-460d-498e-88c1-218af65132d9</td><td style='border: 1px solid #dddddd'>subscription</td><td style='border: 1px solid #dddddd'>c45582ad-79dc-42ef-8c43-496042f1e532</td></tr><tr><td style='border: 1px solid #dddddd'>2021-08-05 19:24:19.411806+00:00</td><td style='border: 1px solid #dddddd'>fairness_value</td><td style='border: 1px solid #dddddd'>ae1d38e4-2e5e-4190-8325-5b5bf66dd5a3</td><td style='border: 1px solid #dddddd'>108.0</td><td style='border: 1px solid #dddddd'>80.0</td><td style='border: 1px solid #dddddd'>None</td><td style='border: 1px solid #dddddd'>['feature:Age', 'fairness_metric_type:debiased_fairness', 'feature_value:18-25']</td><td style='border: 1px solid #dddddd'>fairness</td><td style='border: 1px solid #dddddd'>8912f12b-95e5-4ea8-999d-1f5eabe1c191</td><td style='border: 1px solid #dddddd'>1b1c5bba-460d-498e-88c1-218af65132d9</td><td style='border: 1px solid #dddddd'>subscription</td><td style='border: 1px solid #dddddd'>c45582ad-79dc-42ef-8c43-496042f1e532</td></tr>\n",
       "            </table>\n",
       "        </body>\n",
       "        </HTML>"
      ],
      "text/plain": [
       "<IPython.core.display.HTML object>"
      ]
     },
     "metadata": {},
     "output_type": "display_data"
    }
   ],
   "source": [
    "time.sleep(20)\n",
    "#Note: When you create fairness monitor, initial run is also created\n",
    "wos_client.monitor_instances.show_metrics(monitor_instance_id=fairness_monitor_instance_id)"
   ]
  },
  {
   "cell_type": "markdown",
   "metadata": {},
   "source": [
    "### Enable and run Drift monitoring"
   ]
  },
  {
   "cell_type": "markdown",
   "metadata": {},
   "source": [
    "#### Drift requires a trained model to be uploaded manually for AWS. You can train, create and download a drift detection model using template given ( check for Drift detection model generation) [here](https://github.com/IBM-Watson/aios-data-distribution/blob/master/training_statistics_notebook.ipynb)"
   ]
  },
  {
   "cell_type": "code",
   "execution_count": 72,
   "metadata": {},
   "outputs": [
    {
     "name": "stdout",
     "output_type": "stream",
     "text": [
      "--2021-08-05 19:25:14--  https://github.com/IBM/watson-openscale-samples/blob/main/IBM%20Cloud/AWS%20Sagemaker/assets/models/credit_risk/aws_creditrisk_drift_detection_model.tar.gz?raw=true\n",
      "Resolving github.com (github.com)... 140.82.113.3\n",
      "Connecting to github.com (github.com)|140.82.113.3|:443... connected.\n",
      "HTTP request sent, awaiting response... 302 Found\n",
      "Location: https://github.com/IBM/watson-openscale-samples/raw/main/IBM%20Cloud/AWS%20Sagemaker/assets/models/credit_risk/aws_creditrisk_drift_detection_model.tar.gz [following]\n",
      "--2021-08-05 19:25:14--  https://github.com/IBM/watson-openscale-samples/raw/main/IBM%20Cloud/AWS%20Sagemaker/assets/models/credit_risk/aws_creditrisk_drift_detection_model.tar.gz\n",
      "Reusing existing connection to github.com:443.\n",
      "HTTP request sent, awaiting response... 302 Found\n",
      "Location: https://raw.githubusercontent.com/IBM/watson-openscale-samples/main/IBM%20Cloud/AWS%20Sagemaker/assets/models/credit_risk/aws_creditrisk_drift_detection_model.tar.gz [following]\n",
      "--2021-08-05 19:25:14--  https://raw.githubusercontent.com/IBM/watson-openscale-samples/main/IBM%20Cloud/AWS%20Sagemaker/assets/models/credit_risk/aws_creditrisk_drift_detection_model.tar.gz\n",
      "Resolving raw.githubusercontent.com (raw.githubusercontent.com)... 185.199.110.133, 185.199.111.133, 185.199.108.133, ...\n",
      "Connecting to raw.githubusercontent.com (raw.githubusercontent.com)|185.199.110.133|:443... connected.\n",
      "HTTP request sent, awaiting response... 200 OK\n",
      "Length: 229523 (224K) [application/octet-stream]\n",
      "Saving to: ‘creditrisk_aws_drift_detection_model.tar.gz’\n",
      "\n",
      "creditrisk_aws_drif 100%[===================>] 224.14K  --.-KB/s    in 0.004s  \n",
      "\n",
      "2021-08-05 19:25:15 (60.6 MB/s) - ‘creditrisk_aws_drift_detection_model.tar.gz’ saved [229523/229523]\n",
      "\n"
     ]
    }
   ],
   "source": [
    "!rm -rf creditrisk_aws_drift_detection_model.tar.gz\n",
    "!wget -O creditrisk_aws_drift_detection_model.tar.gz https://github.com/IBM/watson-openscale-samples/blob/main/IBM%20Cloud/AWS%20Sagemaker/assets/models/credit_risk/aws_creditrisk_drift_detection_model.tar.gz?raw=true "
   ]
  },
  {
   "cell_type": "code",
   "execution_count": 73,
   "metadata": {},
   "outputs": [
    {
     "data": {
      "text/plain": [
       "<ibm_cloud_sdk_core.detailed_response.DetailedResponse at 0x7fb595d1fd30>"
      ]
     },
     "execution_count": 73,
     "metadata": {},
     "output_type": "execute_result"
    }
   ],
   "source": [
    "wos_client.monitor_instances.upload_drift_model(\n",
    "        model_path='creditrisk_aws_drift_detection_model.tar.gz',\n",
    "        data_mart_id=data_mart_id,\n",
    "        subscription_id=subscription_id\n",
    "     )"
   ]
  },
  {
   "cell_type": "code",
   "execution_count": 74,
   "metadata": {},
   "outputs": [],
   "source": [
    "monitor_instances = wos_client.monitor_instances.list().result.monitor_instances\n",
    "for monitor_instance in monitor_instances:\n",
    "    monitor_def_id=monitor_instance.entity.monitor_definition_id\n",
    "    if monitor_def_id == \"drift\" and monitor_instance.entity.target.target_id == subscription_id:\n",
    "        wos_client.monitor_instances.delete(monitor_instance.metadata.id)\n",
    "        print('Deleted existing drift monitor instance with id: ', monitor_instance.metadata.id)"
   ]
  },
  {
   "cell_type": "code",
   "execution_count": 75,
   "metadata": {},
   "outputs": [
    {
     "name": "stdout",
     "output_type": "stream",
     "text": [
      "\n",
      "\n",
      "===================================================================================\n",
      "\n",
      " Waiting for end of monitor instance creation ce617984-9b10-4a73-9fa6-8cfcaa027e49 \n",
      "\n",
      "===================================================================================\n",
      "\n",
      "\n",
      "\n",
      "active\n",
      "\n",
      "---------------------------------------\n",
      " Monitor instance successfully created \n",
      "---------------------------------------\n",
      "\n",
      "\n"
     ]
    },
    {
     "data": {
      "text/plain": [
       "'ce617984-9b10-4a73-9fa6-8cfcaa027e49'"
      ]
     },
     "execution_count": 75,
     "metadata": {},
     "output_type": "execute_result"
    }
   ],
   "source": [
    "target = Target(\n",
    "    target_type=TargetTypes.SUBSCRIPTION,\n",
    "    target_id=subscription_id\n",
    "\n",
    ")\n",
    "parameters = {\n",
    "    \"min_samples\": 30,\n",
    "    \"drift_threshold\": 0.1,\n",
    "    \"train_drift_model\": False,\n",
    "    \"enable_model_drift\": True,\n",
    "    \"enable_data_drift\": True\n",
    "}\n",
    "\n",
    "drift_monitor_details = wos_client.monitor_instances.create(\n",
    "    data_mart_id=data_mart_id,\n",
    "    background_mode=False,\n",
    "    monitor_definition_id=wos_client.monitor_definitions.MONITORS.DRIFT.ID,\n",
    "    target=target,\n",
    "    parameters=parameters\n",
    ").result\n",
    "\n",
    "drift_monitor_instance_id = drift_monitor_details.metadata.id\n",
    "drift_monitor_instance_id"
   ]
  },
  {
   "cell_type": "code",
   "execution_count": 76,
   "metadata": {},
   "outputs": [
    {
     "name": "stdout",
     "output_type": "stream",
     "text": [
      "\n",
      "\n",
      "========================================================================\n",
      "\n",
      " Waiting for end of monitoring run 1e9e9530-4679-48d3-a06a-a903b9279b4c \n",
      "\n",
      "========================================================================\n",
      "\n",
      "\n",
      "\n",
      "running\n",
      "finished\n",
      "\n",
      "---------------------------\n",
      " Successfully finished run \n",
      "---------------------------\n",
      "\n",
      "\n"
     ]
    }
   ],
   "source": [
    "drift_run_details = wos_client.monitor_instances.run(monitor_instance_id=drift_monitor_instance_id, background_mode=False)"
   ]
  },
  {
   "cell_type": "code",
   "execution_count": 77,
   "metadata": {},
   "outputs": [
    {
     "data": {
      "text/html": [
       "<HTML>\n",
       "        <body>\n",
       "            <h3>ce617984-9b10-4a73-9fa6-8cfcaa027e49 Monitor Runs Metrics from: 2021-07-29 19:25:58.176508  till: 2021-08-05 19:25:58.176537</h3>\n",
       "            <table style='border: 1px solid #dddddd; font-family: Courier'>\n",
       "                <th style='border: 1px solid #dddddd'>ts</th><th style='border: 1px solid #dddddd'>id</th><th style='border: 1px solid #dddddd'>measurement_id</th><th style='border: 1px solid #dddddd'>value</th><th style='border: 1px solid #dddddd'>lower_limit</th><th style='border: 1px solid #dddddd'>upper_limit</th><th style='border: 1px solid #dddddd'>tags</th><th style='border: 1px solid #dddddd'>monitor_definition_id</th><th style='border: 1px solid #dddddd'>monitor_instance_id</th><th style='border: 1px solid #dddddd'>run_id</th><th style='border: 1px solid #dddddd'>target_type</th><th style='border: 1px solid #dddddd'>target_id</th>\n",
       "                <tr><td style='border: 1px solid #dddddd'>2021-08-05 19:25:41.218924+00:00</td><td style='border: 1px solid #dddddd'>data_drift_magnitude</td><td style='border: 1px solid #dddddd'>45ab47c1-6d1d-4ac1-8f00-f27c73bbdb46</td><td style='border: 1px solid #dddddd'>1.0</td><td style='border: 1px solid #dddddd'>None</td><td style='border: 1px solid #dddddd'>None</td><td style='border: 1px solid #dddddd'>[]</td><td style='border: 1px solid #dddddd'>drift</td><td style='border: 1px solid #dddddd'>ce617984-9b10-4a73-9fa6-8cfcaa027e49</td><td style='border: 1px solid #dddddd'>1e9e9530-4679-48d3-a06a-a903b9279b4c</td><td style='border: 1px solid #dddddd'>subscription</td><td style='border: 1px solid #dddddd'>c45582ad-79dc-42ef-8c43-496042f1e532</td></tr><tr><td style='border: 1px solid #dddddd'>2021-08-05 19:25:41.218924+00:00</td><td style='border: 1px solid #dddddd'>drift_magnitude</td><td style='border: 1px solid #dddddd'>45ab47c1-6d1d-4ac1-8f00-f27c73bbdb46</td><td style='border: 1px solid #dddddd'>0.06546341463414629</td><td style='border: 1px solid #dddddd'>None</td><td style='border: 1px solid #dddddd'>0.1</td><td style='border: 1px solid #dddddd'>[]</td><td style='border: 1px solid #dddddd'>drift</td><td style='border: 1px solid #dddddd'>ce617984-9b10-4a73-9fa6-8cfcaa027e49</td><td style='border: 1px solid #dddddd'>1e9e9530-4679-48d3-a06a-a903b9279b4c</td><td style='border: 1px solid #dddddd'>subscription</td><td style='border: 1px solid #dddddd'>c45582ad-79dc-42ef-8c43-496042f1e532</td></tr><tr><td style='border: 1px solid #dddddd'>2021-08-05 19:25:41.218924+00:00</td><td style='border: 1px solid #dddddd'>predicted_accuracy</td><td style='border: 1px solid #dddddd'>45ab47c1-6d1d-4ac1-8f00-f27c73bbdb46</td><td style='border: 1px solid #dddddd'>0.7455365853658538</td><td style='border: 1px solid #dddddd'>None</td><td style='border: 1px solid #dddddd'>None</td><td style='border: 1px solid #dddddd'>[]</td><td style='border: 1px solid #dddddd'>drift</td><td style='border: 1px solid #dddddd'>ce617984-9b10-4a73-9fa6-8cfcaa027e49</td><td style='border: 1px solid #dddddd'>1e9e9530-4679-48d3-a06a-a903b9279b4c</td><td style='border: 1px solid #dddddd'>subscription</td><td style='border: 1px solid #dddddd'>c45582ad-79dc-42ef-8c43-496042f1e532</td></tr>\n",
       "            </table>\n",
       "        </body>\n",
       "        </HTML>"
      ],
      "text/plain": [
       "<IPython.core.display.HTML object>"
      ]
     },
     "metadata": {},
     "output_type": "display_data"
    }
   ],
   "source": [
    "time.sleep(5)\n",
    "wos_client.monitor_instances.show_metrics(monitor_instance_id=drift_monitor_instance_id)"
   ]
  },
  {
   "cell_type": "markdown",
   "metadata": {},
   "source": [
    "### Enable Explainability and run explanation on sample record"
   ]
  },
  {
   "cell_type": "code",
   "execution_count": 78,
   "metadata": {},
   "outputs": [
    {
     "name": "stdout",
     "output_type": "stream",
     "text": [
      "\n",
      "\n",
      "===================================================================================\n",
      "\n",
      " Waiting for end of monitor instance creation 636ca910-7714-4fec-aa13-071d64d7c088 \n",
      "\n",
      "===================================================================================\n",
      "\n",
      "\n",
      "\n",
      "active\n",
      "\n",
      "---------------------------------------\n",
      " Monitor instance successfully created \n",
      "---------------------------------------\n",
      "\n",
      "\n"
     ]
    }
   ],
   "source": [
    "target = Target(\n",
    "    target_type=TargetTypes.SUBSCRIPTION,\n",
    "    target_id=subscription_id\n",
    ")\n",
    "parameters = {\n",
    "    \"enabled\": True\n",
    "}\n",
    "explainability_details = wos_client.monitor_instances.create(\n",
    "    data_mart_id=data_mart_id,\n",
    "    background_mode=False,\n",
    "    monitor_definition_id=wos_client.monitor_definitions.MONITORS.EXPLAINABILITY.ID,\n",
    "    target=target,\n",
    "    parameters=parameters\n",
    ").result"
   ]
  },
  {
   "cell_type": "markdown",
   "metadata": {},
   "source": [
    "Getting a `transaction_id` to run explanation on"
   ]
  },
  {
   "cell_type": "code",
   "execution_count": 79,
   "metadata": {},
   "outputs": [
    {
     "data": {
      "text/plain": [
       "'636ca910-7714-4fec-aa13-071d64d7c088'"
      ]
     },
     "execution_count": 79,
     "metadata": {},
     "output_type": "execute_result"
    }
   ],
   "source": [
    "explainability_monitor_id = explainability_details.metadata.id\n",
    "explainability_monitor_id"
   ]
  },
  {
   "cell_type": "code",
   "execution_count": 80,
   "metadata": {},
   "outputs": [
    {
     "data": {
      "text/html": [
       "<HTML>\n",
       "        <body>\n",
       "            <h3>Data Set 2442cacc-5dcf-4117-adc8-d9e3c6b0e38c Records</h3>\n",
       "            <table style='border: 1px solid #dddddd; font-family: Courier'>\n",
       "                <th style='border: 1px solid #dddddd'>Sex_male</th><th style='border: 1px solid #dddddd'>asset_revision</th><th style='border: 1px solid #dddddd'>LoanPurpose_vacation</th><th style='border: 1px solid #dddddd'>debiased_probability</th><th style='border: 1px solid #dddddd'>CreditHistory_prior_payments_delayed</th><th style='border: 1px solid #dddddd'>OwnsProperty_real_estate</th><th style='border: 1px solid #dddddd'>CreditHistory_no_credits</th><th style='border: 1px solid #dddddd'>LoanAmount</th><th style='border: 1px solid #dddddd'>scoring_id</th><th style='border: 1px solid #dddddd'>OthersOnLoan_co-applicant</th><th style='border: 1px solid #dddddd'>Housing_free</th><th style='border: 1px solid #dddddd'>Housing_own</th><th style='border: 1px solid #dddddd'>InstallmentPercent</th><th style='border: 1px solid #dddddd'>predicted_label</th><th style='border: 1px solid #dddddd'>LoanPurpose_retraining</th><th style='border: 1px solid #dddddd'>scoring_timestamp</th><th style='border: 1px solid #dddddd'>ExistingSavings_less_100</th><th style='border: 1px solid #dddddd'>OthersOnLoan_none</th><th style='border: 1px solid #dddddd'>Job_unskilled</th><th style='border: 1px solid #dddddd'>prediction_probability</th><th style='border: 1px solid #dddddd'>LoanPurpose_repairs</th><th style='border: 1px solid #dddddd'>ProbabilityVector</th><th style='border: 1px solid #dddddd'>LoanPurpose_business</th><th style='border: 1px solid #dddddd'>OwnsProperty_unknown</th><th style='border: 1px solid #dddddd'>score</th><th style='border: 1px solid #dddddd'>CreditHistory_all_credits_paid_back</th><th style='border: 1px solid #dddddd'>Sex_female</th><th style='border: 1px solid #dddddd'>CheckingStatus_no_checking</th><th style='border: 1px solid #dddddd'>LoanPurpose_car_new</th><th style='border: 1px solid #dddddd'>InstallmentPlans_none</th><th style='border: 1px solid #dddddd'>LoanPurpose_other</th><th style='border: 1px solid #dddddd'>OwnsProperty_savings_insurance</th><th style='border: 1px solid #dddddd'>Telephone_none</th><th style='border: 1px solid #dddddd'>OthersOnLoan_guarantor</th><th style='border: 1px solid #dddddd'>InstallmentPlans_stores</th><th style='border: 1px solid #dddddd'>LoanPurpose_appliances</th><th style='border: 1px solid #dddddd'>EmploymentDuration_unemployed</th><th style='border: 1px solid #dddddd'>ExistingSavings_greater_1000</th><th style='border: 1px solid #dddddd'>Job_skilled</th><th style='border: 1px solid #dddddd'>Telephone_yes</th><th style='border: 1px solid #dddddd'>CheckingStatus_0_to_200</th><th style='border: 1px solid #dddddd'>ExistingSavings_500_to_1000</th><th style='border: 1px solid #dddddd'>LoanPurpose_radio_tv</th><th style='border: 1px solid #dddddd'>EmploymentDuration_less_1</th><th style='border: 1px solid #dddddd'>CreditHistory_credits_paid_to_date</th><th style='border: 1px solid #dddddd'>EmploymentDuration_1_to_4</th><th style='border: 1px solid #dddddd'>LoanDuration</th><th style='border: 1px solid #dddddd'>Age</th><th style='border: 1px solid #dddddd'>CheckingStatus_greater_200</th><th style='border: 1px solid #dddddd'>ForeignWorker_yes</th><th style='border: 1px solid #dddddd'>CurrentResidenceDuration</th><th style='border: 1px solid #dddddd'>LoanPurpose_education</th><th style='border: 1px solid #dddddd'>Housing_rent</th><th style='border: 1px solid #dddddd'>Job_unemployed</th><th style='border: 1px solid #dddddd'>CheckingStatus_less_0</th><th style='border: 1px solid #dddddd'>OwnsProperty_car_other</th><th style='border: 1px solid #dddddd'>ExistingCreditsCount</th><th style='border: 1px solid #dddddd'>deployment_id</th><th style='border: 1px solid #dddddd'>Job_management_self-employed</th><th style='border: 1px solid #dddddd'>ExistingSavings_100_to_500</th><th style='border: 1px solid #dddddd'>LoanPurpose_car_used</th><th style='border: 1px solid #dddddd'>EmploymentDuration_4_to_7</th><th style='border: 1px solid #dddddd'>LoanPurpose_furniture</th><th style='border: 1px solid #dddddd'>Dependents</th><th style='border: 1px solid #dddddd'>ExistingSavings_unknown</th><th style='border: 1px solid #dddddd'>CreditHistory_outstanding_credit</th><th style='border: 1px solid #dddddd'>debiased_prediction</th><th style='border: 1px solid #dddddd'>InstallmentPlans_bank</th><th style='border: 1px solid #dddddd'>ForeignWorker_no</th><th style='border: 1px solid #dddddd'>EmploymentDuration_greater_7</th>\n",
       "                <tr><td style='border: 1px solid #dddddd'>1.0</td><td style='border: 1px solid #dddddd'>None</td><td style='border: 1px solid #dddddd'>0.0</td><td style='border: 1px solid #dddddd'>[0.5598874688148499, 0.44011253118515015]</td><td style='border: 1px solid #dddddd'>0.0</td><td style='border: 1px solid #dddddd'>0.0</td><td style='border: 1px solid #dddddd'>0.0</td><td style='border: 1px solid #dddddd'>5308.0</td><td style='border: 1px solid #dddddd'>97093668-aebf-4167-8988-d85ac19127a9-1</td><td style='border: 1px solid #dddddd'>0.0</td><td style='border: 1px solid #dddddd'>0.0</td><td style='border: 1px solid #dddddd'>1.0</td><td style='border: 1px solid #dddddd'>3.0</td><td style='border: 1px solid #dddddd'>0</td><td style='border: 1px solid #dddddd'>0.0</td><td style='border: 1px solid #dddddd'>2021-08-05T19:24:01.277Z</td><td style='border: 1px solid #dddddd'>0.0</td><td style='border: 1px solid #dddddd'>1.0</td><td style='border: 1px solid #dddddd'>0.0</td><td style='border: 1px solid #dddddd'>0.5598874688148499</td><td style='border: 1px solid #dddddd'>0.0</td><td style='border: 1px solid #dddddd'>[0.5598874688148499, 0.44011253118515015]</td><td style='border: 1px solid #dddddd'>0.0</td><td style='border: 1px solid #dddddd'>0.0</td><td style='border: 1px solid #dddddd'>0.44011253118515015</td><td style='border: 1px solid #dddddd'>0.0</td><td style='border: 1px solid #dddddd'>0.0</td><td style='border: 1px solid #dddddd'>1.0</td><td style='border: 1px solid #dddddd'>0.0</td><td style='border: 1px solid #dddddd'>1.0</td><td style='border: 1px solid #dddddd'>0.0</td><td style='border: 1px solid #dddddd'>1.0</td><td style='border: 1px solid #dddddd'>1.0</td><td style='border: 1px solid #dddddd'>0.0</td><td style='border: 1px solid #dddddd'>0.0</td><td style='border: 1px solid #dddddd'>1.0</td><td style='border: 1px solid #dddddd'>0.0</td><td style='border: 1px solid #dddddd'>0.0</td><td style='border: 1px solid #dddddd'>1.0</td><td style='border: 1px solid #dddddd'>0.0</td><td style='border: 1px solid #dddddd'>0.0</td><td style='border: 1px solid #dddddd'>0.0</td><td style='border: 1px solid #dddddd'>0.0</td><td style='border: 1px solid #dddddd'>0.0</td><td style='border: 1px solid #dddddd'>1.0</td><td style='border: 1px solid #dddddd'>0.0</td><td style='border: 1px solid #dddddd'>38.0</td><td style='border: 1px solid #dddddd'>31.0</td><td style='border: 1px solid #dddddd'>0.0</td><td style='border: 1px solid #dddddd'>1.0</td><td style='border: 1px solid #dddddd'>3.0</td><td style='border: 1px solid #dddddd'>0.0</td><td style='border: 1px solid #dddddd'>0.0</td><td style='border: 1px solid #dddddd'>0.0</td><td style='border: 1px solid #dddddd'>0.0</td><td style='border: 1px solid #dddddd'>0.0</td><td style='border: 1px solid #dddddd'>1.0</td><td style='border: 1px solid #dddddd'>44cbb38bb2c81f10236feaff987a5bb9</td><td style='border: 1px solid #dddddd'>0.0</td><td style='border: 1px solid #dddddd'>1.0</td><td style='border: 1px solid #dddddd'>0.0</td><td style='border: 1px solid #dddddd'>1.0</td><td style='border: 1px solid #dddddd'>0.0</td><td style='border: 1px solid #dddddd'>1.0</td><td style='border: 1px solid #dddddd'>0.0</td><td style='border: 1px solid #dddddd'>0.0</td><td style='border: 1px solid #dddddd'>0</td><td style='border: 1px solid #dddddd'>0.0</td><td style='border: 1px solid #dddddd'>0.0</td><td style='border: 1px solid #dddddd'>0.0</td></tr><tr><td style='border: 1px solid #dddddd'>0.0</td><td style='border: 1px solid #dddddd'>None</td><td style='border: 1px solid #dddddd'>0.0</td><td style='border: 1px solid #dddddd'>[0.9514117650687695, 0.048588234931230545]</td><td style='border: 1px solid #dddddd'>0.0</td><td style='border: 1px solid #dddddd'>0.0</td><td style='border: 1px solid #dddddd'>0.0</td><td style='border: 1px solid #dddddd'>620.0</td><td style='border: 1px solid #dddddd'>97093668-aebf-4167-8988-d85ac19127a9-10</td><td style='border: 1px solid #dddddd'>0.0</td><td style='border: 1px solid #dddddd'>0.0</td><td style='border: 1px solid #dddddd'>0.0</td><td style='border: 1px solid #dddddd'>2.0</td><td style='border: 1px solid #dddddd'>0</td><td style='border: 1px solid #dddddd'>0.0</td><td style='border: 1px solid #dddddd'>2021-08-05T19:24:01.277Z</td><td style='border: 1px solid #dddddd'>0.0</td><td style='border: 1px solid #dddddd'>1.0</td><td style='border: 1px solid #dddddd'>0.0</td><td style='border: 1px solid #dddddd'>0.9514117650687695</td><td style='border: 1px solid #dddddd'>0.0</td><td style='border: 1px solid #dddddd'>[0.9514117650687695, 0.048588234931230545]</td><td style='border: 1px solid #dddddd'>0.0</td><td style='border: 1px solid #dddddd'>0.0</td><td style='border: 1px solid #dddddd'>0.048588234931230545</td><td style='border: 1px solid #dddddd'>0.0</td><td style='border: 1px solid #dddddd'>1.0</td><td style='border: 1px solid #dddddd'>0.0</td><td style='border: 1px solid #dddddd'>0.0</td><td style='border: 1px solid #dddddd'>0.0</td><td style='border: 1px solid #dddddd'>0.0</td><td style='border: 1px solid #dddddd'>0.0</td><td style='border: 1px solid #dddddd'>1.0</td><td style='border: 1px solid #dddddd'>0.0</td><td style='border: 1px solid #dddddd'>1.0</td><td style='border: 1px solid #dddddd'>0.0</td><td style='border: 1px solid #dddddd'>0.0</td><td style='border: 1px solid #dddddd'>0.0</td><td style='border: 1px solid #dddddd'>1.0</td><td style='border: 1px solid #dddddd'>0.0</td><td style='border: 1px solid #dddddd'>0.0</td><td style='border: 1px solid #dddddd'>1.0</td><td style='border: 1px solid #dddddd'>0.0</td><td style='border: 1px solid #dddddd'>1.0</td><td style='border: 1px solid #dddddd'>1.0</td><td style='border: 1px solid #dddddd'>0.0</td><td style='border: 1px solid #dddddd'>12.0</td><td style='border: 1px solid #dddddd'>30.0</td><td style='border: 1px solid #dddddd'>0.0</td><td style='border: 1px solid #dddddd'>1.0</td><td style='border: 1px solid #dddddd'>1.0</td><td style='border: 1px solid #dddddd'>0.0</td><td style='border: 1px solid #dddddd'>1.0</td><td style='border: 1px solid #dddddd'>0.0</td><td style='border: 1px solid #dddddd'>1.0</td><td style='border: 1px solid #dddddd'>1.0</td><td style='border: 1px solid #dddddd'>1.0</td><td style='border: 1px solid #dddddd'>44cbb38bb2c81f10236feaff987a5bb9</td><td style='border: 1px solid #dddddd'>0.0</td><td style='border: 1px solid #dddddd'>0.0</td><td style='border: 1px solid #dddddd'>0.0</td><td style='border: 1px solid #dddddd'>0.0</td><td style='border: 1px solid #dddddd'>1.0</td><td style='border: 1px solid #dddddd'>1.0</td><td style='border: 1px solid #dddddd'>0.0</td><td style='border: 1px solid #dddddd'>0.0</td><td style='border: 1px solid #dddddd'>0</td><td style='border: 1px solid #dddddd'>0.0</td><td style='border: 1px solid #dddddd'>0.0</td><td style='border: 1px solid #dddddd'>0.0</td></tr><tr><td style='border: 1px solid #dddddd'>0.0</td><td style='border: 1px solid #dddddd'>None</td><td style='border: 1px solid #dddddd'>0.0</td><td style='border: 1px solid #dddddd'>[0.8563538193702698, 0.14364618062973022]</td><td style='border: 1px solid #dddddd'>0.0</td><td style='border: 1px solid #dddddd'>0.0</td><td style='border: 1px solid #dddddd'>0.0</td><td style='border: 1px solid #dddddd'>1387.0</td><td style='border: 1px solid #dddddd'>97093668-aebf-4167-8988-d85ac19127a9-11</td><td style='border: 1px solid #dddddd'>0.0</td><td style='border: 1px solid #dddddd'>0.0</td><td style='border: 1px solid #dddddd'>1.0</td><td style='border: 1px solid #dddddd'>2.0</td><td style='border: 1px solid #dddddd'>0</td><td style='border: 1px solid #dddddd'>0.0</td><td style='border: 1px solid #dddddd'>2021-08-05T19:24:01.277Z</td><td style='border: 1px solid #dddddd'>1.0</td><td style='border: 1px solid #dddddd'>1.0</td><td style='border: 1px solid #dddddd'>0.0</td><td style='border: 1px solid #dddddd'>0.8563538193702698</td><td style='border: 1px solid #dddddd'>0.0</td><td style='border: 1px solid #dddddd'>[0.8563538193702698, 0.14364618062973022]</td><td style='border: 1px solid #dddddd'>0.0</td><td style='border: 1px solid #dddddd'>0.0</td><td style='border: 1px solid #dddddd'>0.14364618062973022</td><td style='border: 1px solid #dddddd'>0.0</td><td style='border: 1px solid #dddddd'>1.0</td><td style='border: 1px solid #dddddd'>0.0</td><td style='border: 1px solid #dddddd'>1.0</td><td style='border: 1px solid #dddddd'>1.0</td><td style='border: 1px solid #dddddd'>0.0</td><td style='border: 1px solid #dddddd'>1.0</td><td style='border: 1px solid #dddddd'>1.0</td><td style='border: 1px solid #dddddd'>0.0</td><td style='border: 1px solid #dddddd'>0.0</td><td style='border: 1px solid #dddddd'>0.0</td><td style='border: 1px solid #dddddd'>0.0</td><td style='border: 1px solid #dddddd'>0.0</td><td style='border: 1px solid #dddddd'>1.0</td><td style='border: 1px solid #dddddd'>0.0</td><td style='border: 1px solid #dddddd'>1.0</td><td style='border: 1px solid #dddddd'>0.0</td><td style='border: 1px solid #dddddd'>0.0</td><td style='border: 1px solid #dddddd'>1.0</td><td style='border: 1px solid #dddddd'>1.0</td><td style='border: 1px solid #dddddd'>0.0</td><td style='border: 1px solid #dddddd'>16.0</td><td style='border: 1px solid #dddddd'>28.0</td><td style='border: 1px solid #dddddd'>0.0</td><td style='border: 1px solid #dddddd'>1.0</td><td style='border: 1px solid #dddddd'>3.0</td><td style='border: 1px solid #dddddd'>0.0</td><td style='border: 1px solid #dddddd'>0.0</td><td style='border: 1px solid #dddddd'>0.0</td><td style='border: 1px solid #dddddd'>0.0</td><td style='border: 1px solid #dddddd'>0.0</td><td style='border: 1px solid #dddddd'>1.0</td><td style='border: 1px solid #dddddd'>44cbb38bb2c81f10236feaff987a5bb9</td><td style='border: 1px solid #dddddd'>0.0</td><td style='border: 1px solid #dddddd'>0.0</td><td style='border: 1px solid #dddddd'>0.0</td><td style='border: 1px solid #dddddd'>0.0</td><td style='border: 1px solid #dddddd'>0.0</td><td style='border: 1px solid #dddddd'>1.0</td><td style='border: 1px solid #dddddd'>0.0</td><td style='border: 1px solid #dddddd'>0.0</td><td style='border: 1px solid #dddddd'>0</td><td style='border: 1px solid #dddddd'>0.0</td><td style='border: 1px solid #dddddd'>0.0</td><td style='border: 1px solid #dddddd'>0.0</td></tr><tr><td style='border: 1px solid #dddddd'>1.0</td><td style='border: 1px solid #dddddd'>None</td><td style='border: 1px solid #dddddd'>0.0</td><td style='border: 1px solid #dddddd'>[0.5535019040107727, 0.4464980959892273]</td><td style='border: 1px solid #dddddd'>0.0</td><td style='border: 1px solid #dddddd'>0.0</td><td style='border: 1px solid #dddddd'>0.0</td><td style='border: 1px solid #dddddd'>6225.0</td><td style='border: 1px solid #dddddd'>97093668-aebf-4167-8988-d85ac19127a9-12</td><td style='border: 1px solid #dddddd'>0.0</td><td style='border: 1px solid #dddddd'>0.0</td><td style='border: 1px solid #dddddd'>1.0</td><td style='border: 1px solid #dddddd'>3.0</td><td style='border: 1px solid #dddddd'>0</td><td style='border: 1px solid #dddddd'>0.0</td><td style='border: 1px solid #dddddd'>2021-08-05T19:24:01.277Z</td><td style='border: 1px solid #dddddd'>0.0</td><td style='border: 1px solid #dddddd'>1.0</td><td style='border: 1px solid #dddddd'>0.0</td><td style='border: 1px solid #dddddd'>0.5535019040107727</td><td style='border: 1px solid #dddddd'>0.0</td><td style='border: 1px solid #dddddd'>[0.5535019040107727, 0.4464980959892273]</td><td style='border: 1px solid #dddddd'>0.0</td><td style='border: 1px solid #dddddd'>0.0</td><td style='border: 1px solid #dddddd'>0.4464980959892273</td><td style='border: 1px solid #dddddd'>0.0</td><td style='border: 1px solid #dddddd'>0.0</td><td style='border: 1px solid #dddddd'>0.0</td><td style='border: 1px solid #dddddd'>0.0</td><td style='border: 1px solid #dddddd'>1.0</td><td style='border: 1px solid #dddddd'>0.0</td><td style='border: 1px solid #dddddd'>1.0</td><td style='border: 1px solid #dddddd'>1.0</td><td style='border: 1px solid #dddddd'>0.0</td><td style='border: 1px solid #dddddd'>0.0</td><td style='border: 1px solid #dddddd'>0.0</td><td style='border: 1px solid #dddddd'>0.0</td><td style='border: 1px solid #dddddd'>0.0</td><td style='border: 1px solid #dddddd'>1.0</td><td style='border: 1px solid #dddddd'>0.0</td><td style='border: 1px solid #dddddd'>0.0</td><td style='border: 1px solid #dddddd'>0.0</td><td style='border: 1px solid #dddddd'>0.0</td><td style='border: 1px solid #dddddd'>0.0</td><td style='border: 1px solid #dddddd'>1.0</td><td style='border: 1px solid #dddddd'>1.0</td><td style='border: 1px solid #dddddd'>25.0</td><td style='border: 1px solid #dddddd'>40.0</td><td style='border: 1px solid #dddddd'>1.0</td><td style='border: 1px solid #dddddd'>1.0</td><td style='border: 1px solid #dddddd'>4.0</td><td style='border: 1px solid #dddddd'>0.0</td><td style='border: 1px solid #dddddd'>0.0</td><td style='border: 1px solid #dddddd'>0.0</td><td style='border: 1px solid #dddddd'>0.0</td><td style='border: 1px solid #dddddd'>0.0</td><td style='border: 1px solid #dddddd'>2.0</td><td style='border: 1px solid #dddddd'>44cbb38bb2c81f10236feaff987a5bb9</td><td style='border: 1px solid #dddddd'>0.0</td><td style='border: 1px solid #dddddd'>1.0</td><td style='border: 1px solid #dddddd'>1.0</td><td style='border: 1px solid #dddddd'>0.0</td><td style='border: 1px solid #dddddd'>0.0</td><td style='border: 1px solid #dddddd'>1.0</td><td style='border: 1px solid #dddddd'>0.0</td><td style='border: 1px solid #dddddd'>0.0</td><td style='border: 1px solid #dddddd'>0</td><td style='border: 1px solid #dddddd'>0.0</td><td style='border: 1px solid #dddddd'>0.0</td><td style='border: 1px solid #dddddd'>0.0</td></tr><tr><td style='border: 1px solid #dddddd'>1.0</td><td style='border: 1px solid #dddddd'>None</td><td style='border: 1px solid #dddddd'>0.0</td><td style='border: 1px solid #dddddd'>[0.3814590573310852, 0.6185409426689148]</td><td style='border: 1px solid #dddddd'>1.0</td><td style='border: 1px solid #dddddd'>0.0</td><td style='border: 1px solid #dddddd'>0.0</td><td style='border: 1px solid #dddddd'>4424.0</td><td style='border: 1px solid #dddddd'>97093668-aebf-4167-8988-d85ac19127a9-13</td><td style='border: 1px solid #dddddd'>0.0</td><td style='border: 1px solid #dddddd'>0.0</td><td style='border: 1px solid #dddddd'>1.0</td><td style='border: 1px solid #dddddd'>3.0</td><td style='border: 1px solid #dddddd'>1</td><td style='border: 1px solid #dddddd'>0.0</td><td style='border: 1px solid #dddddd'>2021-08-05T19:24:01.277Z</td><td style='border: 1px solid #dddddd'>0.0</td><td style='border: 1px solid #dddddd'>1.0</td><td style='border: 1px solid #dddddd'>0.0</td><td style='border: 1px solid #dddddd'>0.6185409426689148</td><td style='border: 1px solid #dddddd'>0.0</td><td style='border: 1px solid #dddddd'>[0.3814590573310852, 0.6185409426689148]</td><td style='border: 1px solid #dddddd'>0.0</td><td style='border: 1px solid #dddddd'>0.0</td><td style='border: 1px solid #dddddd'>0.6185409426689148</td><td style='border: 1px solid #dddddd'>0.0</td><td style='border: 1px solid #dddddd'>0.0</td><td style='border: 1px solid #dddddd'>1.0</td><td style='border: 1px solid #dddddd'>0.0</td><td style='border: 1px solid #dddddd'>1.0</td><td style='border: 1px solid #dddddd'>0.0</td><td style='border: 1px solid #dddddd'>1.0</td><td style='border: 1px solid #dddddd'>1.0</td><td style='border: 1px solid #dddddd'>0.0</td><td style='border: 1px solid #dddddd'>0.0</td><td style='border: 1px solid #dddddd'>0.0</td><td style='border: 1px solid #dddddd'>0.0</td><td style='border: 1px solid #dddddd'>0.0</td><td style='border: 1px solid #dddddd'>1.0</td><td style='border: 1px solid #dddddd'>0.0</td><td style='border: 1px solid #dddddd'>0.0</td><td style='border: 1px solid #dddddd'>1.0</td><td style='border: 1px solid #dddddd'>0.0</td><td style='border: 1px solid #dddddd'>0.0</td><td style='border: 1px solid #dddddd'>0.0</td><td style='border: 1px solid #dddddd'>0.0</td><td style='border: 1px solid #dddddd'>32.0</td><td style='border: 1px solid #dddddd'>32.0</td><td style='border: 1px solid #dddddd'>0.0</td><td style='border: 1px solid #dddddd'>1.0</td><td style='border: 1px solid #dddddd'>4.0</td><td style='border: 1px solid #dddddd'>1.0</td><td style='border: 1px solid #dddddd'>0.0</td><td style='border: 1px solid #dddddd'>0.0</td><td style='border: 1px solid #dddddd'>0.0</td><td style='border: 1px solid #dddddd'>0.0</td><td style='border: 1px solid #dddddd'>2.0</td><td style='border: 1px solid #dddddd'>44cbb38bb2c81f10236feaff987a5bb9</td><td style='border: 1px solid #dddddd'>0.0</td><td style='border: 1px solid #dddddd'>0.0</td><td style='border: 1px solid #dddddd'>0.0</td><td style='border: 1px solid #dddddd'>1.0</td><td style='border: 1px solid #dddddd'>0.0</td><td style='border: 1px solid #dddddd'>1.0</td><td style='border: 1px solid #dddddd'>0.0</td><td style='border: 1px solid #dddddd'>0.0</td><td style='border: 1px solid #dddddd'>1</td><td style='border: 1px solid #dddddd'>0.0</td><td style='border: 1px solid #dddddd'>0.0</td><td style='border: 1px solid #dddddd'>0.0</td></tr><tr><td style='border: 1px solid #dddddd'>0.0</td><td style='border: 1px solid #dddddd'>None</td><td style='border: 1px solid #dddddd'>0.0</td><td style='border: 1px solid #dddddd'>[0.9773842208087444, 0.02261577919125557]</td><td style='border: 1px solid #dddddd'>0.0</td><td style='border: 1px solid #dddddd'>1.0</td><td style='border: 1px solid #dddddd'>0.0</td><td style='border: 1px solid #dddddd'>2244.0</td><td style='border: 1px solid #dddddd'>97093668-aebf-4167-8988-d85ac19127a9-14</td><td style='border: 1px solid #dddddd'>0.0</td><td style='border: 1px solid #dddddd'>0.0</td><td style='border: 1px solid #dddddd'>1.0</td><td style='border: 1px solid #dddddd'>2.0</td><td style='border: 1px solid #dddddd'>0</td><td style='border: 1px solid #dddddd'>0.0</td><td style='border: 1px solid #dddddd'>2021-08-05T19:24:01.277Z</td><td style='border: 1px solid #dddddd'>1.0</td><td style='border: 1px solid #dddddd'>1.0</td><td style='border: 1px solid #dddddd'>0.0</td><td style='border: 1px solid #dddddd'>0.9773842208087444</td><td style='border: 1px solid #dddddd'>0.0</td><td style='border: 1px solid #dddddd'>[0.9773842208087444, 0.02261577919125557]</td><td style='border: 1px solid #dddddd'>0.0</td><td style='border: 1px solid #dddddd'>0.0</td><td style='border: 1px solid #dddddd'>0.02261577919125557</td><td style='border: 1px solid #dddddd'>1.0</td><td style='border: 1px solid #dddddd'>1.0</td><td style='border: 1px solid #dddddd'>0.0</td><td style='border: 1px solid #dddddd'>1.0</td><td style='border: 1px solid #dddddd'>1.0</td><td style='border: 1px solid #dddddd'>0.0</td><td style='border: 1px solid #dddddd'>0.0</td><td style='border: 1px solid #dddddd'>1.0</td><td style='border: 1px solid #dddddd'>0.0</td><td style='border: 1px solid #dddddd'>0.0</td><td style='border: 1px solid #dddddd'>0.0</td><td style='border: 1px solid #dddddd'>0.0</td><td style='border: 1px solid #dddddd'>0.0</td><td style='border: 1px solid #dddddd'>1.0</td><td style='border: 1px solid #dddddd'>0.0</td><td style='border: 1px solid #dddddd'>0.0</td><td style='border: 1px solid #dddddd'>0.0</td><td style='border: 1px solid #dddddd'>0.0</td><td style='border: 1px solid #dddddd'>1.0</td><td style='border: 1px solid #dddddd'>0.0</td><td style='border: 1px solid #dddddd'>0.0</td><td style='border: 1px solid #dddddd'>14.0</td><td style='border: 1px solid #dddddd'>21.0</td><td style='border: 1px solid #dddddd'>0.0</td><td style='border: 1px solid #dddddd'>1.0</td><td style='border: 1px solid #dddddd'>3.0</td><td style='border: 1px solid #dddddd'>0.0</td><td style='border: 1px solid #dddddd'>0.0</td><td style='border: 1px solid #dddddd'>0.0</td><td style='border: 1px solid #dddddd'>1.0</td><td style='border: 1px solid #dddddd'>0.0</td><td style='border: 1px solid #dddddd'>1.0</td><td style='border: 1px solid #dddddd'>44cbb38bb2c81f10236feaff987a5bb9</td><td style='border: 1px solid #dddddd'>0.0</td><td style='border: 1px solid #dddddd'>0.0</td><td style='border: 1px solid #dddddd'>0.0</td><td style='border: 1px solid #dddddd'>0.0</td><td style='border: 1px solid #dddddd'>0.0</td><td style='border: 1px solid #dddddd'>1.0</td><td style='border: 1px solid #dddddd'>0.0</td><td style='border: 1px solid #dddddd'>0.0</td><td style='border: 1px solid #dddddd'>0</td><td style='border: 1px solid #dddddd'>0.0</td><td style='border: 1px solid #dddddd'>0.0</td><td style='border: 1px solid #dddddd'>0.0</td></tr><tr><td style='border: 1px solid #dddddd'>1.0</td><td style='border: 1px solid #dddddd'>None</td><td style='border: 1px solid #dddddd'>0.0</td><td style='border: 1px solid #dddddd'>[0.3769074082374573, 0.6230925917625427]</td><td style='border: 1px solid #dddddd'>1.0</td><td style='border: 1px solid #dddddd'>0.0</td><td style='border: 1px solid #dddddd'>0.0</td><td style='border: 1px solid #dddddd'>2992.0</td><td style='border: 1px solid #dddddd'>97093668-aebf-4167-8988-d85ac19127a9-15</td><td style='border: 1px solid #dddddd'>0.0</td><td style='border: 1px solid #dddddd'>0.0</td><td style='border: 1px solid #dddddd'>1.0</td><td style='border: 1px solid #dddddd'>4.0</td><td style='border: 1px solid #dddddd'>1</td><td style='border: 1px solid #dddddd'>0.0</td><td style='border: 1px solid #dddddd'>2021-08-05T19:24:01.277Z</td><td style='border: 1px solid #dddddd'>0.0</td><td style='border: 1px solid #dddddd'>1.0</td><td style='border: 1px solid #dddddd'>0.0</td><td style='border: 1px solid #dddddd'>0.6230925917625427</td><td style='border: 1px solid #dddddd'>0.0</td><td style='border: 1px solid #dddddd'>[0.3769074082374573, 0.6230925917625427]</td><td style='border: 1px solid #dddddd'>0.0</td><td style='border: 1px solid #dddddd'>0.0</td><td style='border: 1px solid #dddddd'>0.6230925917625427</td><td style='border: 1px solid #dddddd'>0.0</td><td style='border: 1px solid #dddddd'>0.0</td><td style='border: 1px solid #dddddd'>1.0</td><td style='border: 1px solid #dddddd'>0.0</td><td style='border: 1px solid #dddddd'>1.0</td><td style='border: 1px solid #dddddd'>1.0</td><td style='border: 1px solid #dddddd'>0.0</td><td style='border: 1px solid #dddddd'>1.0</td><td style='border: 1px solid #dddddd'>0.0</td><td style='border: 1px solid #dddddd'>0.0</td><td style='border: 1px solid #dddddd'>0.0</td><td style='border: 1px solid #dddddd'>0.0</td><td style='border: 1px solid #dddddd'>0.0</td><td style='border: 1px solid #dddddd'>1.0</td><td style='border: 1px solid #dddddd'>0.0</td><td style='border: 1px solid #dddddd'>0.0</td><td style='border: 1px solid #dddddd'>0.0</td><td style='border: 1px solid #dddddd'>0.0</td><td style='border: 1px solid #dddddd'>0.0</td><td style='border: 1px solid #dddddd'>0.0</td><td style='border: 1px solid #dddddd'>0.0</td><td style='border: 1px solid #dddddd'>36.0</td><td style='border: 1px solid #dddddd'>53.0</td><td style='border: 1px solid #dddddd'>0.0</td><td style='border: 1px solid #dddddd'>1.0</td><td style='border: 1px solid #dddddd'>4.0</td><td style='border: 1px solid #dddddd'>0.0</td><td style='border: 1px solid #dddddd'>0.0</td><td style='border: 1px solid #dddddd'>0.0</td><td style='border: 1px solid #dddddd'>0.0</td><td style='border: 1px solid #dddddd'>1.0</td><td style='border: 1px solid #dddddd'>2.0</td><td style='border: 1px solid #dddddd'>44cbb38bb2c81f10236feaff987a5bb9</td><td style='border: 1px solid #dddddd'>0.0</td><td style='border: 1px solid #dddddd'>0.0</td><td style='border: 1px solid #dddddd'>0.0</td><td style='border: 1px solid #dddddd'>0.0</td><td style='border: 1px solid #dddddd'>0.0</td><td style='border: 1px solid #dddddd'>1.0</td><td style='border: 1px solid #dddddd'>1.0</td><td style='border: 1px solid #dddddd'>0.0</td><td style='border: 1px solid #dddddd'>1</td><td style='border: 1px solid #dddddd'>0.0</td><td style='border: 1px solid #dddddd'>0.0</td><td style='border: 1px solid #dddddd'>1.0</td></tr><tr><td style='border: 1px solid #dddddd'>1.0</td><td style='border: 1px solid #dddddd'>None</td><td style='border: 1px solid #dddddd'>0.0</td><td style='border: 1px solid #dddddd'>[0.6244255900382996, 0.37557440996170044]</td><td style='border: 1px solid #dddddd'>1.0</td><td style='border: 1px solid #dddddd'>0.0</td><td style='border: 1px solid #dddddd'>0.0</td><td style='border: 1px solid #dddddd'>2034.0</td><td style='border: 1px solid #dddddd'>97093668-aebf-4167-8988-d85ac19127a9-16</td><td style='border: 1px solid #dddddd'>0.0</td><td style='border: 1px solid #dddddd'>0.0</td><td style='border: 1px solid #dddddd'>1.0</td><td style='border: 1px solid #dddddd'>4.0</td><td style='border: 1px solid #dddddd'>0</td><td style='border: 1px solid #dddddd'>0.0</td><td style='border: 1px solid #dddddd'>2021-08-05T19:24:01.277Z</td><td style='border: 1px solid #dddddd'>0.0</td><td style='border: 1px solid #dddddd'>1.0</td><td style='border: 1px solid #dddddd'>0.0</td><td style='border: 1px solid #dddddd'>0.6244255900382996</td><td style='border: 1px solid #dddddd'>0.0</td><td style='border: 1px solid #dddddd'>[0.6244255900382996, 0.37557440996170044]</td><td style='border: 1px solid #dddddd'>0.0</td><td style='border: 1px solid #dddddd'>0.0</td><td style='border: 1px solid #dddddd'>0.37557440996170044</td><td style='border: 1px solid #dddddd'>0.0</td><td style='border: 1px solid #dddddd'>0.0</td><td style='border: 1px solid #dddddd'>0.0</td><td style='border: 1px solid #dddddd'>0.0</td><td style='border: 1px solid #dddddd'>1.0</td><td style='border: 1px solid #dddddd'>0.0</td><td style='border: 1px solid #dddddd'>0.0</td><td style='border: 1px solid #dddddd'>0.0</td><td style='border: 1px solid #dddddd'>0.0</td><td style='border: 1px solid #dddddd'>0.0</td><td style='border: 1px solid #dddddd'>0.0</td><td style='border: 1px solid #dddddd'>0.0</td><td style='border: 1px solid #dddddd'>1.0</td><td style='border: 1px solid #dddddd'>1.0</td><td style='border: 1px solid #dddddd'>1.0</td><td style='border: 1px solid #dddddd'>0.0</td><td style='border: 1px solid #dddddd'>0.0</td><td style='border: 1px solid #dddddd'>0.0</td><td style='border: 1px solid #dddddd'>0.0</td><td style='border: 1px solid #dddddd'>0.0</td><td style='border: 1px solid #dddddd'>0.0</td><td style='border: 1px solid #dddddd'>20.0</td><td style='border: 1px solid #dddddd'>47.0</td><td style='border: 1px solid #dddddd'>0.0</td><td style='border: 1px solid #dddddd'>1.0</td><td style='border: 1px solid #dddddd'>3.0</td><td style='border: 1px solid #dddddd'>0.0</td><td style='border: 1px solid #dddddd'>0.0</td><td style='border: 1px solid #dddddd'>0.0</td><td style='border: 1px solid #dddddd'>1.0</td><td style='border: 1px solid #dddddd'>1.0</td><td style='border: 1px solid #dddddd'>2.0</td><td style='border: 1px solid #dddddd'>44cbb38bb2c81f10236feaff987a5bb9</td><td style='border: 1px solid #dddddd'>0.0</td><td style='border: 1px solid #dddddd'>0.0</td><td style='border: 1px solid #dddddd'>1.0</td><td style='border: 1px solid #dddddd'>0.0</td><td style='border: 1px solid #dddddd'>0.0</td><td style='border: 1px solid #dddddd'>1.0</td><td style='border: 1px solid #dddddd'>0.0</td><td style='border: 1px solid #dddddd'>0.0</td><td style='border: 1px solid #dddddd'>0</td><td style='border: 1px solid #dddddd'>0.0</td><td style='border: 1px solid #dddddd'>0.0</td><td style='border: 1px solid #dddddd'>1.0</td></tr><tr><td style='border: 1px solid #dddddd'>0.0</td><td style='border: 1px solid #dddddd'>None</td><td style='border: 1px solid #dddddd'>0.0</td><td style='border: 1px solid #dddddd'>[0.9635847955942154, 0.03641520440578461]</td><td style='border: 1px solid #dddddd'>0.0</td><td style='border: 1px solid #dddddd'>1.0</td><td style='border: 1px solid #dddddd'>0.0</td><td style='border: 1px solid #dddddd'>2804.0</td><td style='border: 1px solid #dddddd'>97093668-aebf-4167-8988-d85ac19127a9-17</td><td style='border: 1px solid #dddddd'>0.0</td><td style='border: 1px solid #dddddd'>0.0</td><td style='border: 1px solid #dddddd'>1.0</td><td style='border: 1px solid #dddddd'>3.0</td><td style='border: 1px solid #dddddd'>0</td><td style='border: 1px solid #dddddd'>0.0</td><td style='border: 1px solid #dddddd'>2021-08-05T19:24:01.277Z</td><td style='border: 1px solid #dddddd'>0.0</td><td style='border: 1px solid #dddddd'>1.0</td><td style='border: 1px solid #dddddd'>0.0</td><td style='border: 1px solid #dddddd'>0.9635847955942154</td><td style='border: 1px solid #dddddd'>0.0</td><td style='border: 1px solid #dddddd'>[0.9635847955942154, 0.03641520440578461]</td><td style='border: 1px solid #dddddd'>0.0</td><td style='border: 1px solid #dddddd'>0.0</td><td style='border: 1px solid #dddddd'>0.03641520440578461</td><td style='border: 1px solid #dddddd'>0.0</td><td style='border: 1px solid #dddddd'>1.0</td><td style='border: 1px solid #dddddd'>1.0</td><td style='border: 1px solid #dddddd'>0.0</td><td style='border: 1px solid #dddddd'>0.0</td><td style='border: 1px solid #dddddd'>0.0</td><td style='border: 1px solid #dddddd'>0.0</td><td style='border: 1px solid #dddddd'>1.0</td><td style='border: 1px solid #dddddd'>0.0</td><td style='border: 1px solid #dddddd'>1.0</td><td style='border: 1px solid #dddddd'>0.0</td><td style='border: 1px solid #dddddd'>0.0</td><td style='border: 1px solid #dddddd'>0.0</td><td style='border: 1px solid #dddddd'>1.0</td><td style='border: 1px solid #dddddd'>0.0</td><td style='border: 1px solid #dddddd'>0.0</td><td style='border: 1px solid #dddddd'>0.0</td><td style='border: 1px solid #dddddd'>1.0</td><td style='border: 1px solid #dddddd'>1.0</td><td style='border: 1px solid #dddddd'>1.0</td><td style='border: 1px solid #dddddd'>0.0</td><td style='border: 1px solid #dddddd'>19.0</td><td style='border: 1px solid #dddddd'>31.0</td><td style='border: 1px solid #dddddd'>0.0</td><td style='border: 1px solid #dddddd'>1.0</td><td style='border: 1px solid #dddddd'>2.0</td><td style='border: 1px solid #dddddd'>0.0</td><td style='border: 1px solid #dddddd'>0.0</td><td style='border: 1px solid #dddddd'>0.0</td><td style='border: 1px solid #dddddd'>0.0</td><td style='border: 1px solid #dddddd'>0.0</td><td style='border: 1px solid #dddddd'>1.0</td><td style='border: 1px solid #dddddd'>44cbb38bb2c81f10236feaff987a5bb9</td><td style='border: 1px solid #dddddd'>0.0</td><td style='border: 1px solid #dddddd'>1.0</td><td style='border: 1px solid #dddddd'>0.0</td><td style='border: 1px solid #dddddd'>0.0</td><td style='border: 1px solid #dddddd'>0.0</td><td style='border: 1px solid #dddddd'>1.0</td><td style='border: 1px solid #dddddd'>0.0</td><td style='border: 1px solid #dddddd'>0.0</td><td style='border: 1px solid #dddddd'>0</td><td style='border: 1px solid #dddddd'>0.0</td><td style='border: 1px solid #dddddd'>0.0</td><td style='border: 1px solid #dddddd'>0.0</td></tr><tr><td style='border: 1px solid #dddddd'>0.0</td><td style='border: 1px solid #dddddd'>None</td><td style='border: 1px solid #dddddd'>0.0</td><td style='border: 1px solid #dddddd'>[0.9732914064079523, 0.02670859359204769]</td><td style='border: 1px solid #dddddd'>0.0</td><td style='border: 1px solid #dddddd'>1.0</td><td style='border: 1px solid #dddddd'>0.0</td><td style='border: 1px solid #dddddd'>259.0</td><td style='border: 1px solid #dddddd'>97093668-aebf-4167-8988-d85ac19127a9-18</td><td style='border: 1px solid #dddddd'>0.0</td><td style='border: 1px solid #dddddd'>0.0</td><td style='border: 1px solid #dddddd'>1.0</td><td style='border: 1px solid #dddddd'>2.0</td><td style='border: 1px solid #dddddd'>0</td><td style='border: 1px solid #dddddd'>0.0</td><td style='border: 1px solid #dddddd'>2021-08-05T19:24:01.277Z</td><td style='border: 1px solid #dddddd'>0.0</td><td style='border: 1px solid #dddddd'>1.0</td><td style='border: 1px solid #dddddd'>0.0</td><td style='border: 1px solid #dddddd'>0.9732914064079523</td><td style='border: 1px solid #dddddd'>0.0</td><td style='border: 1px solid #dddddd'>[0.9732914064079523, 0.02670859359204769]</td><td style='border: 1px solid #dddddd'>0.0</td><td style='border: 1px solid #dddddd'>0.0</td><td style='border: 1px solid #dddddd'>0.02670859359204769</td><td style='border: 1px solid #dddddd'>1.0</td><td style='border: 1px solid #dddddd'>1.0</td><td style='border: 1px solid #dddddd'>0.0</td><td style='border: 1px solid #dddddd'>0.0</td><td style='border: 1px solid #dddddd'>1.0</td><td style='border: 1px solid #dddddd'>0.0</td><td style='border: 1px solid #dddddd'>0.0</td><td style='border: 1px solid #dddddd'>0.0</td><td style='border: 1px solid #dddddd'>0.0</td><td style='border: 1px solid #dddddd'>0.0</td><td style='border: 1px solid #dddddd'>0.0</td><td style='border: 1px solid #dddddd'>0.0</td><td style='border: 1px solid #dddddd'>0.0</td><td style='border: 1px solid #dddddd'>1.0</td><td style='border: 1px solid #dddddd'>1.0</td><td style='border: 1px solid #dddddd'>0.0</td><td style='border: 1px solid #dddddd'>0.0</td><td style='border: 1px solid #dddddd'>0.0</td><td style='border: 1px solid #dddddd'>0.0</td><td style='border: 1px solid #dddddd'>0.0</td><td style='border: 1px solid #dddddd'>1.0</td><td style='border: 1px solid #dddddd'>10.0</td><td style='border: 1px solid #dddddd'>29.0</td><td style='border: 1px solid #dddddd'>0.0</td><td style='border: 1px solid #dddddd'>1.0</td><td style='border: 1px solid #dddddd'>2.0</td><td style='border: 1px solid #dddddd'>0.0</td><td style='border: 1px solid #dddddd'>0.0</td><td style='border: 1px solid #dddddd'>0.0</td><td style='border: 1px solid #dddddd'>1.0</td><td style='border: 1px solid #dddddd'>0.0</td><td style='border: 1px solid #dddddd'>1.0</td><td style='border: 1px solid #dddddd'>44cbb38bb2c81f10236feaff987a5bb9</td><td style='border: 1px solid #dddddd'>0.0</td><td style='border: 1px solid #dddddd'>1.0</td><td style='border: 1px solid #dddddd'>1.0</td><td style='border: 1px solid #dddddd'>0.0</td><td style='border: 1px solid #dddddd'>0.0</td><td style='border: 1px solid #dddddd'>1.0</td><td style='border: 1px solid #dddddd'>0.0</td><td style='border: 1px solid #dddddd'>0.0</td><td style='border: 1px solid #dddddd'>0</td><td style='border: 1px solid #dddddd'>0.0</td><td style='border: 1px solid #dddddd'>0.0</td><td style='border: 1px solid #dddddd'>0.0</td></tr>\n",
       "            </table>\n",
       "        </body>\n",
       "        </HTML>"
      ],
      "text/plain": [
       "<IPython.core.display.HTML object>"
      ]
     },
     "metadata": {},
     "output_type": "display_data"
    }
   ],
   "source": [
    "wos_client.data_sets.show_records(data_set_id=payload_data_set_id)"
   ]
  },
  {
   "cell_type": "code",
   "execution_count": 81,
   "metadata": {},
   "outputs": [
    {
     "name": "stdout",
     "output_type": "stream",
     "text": [
      "Running explanations on scoring IDs: ['97093668-aebf-4167-8988-d85ac19127a9-1', '97093668-aebf-4167-8988-d85ac19127a9-10', '97093668-aebf-4167-8988-d85ac19127a9-11', '97093668-aebf-4167-8988-d85ac19127a9-12', '97093668-aebf-4167-8988-d85ac19127a9-13']\n",
      "{\n",
      "  \"metadata\": {\n",
      "    \"explanation_task_ids\": [\n",
      "      \"f1f0380e-fa15-4822-a493-44df67a62614\",\n",
      "      \"ce9bbed9-6c47-4c09-9582-00aa326df1a0\",\n",
      "      \"3d241fad-e7e3-4dbb-970a-9d3b619b8051\",\n",
      "      \"9f376f22-41d9-4b75-9675-1717a3b62c53\",\n",
      "      \"fa819977-cd41-4854-af99-efd0838df930\"\n",
      "    ],\n",
      "    \"created_by\": \"IBMid-50M71Q0T71\",\n",
      "    \"created_at\": \"2021-08-05T19:26:57.559424Z\"\n",
      "  }\n",
      "}\n"
     ]
    },
    {
     "data": {
      "text/plain": [
       "'f1f0380e-fa15-4822-a493-44df67a62614'"
      ]
     },
     "execution_count": 81,
     "metadata": {},
     "output_type": "execute_result"
    }
   ],
   "source": [
    "payload_data = wos_client.data_sets.get_list_of_records(limit=5,data_set_id=payload_data_set_id,output_type='pandas').result\n",
    "scoring_ids=payload_data['scoring_id'].tolist()\n",
    "print(\"Running explanations on scoring IDs: {}\".format(scoring_ids))\n",
    "explanation_types = [\"lime\", \"contrastive\"]\n",
    "result = wos_client.monitor_instances.explanation_tasks(scoring_ids=scoring_ids, explanation_types=explanation_types).result\n",
    "print(result)\n",
    "explanation_task_id=result.to_dict()['metadata']['explanation_task_ids'][0]\n",
    "explanation_task_id"
   ]
  },
  {
   "cell_type": "code",
   "execution_count": 82,
   "metadata": {},
   "outputs": [
    {
     "data": {
      "text/plain": [
       "{'metadata': {'explanation_task_id': 'f1f0380e-fa15-4822-a493-44df67a62614',\n",
       "  'created_by': 'IBMid-50M71Q0T71',\n",
       "  'created_at': '2021-08-05T19:26:57.559424Z',\n",
       "  'updated_at': '2021-08-05T19:27:01.715309Z'},\n",
       " 'entity': {'status': {'state': 'in_progress'},\n",
       "  'asset': {'id': '9345b2a3d122475ee4ea44be26d16df4',\n",
       "   'name': 'Credit-risk-linear-learner-2021-08-05-17-39',\n",
       "   'input_data_type': 'structured',\n",
       "   'problem_type': 'binary',\n",
       "   'deployment': {'id': '44cbb38bb2c81f10236feaff987a5bb9',\n",
       "    'name': 'Credit-risk-endpoint-scoring-2021-08-05-17-39'}},\n",
       "  'scoring_id': '97093668-aebf-4167-8988-d85ac19127a9-1'}}"
      ]
     },
     "execution_count": 82,
     "metadata": {},
     "output_type": "execute_result"
    }
   ],
   "source": [
    "wos_client.monitor_instances.get_explanation_tasks(explanation_task_id=explanation_task_id).result.to_dict()"
   ]
  },
  {
   "cell_type": "markdown",
   "metadata": {},
   "source": [
    "## Congratulations\n",
    "\n",
    "You have finished the tutorial for IBM Watson OpenScale and AWS Machine Learning Studio. You can now view the [OpenScale Dashboard](https://aiopenscale.cloud.ibm.com/). Click on the tile for the German Credit AWS model to see fairness, accuracy, and performance monitors. Click on the timeseries graph to get detailed information on transactions during a specific time window."
   ]
  },
  {
   "cell_type": "markdown",
   "metadata": {},
   "source": [
    "---"
   ]
  }
 ],
 "metadata": {
  "kernelspec": {
   "display_name": "Python 3.8",
   "language": "python",
   "name": "python3"
  },
  "language_info": {
   "codemirror_mode": {
    "name": "ipython",
    "version": 3
   },
   "file_extension": ".py",
   "mimetype": "text/x-python",
   "name": "python",
   "nbconvert_exporter": "python",
   "pygments_lexer": "ipython3",
   "version": "3.8.10"
  },
  "varInspector": {
   "cols": {
    "lenName": 16,
    "lenType": 16,
    "lenVar": 40
   },
   "kernels_config": {
    "python": {
     "delete_cmd_postfix": "",
     "delete_cmd_prefix": "del ",
     "library": "var_list.py",
     "varRefreshCmd": "print(var_dic_list())"
    },
    "r": {
     "delete_cmd_postfix": ") ",
     "delete_cmd_prefix": "rm(",
     "library": "var_list.r",
     "varRefreshCmd": "cat(var_dic_list()) "
    }
   },
   "types_to_exclude": [
    "module",
    "function",
    "builtin_function_or_method",
    "instance",
    "_Feature"
   ],
   "window_display": false
  }
 },
 "nbformat": 4,
 "nbformat_minor": 1
}
